{
 "cells": [
  {
   "cell_type": "markdown",
   "metadata": {},
   "source": [
    "## Подготовка данных"
   ]
  },
  {
   "cell_type": "markdown",
   "metadata": {},
   "source": [
    "**Описание данных**\n",
    "\n",
    "Данные находятся в файле /datasets/Churn.csv (англ. «отток клиентов»).\n",
    "\n",
    "**Признаки**\n",
    "\n",
    "RowNumber — индекс строки в данных\n",
    "\n",
    "CustomerId — уникальный идентификатор клиента\n",
    "\n",
    "Surname — фамилия\n",
    "\n",
    "CreditScore — кредитный рейтинг\n",
    "\n",
    "Geography — страна проживания\n",
    "\n",
    "Gender — пол\n",
    "\n",
    "Age — возраст\n",
    "\n",
    "Tenure — сколько лет человек является клиентом банка\n",
    "\n",
    "Balance — баланс на счёте\n",
    "\n",
    "NumOfProducts — количество продуктов банка, используемых клиентом\n",
    "\n",
    "HasCrCard — наличие кредитной карты\n",
    "\n",
    "IsActiveMember — активность клиента\n",
    "\n",
    "EstimatedSalary — предполагаемая зарплата\n",
    "\n",
    "**Целевой признак**\n",
    "\n",
    "Exited — факт ухода клиента"
   ]
  },
  {
   "cell_type": "markdown",
   "metadata": {},
   "source": [
    "<div class=\"alert alert-block alert-success\">\n",
    "<b>Успех👍:</b> \n",
    "    \n",
    "Расписать признаки - удобно)\n",
    "</div>"
   ]
  },
  {
   "cell_type": "code",
   "execution_count": 2,
   "metadata": {},
   "outputs": [
    {
     "name": "stdout",
     "output_type": "stream",
     "text": [
      "Collecting phik\n",
      "  Downloading phik-0.12.2-cp39-cp39-manylinux_2_17_x86_64.manylinux2014_x86_64.whl (709 kB)\n",
      "\u001b[K     |████████████████████████████████| 709 kB 1.3 MB/s eta 0:00:01\n",
      "\u001b[?25hRequirement already satisfied: pandas>=0.25.1 in /opt/conda/lib/python3.9/site-packages (from phik) (1.2.4)\n",
      "Requirement already satisfied: matplotlib>=2.2.3 in /opt/conda/lib/python3.9/site-packages (from phik) (3.3.4)\n",
      "Requirement already satisfied: joblib>=0.14.1 in /opt/conda/lib/python3.9/site-packages (from phik) (1.1.0)\n",
      "Requirement already satisfied: numpy>=1.18.0 in /opt/conda/lib/python3.9/site-packages (from phik) (1.21.1)\n",
      "Requirement already satisfied: scipy>=1.5.2 in /opt/conda/lib/python3.9/site-packages (from phik) (1.9.1)\n",
      "Requirement already satisfied: kiwisolver>=1.0.1 in /opt/conda/lib/python3.9/site-packages (from matplotlib>=2.2.3->phik) (1.4.4)\n",
      "Requirement already satisfied: pyparsing!=2.0.4,!=2.1.2,!=2.1.6,>=2.0.3 in /opt/conda/lib/python3.9/site-packages (from matplotlib>=2.2.3->phik) (2.4.7)\n",
      "Requirement already satisfied: python-dateutil>=2.1 in /opt/conda/lib/python3.9/site-packages (from matplotlib>=2.2.3->phik) (2.8.1)\n",
      "Requirement already satisfied: cycler>=0.10 in /opt/conda/lib/python3.9/site-packages (from matplotlib>=2.2.3->phik) (0.11.0)\n",
      "Requirement already satisfied: pillow>=6.2.0 in /opt/conda/lib/python3.9/site-packages (from matplotlib>=2.2.3->phik) (8.4.0)\n",
      "Requirement already satisfied: pytz>=2017.3 in /opt/conda/lib/python3.9/site-packages (from pandas>=0.25.1->phik) (2021.1)\n",
      "Requirement already satisfied: six>=1.5 in /opt/conda/lib/python3.9/site-packages (from python-dateutil>=2.1->matplotlib>=2.2.3->phik) (1.16.0)\n",
      "Installing collected packages: phik\n",
      "Successfully installed phik-0.12.2\n"
     ]
    }
   ],
   "source": [
    "!pip install phik"
   ]
  },
  {
   "cell_type": "code",
   "execution_count": 3,
   "metadata": {},
   "outputs": [],
   "source": [
    "# Загрузка необходимых библиотек\n",
    "import pandas as pd\n",
    "import matplotlib as plt\n",
    "from math import ceil\n",
    "import seaborn as sns\n",
    "from sklearn.model_selection import train_test_split\n",
    "from sklearn.preprocessing import StandardScaler\n",
    "\n",
    "import phik\n",
    "from phik.report import plot_correlation_matrix\n",
    "from phik import report\n",
    "from sklearn.model_selection import train_test_split\n",
    "from sklearn.preprocessing import StandardScaler\n",
    "from sklearn.ensemble import RandomForestClassifier\n",
    "from sklearn.tree import DecisionTreeClassifier\n",
    "from sklearn.linear_model import LogisticRegression\n",
    "\n",
    "from sklearn.metrics import accuracy_score\n",
    "from sklearn.metrics import f1_score \n",
    "from sklearn.metrics import precision_score \n",
    "from sklearn.metrics import recall_score \n",
    "\n",
    "from joblib import dump\n",
    "from sklearn.metrics import roc_curve \n",
    "from sklearn.metrics import roc_auc_score\n",
    "\n",
    "import numpy as np"
   ]
  },
  {
   "cell_type": "code",
   "execution_count": 4,
   "metadata": {},
   "outputs": [],
   "source": [
    "# Чтение файла\n",
    "df = pd.read_csv('/datasets/Churn.csv')"
   ]
  },
  {
   "cell_type": "code",
   "execution_count": 5,
   "metadata": {},
   "outputs": [
    {
     "data": {
      "text/html": [
       "<div>\n",
       "<style scoped>\n",
       "    .dataframe tbody tr th:only-of-type {\n",
       "        vertical-align: middle;\n",
       "    }\n",
       "\n",
       "    .dataframe tbody tr th {\n",
       "        vertical-align: top;\n",
       "    }\n",
       "\n",
       "    .dataframe thead th {\n",
       "        text-align: right;\n",
       "    }\n",
       "</style>\n",
       "<table border=\"1\" class=\"dataframe\">\n",
       "  <thead>\n",
       "    <tr style=\"text-align: right;\">\n",
       "      <th></th>\n",
       "      <th>RowNumber</th>\n",
       "      <th>CustomerId</th>\n",
       "      <th>Surname</th>\n",
       "      <th>CreditScore</th>\n",
       "      <th>Geography</th>\n",
       "      <th>Gender</th>\n",
       "      <th>Age</th>\n",
       "      <th>Tenure</th>\n",
       "      <th>Balance</th>\n",
       "      <th>NumOfProducts</th>\n",
       "      <th>HasCrCard</th>\n",
       "      <th>IsActiveMember</th>\n",
       "      <th>EstimatedSalary</th>\n",
       "      <th>Exited</th>\n",
       "    </tr>\n",
       "  </thead>\n",
       "  <tbody>\n",
       "    <tr>\n",
       "      <th>0</th>\n",
       "      <td>1</td>\n",
       "      <td>15634602</td>\n",
       "      <td>Hargrave</td>\n",
       "      <td>619</td>\n",
       "      <td>France</td>\n",
       "      <td>Female</td>\n",
       "      <td>42</td>\n",
       "      <td>2.0</td>\n",
       "      <td>0.00</td>\n",
       "      <td>1</td>\n",
       "      <td>1</td>\n",
       "      <td>1</td>\n",
       "      <td>101348.88</td>\n",
       "      <td>1</td>\n",
       "    </tr>\n",
       "    <tr>\n",
       "      <th>1</th>\n",
       "      <td>2</td>\n",
       "      <td>15647311</td>\n",
       "      <td>Hill</td>\n",
       "      <td>608</td>\n",
       "      <td>Spain</td>\n",
       "      <td>Female</td>\n",
       "      <td>41</td>\n",
       "      <td>1.0</td>\n",
       "      <td>83807.86</td>\n",
       "      <td>1</td>\n",
       "      <td>0</td>\n",
       "      <td>1</td>\n",
       "      <td>112542.58</td>\n",
       "      <td>0</td>\n",
       "    </tr>\n",
       "    <tr>\n",
       "      <th>2</th>\n",
       "      <td>3</td>\n",
       "      <td>15619304</td>\n",
       "      <td>Onio</td>\n",
       "      <td>502</td>\n",
       "      <td>France</td>\n",
       "      <td>Female</td>\n",
       "      <td>42</td>\n",
       "      <td>8.0</td>\n",
       "      <td>159660.80</td>\n",
       "      <td>3</td>\n",
       "      <td>1</td>\n",
       "      <td>0</td>\n",
       "      <td>113931.57</td>\n",
       "      <td>1</td>\n",
       "    </tr>\n",
       "    <tr>\n",
       "      <th>3</th>\n",
       "      <td>4</td>\n",
       "      <td>15701354</td>\n",
       "      <td>Boni</td>\n",
       "      <td>699</td>\n",
       "      <td>France</td>\n",
       "      <td>Female</td>\n",
       "      <td>39</td>\n",
       "      <td>1.0</td>\n",
       "      <td>0.00</td>\n",
       "      <td>2</td>\n",
       "      <td>0</td>\n",
       "      <td>0</td>\n",
       "      <td>93826.63</td>\n",
       "      <td>0</td>\n",
       "    </tr>\n",
       "    <tr>\n",
       "      <th>4</th>\n",
       "      <td>5</td>\n",
       "      <td>15737888</td>\n",
       "      <td>Mitchell</td>\n",
       "      <td>850</td>\n",
       "      <td>Spain</td>\n",
       "      <td>Female</td>\n",
       "      <td>43</td>\n",
       "      <td>2.0</td>\n",
       "      <td>125510.82</td>\n",
       "      <td>1</td>\n",
       "      <td>1</td>\n",
       "      <td>1</td>\n",
       "      <td>79084.10</td>\n",
       "      <td>0</td>\n",
       "    </tr>\n",
       "  </tbody>\n",
       "</table>\n",
       "</div>"
      ],
      "text/plain": [
       "   RowNumber  CustomerId   Surname  CreditScore Geography  Gender  Age  \\\n",
       "0          1    15634602  Hargrave          619    France  Female   42   \n",
       "1          2    15647311      Hill          608     Spain  Female   41   \n",
       "2          3    15619304      Onio          502    France  Female   42   \n",
       "3          4    15701354      Boni          699    France  Female   39   \n",
       "4          5    15737888  Mitchell          850     Spain  Female   43   \n",
       "\n",
       "   Tenure    Balance  NumOfProducts  HasCrCard  IsActiveMember  \\\n",
       "0     2.0       0.00              1          1               1   \n",
       "1     1.0   83807.86              1          0               1   \n",
       "2     8.0  159660.80              3          1               0   \n",
       "3     1.0       0.00              2          0               0   \n",
       "4     2.0  125510.82              1          1               1   \n",
       "\n",
       "   EstimatedSalary  Exited  \n",
       "0        101348.88       1  \n",
       "1        112542.58       0  \n",
       "2        113931.57       1  \n",
       "3         93826.63       0  \n",
       "4         79084.10       0  "
      ]
     },
     "execution_count": 5,
     "metadata": {},
     "output_type": "execute_result"
    }
   ],
   "source": [
    "df.head()"
   ]
  },
  {
   "cell_type": "code",
   "execution_count": 6,
   "metadata": {},
   "outputs": [
    {
     "name": "stdout",
     "output_type": "stream",
     "text": [
      "<class 'pandas.core.frame.DataFrame'>\n",
      "RangeIndex: 10000 entries, 0 to 9999\n",
      "Data columns (total 14 columns):\n",
      " #   Column           Non-Null Count  Dtype  \n",
      "---  ------           --------------  -----  \n",
      " 0   RowNumber        10000 non-null  int64  \n",
      " 1   CustomerId       10000 non-null  int64  \n",
      " 2   Surname          10000 non-null  object \n",
      " 3   CreditScore      10000 non-null  int64  \n",
      " 4   Geography        10000 non-null  object \n",
      " 5   Gender           10000 non-null  object \n",
      " 6   Age              10000 non-null  int64  \n",
      " 7   Tenure           9091 non-null   float64\n",
      " 8   Balance          10000 non-null  float64\n",
      " 9   NumOfProducts    10000 non-null  int64  \n",
      " 10  HasCrCard        10000 non-null  int64  \n",
      " 11  IsActiveMember   10000 non-null  int64  \n",
      " 12  EstimatedSalary  10000 non-null  float64\n",
      " 13  Exited           10000 non-null  int64  \n",
      "dtypes: float64(3), int64(8), object(3)\n",
      "memory usage: 1.1+ MB\n"
     ]
    }
   ],
   "source": [
    "df.info()"
   ]
  },
  {
   "cell_type": "markdown",
   "metadata": {},
   "source": [
    "Пропушены 909 строк, важно узнать что между ними общего, все они отвечают тому, сколько лет человек является клиентом банка."
   ]
  },
  {
   "cell_type": "code",
   "execution_count": 7,
   "metadata": {},
   "outputs": [
    {
     "data": {
      "text/html": [
       "<div>\n",
       "<style scoped>\n",
       "    .dataframe tbody tr th:only-of-type {\n",
       "        vertical-align: middle;\n",
       "    }\n",
       "\n",
       "    .dataframe tbody tr th {\n",
       "        vertical-align: top;\n",
       "    }\n",
       "\n",
       "    .dataframe thead th {\n",
       "        text-align: right;\n",
       "    }\n",
       "</style>\n",
       "<table border=\"1\" class=\"dataframe\">\n",
       "  <thead>\n",
       "    <tr style=\"text-align: right;\">\n",
       "      <th></th>\n",
       "      <th>RowNumber</th>\n",
       "      <th>CustomerId</th>\n",
       "      <th>CreditScore</th>\n",
       "      <th>Age</th>\n",
       "      <th>Tenure</th>\n",
       "      <th>Balance</th>\n",
       "      <th>NumOfProducts</th>\n",
       "      <th>HasCrCard</th>\n",
       "      <th>IsActiveMember</th>\n",
       "      <th>EstimatedSalary</th>\n",
       "      <th>Exited</th>\n",
       "    </tr>\n",
       "  </thead>\n",
       "  <tbody>\n",
       "    <tr>\n",
       "      <th>count</th>\n",
       "      <td>909.000000</td>\n",
       "      <td>9.090000e+02</td>\n",
       "      <td>909.000000</td>\n",
       "      <td>909.000000</td>\n",
       "      <td>0.0</td>\n",
       "      <td>909.000000</td>\n",
       "      <td>909.000000</td>\n",
       "      <td>909.000000</td>\n",
       "      <td>909.000000</td>\n",
       "      <td>909.000000</td>\n",
       "      <td>909.000000</td>\n",
       "    </tr>\n",
       "    <tr>\n",
       "      <th>mean</th>\n",
       "      <td>4866.386139</td>\n",
       "      <td>1.568981e+07</td>\n",
       "      <td>648.451045</td>\n",
       "      <td>38.647965</td>\n",
       "      <td>NaN</td>\n",
       "      <td>76117.341474</td>\n",
       "      <td>1.530253</td>\n",
       "      <td>0.710671</td>\n",
       "      <td>0.510451</td>\n",
       "      <td>99180.389373</td>\n",
       "      <td>0.201320</td>\n",
       "    </tr>\n",
       "    <tr>\n",
       "      <th>std</th>\n",
       "      <td>2909.604343</td>\n",
       "      <td>7.511225e+04</td>\n",
       "      <td>99.079381</td>\n",
       "      <td>9.785438</td>\n",
       "      <td>NaN</td>\n",
       "      <td>63105.690715</td>\n",
       "      <td>0.588452</td>\n",
       "      <td>0.453701</td>\n",
       "      <td>0.500166</td>\n",
       "      <td>56378.063765</td>\n",
       "      <td>0.401207</td>\n",
       "    </tr>\n",
       "    <tr>\n",
       "      <th>min</th>\n",
       "      <td>31.000000</td>\n",
       "      <td>1.556581e+07</td>\n",
       "      <td>359.000000</td>\n",
       "      <td>18.000000</td>\n",
       "      <td>NaN</td>\n",
       "      <td>0.000000</td>\n",
       "      <td>1.000000</td>\n",
       "      <td>0.000000</td>\n",
       "      <td>0.000000</td>\n",
       "      <td>106.670000</td>\n",
       "      <td>0.000000</td>\n",
       "    </tr>\n",
       "    <tr>\n",
       "      <th>25%</th>\n",
       "      <td>2311.000000</td>\n",
       "      <td>1.562658e+07</td>\n",
       "      <td>580.000000</td>\n",
       "      <td>32.000000</td>\n",
       "      <td>NaN</td>\n",
       "      <td>0.000000</td>\n",
       "      <td>1.000000</td>\n",
       "      <td>0.000000</td>\n",
       "      <td>0.000000</td>\n",
       "      <td>49872.330000</td>\n",
       "      <td>0.000000</td>\n",
       "    </tr>\n",
       "    <tr>\n",
       "      <th>50%</th>\n",
       "      <td>4887.000000</td>\n",
       "      <td>1.568687e+07</td>\n",
       "      <td>647.000000</td>\n",
       "      <td>37.000000</td>\n",
       "      <td>NaN</td>\n",
       "      <td>96674.550000</td>\n",
       "      <td>1.000000</td>\n",
       "      <td>1.000000</td>\n",
       "      <td>1.000000</td>\n",
       "      <td>99444.020000</td>\n",
       "      <td>0.000000</td>\n",
       "    </tr>\n",
       "    <tr>\n",
       "      <th>75%</th>\n",
       "      <td>7306.000000</td>\n",
       "      <td>1.575680e+07</td>\n",
       "      <td>718.000000</td>\n",
       "      <td>43.000000</td>\n",
       "      <td>NaN</td>\n",
       "      <td>128554.980000</td>\n",
       "      <td>2.000000</td>\n",
       "      <td>1.000000</td>\n",
       "      <td>1.000000</td>\n",
       "      <td>145759.700000</td>\n",
       "      <td>0.000000</td>\n",
       "    </tr>\n",
       "    <tr>\n",
       "      <th>max</th>\n",
       "      <td>10000.000000</td>\n",
       "      <td>1.581569e+07</td>\n",
       "      <td>850.000000</td>\n",
       "      <td>92.000000</td>\n",
       "      <td>NaN</td>\n",
       "      <td>206663.750000</td>\n",
       "      <td>4.000000</td>\n",
       "      <td>1.000000</td>\n",
       "      <td>1.000000</td>\n",
       "      <td>199390.450000</td>\n",
       "      <td>1.000000</td>\n",
       "    </tr>\n",
       "  </tbody>\n",
       "</table>\n",
       "</div>"
      ],
      "text/plain": [
       "          RowNumber    CustomerId  CreditScore         Age  Tenure  \\\n",
       "count    909.000000  9.090000e+02   909.000000  909.000000     0.0   \n",
       "mean    4866.386139  1.568981e+07   648.451045   38.647965     NaN   \n",
       "std     2909.604343  7.511225e+04    99.079381    9.785438     NaN   \n",
       "min       31.000000  1.556581e+07   359.000000   18.000000     NaN   \n",
       "25%     2311.000000  1.562658e+07   580.000000   32.000000     NaN   \n",
       "50%     4887.000000  1.568687e+07   647.000000   37.000000     NaN   \n",
       "75%     7306.000000  1.575680e+07   718.000000   43.000000     NaN   \n",
       "max    10000.000000  1.581569e+07   850.000000   92.000000     NaN   \n",
       "\n",
       "             Balance  NumOfProducts   HasCrCard  IsActiveMember  \\\n",
       "count     909.000000     909.000000  909.000000      909.000000   \n",
       "mean    76117.341474       1.530253    0.710671        0.510451   \n",
       "std     63105.690715       0.588452    0.453701        0.500166   \n",
       "min         0.000000       1.000000    0.000000        0.000000   \n",
       "25%         0.000000       1.000000    0.000000        0.000000   \n",
       "50%     96674.550000       1.000000    1.000000        1.000000   \n",
       "75%    128554.980000       2.000000    1.000000        1.000000   \n",
       "max    206663.750000       4.000000    1.000000        1.000000   \n",
       "\n",
       "       EstimatedSalary      Exited  \n",
       "count       909.000000  909.000000  \n",
       "mean      99180.389373    0.201320  \n",
       "std       56378.063765    0.401207  \n",
       "min         106.670000    0.000000  \n",
       "25%       49872.330000    0.000000  \n",
       "50%       99444.020000    0.000000  \n",
       "75%      145759.700000    0.000000  \n",
       "max      199390.450000    1.000000  "
      ]
     },
     "execution_count": 7,
     "metadata": {},
     "output_type": "execute_result"
    }
   ],
   "source": [
    "_nan = df.query('Tenure.isna()').describe()\n",
    "_nan"
   ]
  },
  {
   "cell_type": "code",
   "execution_count": 8,
   "metadata": {},
   "outputs": [
    {
     "data": {
      "text/html": [
       "<div>\n",
       "<style scoped>\n",
       "    .dataframe tbody tr th:only-of-type {\n",
       "        vertical-align: middle;\n",
       "    }\n",
       "\n",
       "    .dataframe tbody tr th {\n",
       "        vertical-align: top;\n",
       "    }\n",
       "\n",
       "    .dataframe thead th {\n",
       "        text-align: right;\n",
       "    }\n",
       "</style>\n",
       "<table border=\"1\" class=\"dataframe\">\n",
       "  <thead>\n",
       "    <tr style=\"text-align: right;\">\n",
       "      <th></th>\n",
       "      <th>RowNumber</th>\n",
       "      <th>CustomerId</th>\n",
       "      <th>CreditScore</th>\n",
       "      <th>Age</th>\n",
       "      <th>Tenure</th>\n",
       "      <th>Balance</th>\n",
       "      <th>NumOfProducts</th>\n",
       "      <th>HasCrCard</th>\n",
       "      <th>IsActiveMember</th>\n",
       "      <th>EstimatedSalary</th>\n",
       "      <th>Exited</th>\n",
       "    </tr>\n",
       "  </thead>\n",
       "  <tbody>\n",
       "    <tr>\n",
       "      <th>count</th>\n",
       "      <td>10000.00000</td>\n",
       "      <td>1.000000e+04</td>\n",
       "      <td>10000.000000</td>\n",
       "      <td>10000.000000</td>\n",
       "      <td>9091.000000</td>\n",
       "      <td>10000.000000</td>\n",
       "      <td>10000.000000</td>\n",
       "      <td>10000.00000</td>\n",
       "      <td>10000.000000</td>\n",
       "      <td>10000.000000</td>\n",
       "      <td>10000.000000</td>\n",
       "    </tr>\n",
       "    <tr>\n",
       "      <th>mean</th>\n",
       "      <td>5000.50000</td>\n",
       "      <td>1.569094e+07</td>\n",
       "      <td>650.528800</td>\n",
       "      <td>38.921800</td>\n",
       "      <td>4.997690</td>\n",
       "      <td>76485.889288</td>\n",
       "      <td>1.530200</td>\n",
       "      <td>0.70550</td>\n",
       "      <td>0.515100</td>\n",
       "      <td>100090.239881</td>\n",
       "      <td>0.203700</td>\n",
       "    </tr>\n",
       "    <tr>\n",
       "      <th>std</th>\n",
       "      <td>2886.89568</td>\n",
       "      <td>7.193619e+04</td>\n",
       "      <td>96.653299</td>\n",
       "      <td>10.487806</td>\n",
       "      <td>2.894723</td>\n",
       "      <td>62397.405202</td>\n",
       "      <td>0.581654</td>\n",
       "      <td>0.45584</td>\n",
       "      <td>0.499797</td>\n",
       "      <td>57510.492818</td>\n",
       "      <td>0.402769</td>\n",
       "    </tr>\n",
       "    <tr>\n",
       "      <th>min</th>\n",
       "      <td>1.00000</td>\n",
       "      <td>1.556570e+07</td>\n",
       "      <td>350.000000</td>\n",
       "      <td>18.000000</td>\n",
       "      <td>0.000000</td>\n",
       "      <td>0.000000</td>\n",
       "      <td>1.000000</td>\n",
       "      <td>0.00000</td>\n",
       "      <td>0.000000</td>\n",
       "      <td>11.580000</td>\n",
       "      <td>0.000000</td>\n",
       "    </tr>\n",
       "    <tr>\n",
       "      <th>25%</th>\n",
       "      <td>2500.75000</td>\n",
       "      <td>1.562853e+07</td>\n",
       "      <td>584.000000</td>\n",
       "      <td>32.000000</td>\n",
       "      <td>2.000000</td>\n",
       "      <td>0.000000</td>\n",
       "      <td>1.000000</td>\n",
       "      <td>0.00000</td>\n",
       "      <td>0.000000</td>\n",
       "      <td>51002.110000</td>\n",
       "      <td>0.000000</td>\n",
       "    </tr>\n",
       "    <tr>\n",
       "      <th>50%</th>\n",
       "      <td>5000.50000</td>\n",
       "      <td>1.569074e+07</td>\n",
       "      <td>652.000000</td>\n",
       "      <td>37.000000</td>\n",
       "      <td>5.000000</td>\n",
       "      <td>97198.540000</td>\n",
       "      <td>1.000000</td>\n",
       "      <td>1.00000</td>\n",
       "      <td>1.000000</td>\n",
       "      <td>100193.915000</td>\n",
       "      <td>0.000000</td>\n",
       "    </tr>\n",
       "    <tr>\n",
       "      <th>75%</th>\n",
       "      <td>7500.25000</td>\n",
       "      <td>1.575323e+07</td>\n",
       "      <td>718.000000</td>\n",
       "      <td>44.000000</td>\n",
       "      <td>7.000000</td>\n",
       "      <td>127644.240000</td>\n",
       "      <td>2.000000</td>\n",
       "      <td>1.00000</td>\n",
       "      <td>1.000000</td>\n",
       "      <td>149388.247500</td>\n",
       "      <td>0.000000</td>\n",
       "    </tr>\n",
       "    <tr>\n",
       "      <th>max</th>\n",
       "      <td>10000.00000</td>\n",
       "      <td>1.581569e+07</td>\n",
       "      <td>850.000000</td>\n",
       "      <td>92.000000</td>\n",
       "      <td>10.000000</td>\n",
       "      <td>250898.090000</td>\n",
       "      <td>4.000000</td>\n",
       "      <td>1.00000</td>\n",
       "      <td>1.000000</td>\n",
       "      <td>199992.480000</td>\n",
       "      <td>1.000000</td>\n",
       "    </tr>\n",
       "  </tbody>\n",
       "</table>\n",
       "</div>"
      ],
      "text/plain": [
       "         RowNumber    CustomerId   CreditScore           Age       Tenure  \\\n",
       "count  10000.00000  1.000000e+04  10000.000000  10000.000000  9091.000000   \n",
       "mean    5000.50000  1.569094e+07    650.528800     38.921800     4.997690   \n",
       "std     2886.89568  7.193619e+04     96.653299     10.487806     2.894723   \n",
       "min        1.00000  1.556570e+07    350.000000     18.000000     0.000000   \n",
       "25%     2500.75000  1.562853e+07    584.000000     32.000000     2.000000   \n",
       "50%     5000.50000  1.569074e+07    652.000000     37.000000     5.000000   \n",
       "75%     7500.25000  1.575323e+07    718.000000     44.000000     7.000000   \n",
       "max    10000.00000  1.581569e+07    850.000000     92.000000    10.000000   \n",
       "\n",
       "             Balance  NumOfProducts    HasCrCard  IsActiveMember  \\\n",
       "count   10000.000000   10000.000000  10000.00000    10000.000000   \n",
       "mean    76485.889288       1.530200      0.70550        0.515100   \n",
       "std     62397.405202       0.581654      0.45584        0.499797   \n",
       "min         0.000000       1.000000      0.00000        0.000000   \n",
       "25%         0.000000       1.000000      0.00000        0.000000   \n",
       "50%     97198.540000       1.000000      1.00000        1.000000   \n",
       "75%    127644.240000       2.000000      1.00000        1.000000   \n",
       "max    250898.090000       4.000000      1.00000        1.000000   \n",
       "\n",
       "       EstimatedSalary        Exited  \n",
       "count     10000.000000  10000.000000  \n",
       "mean     100090.239881      0.203700  \n",
       "std       57510.492818      0.402769  \n",
       "min          11.580000      0.000000  \n",
       "25%       51002.110000      0.000000  \n",
       "50%      100193.915000      0.000000  \n",
       "75%      149388.247500      0.000000  \n",
       "max      199992.480000      1.000000  "
      ]
     },
     "execution_count": 8,
     "metadata": {},
     "output_type": "execute_result"
    }
   ],
   "source": [
    "_all = df.describe()\n",
    "_all"
   ]
  },
  {
   "cell_type": "code",
   "execution_count": 9,
   "metadata": {
    "scrolled": true
   },
   "outputs": [
    {
     "data": {
      "text/html": [
       "<div>\n",
       "<style scoped>\n",
       "    .dataframe tbody tr th:only-of-type {\n",
       "        vertical-align: middle;\n",
       "    }\n",
       "\n",
       "    .dataframe tbody tr th {\n",
       "        vertical-align: top;\n",
       "    }\n",
       "\n",
       "    .dataframe thead th {\n",
       "        text-align: right;\n",
       "    }\n",
       "</style>\n",
       "<table border=\"1\" class=\"dataframe\">\n",
       "  <thead>\n",
       "    <tr style=\"text-align: right;\">\n",
       "      <th></th>\n",
       "      <th>RowNumber</th>\n",
       "      <th>CustomerId</th>\n",
       "      <th>CreditScore</th>\n",
       "      <th>Age</th>\n",
       "      <th>Tenure</th>\n",
       "      <th>Balance</th>\n",
       "      <th>NumOfProducts</th>\n",
       "      <th>HasCrCard</th>\n",
       "      <th>IsActiveMember</th>\n",
       "      <th>EstimatedSalary</th>\n",
       "      <th>Exited</th>\n",
       "    </tr>\n",
       "  </thead>\n",
       "  <tbody>\n",
       "    <tr>\n",
       "      <th>count</th>\n",
       "      <td>0.090900</td>\n",
       "      <td>0.090900</td>\n",
       "      <td>0.090900</td>\n",
       "      <td>0.090900</td>\n",
       "      <td>0.0</td>\n",
       "      <td>0.090900</td>\n",
       "      <td>0.090900</td>\n",
       "      <td>0.090900</td>\n",
       "      <td>0.090900</td>\n",
       "      <td>0.090900</td>\n",
       "      <td>0.090900</td>\n",
       "    </tr>\n",
       "    <tr>\n",
       "      <th>mean</th>\n",
       "      <td>0.973180</td>\n",
       "      <td>0.999928</td>\n",
       "      <td>0.996806</td>\n",
       "      <td>0.992964</td>\n",
       "      <td>NaN</td>\n",
       "      <td>0.995181</td>\n",
       "      <td>1.000035</td>\n",
       "      <td>1.007330</td>\n",
       "      <td>0.990975</td>\n",
       "      <td>0.990910</td>\n",
       "      <td>0.988317</td>\n",
       "    </tr>\n",
       "    <tr>\n",
       "      <th>std</th>\n",
       "      <td>1.007866</td>\n",
       "      <td>1.044151</td>\n",
       "      <td>1.025101</td>\n",
       "      <td>0.933030</td>\n",
       "      <td>NaN</td>\n",
       "      <td>1.011351</td>\n",
       "      <td>1.011686</td>\n",
       "      <td>0.995305</td>\n",
       "      <td>1.000738</td>\n",
       "      <td>0.980309</td>\n",
       "      <td>0.996124</td>\n",
       "    </tr>\n",
       "    <tr>\n",
       "      <th>min</th>\n",
       "      <td>31.000000</td>\n",
       "      <td>1.000007</td>\n",
       "      <td>1.025714</td>\n",
       "      <td>1.000000</td>\n",
       "      <td>NaN</td>\n",
       "      <td>NaN</td>\n",
       "      <td>1.000000</td>\n",
       "      <td>NaN</td>\n",
       "      <td>NaN</td>\n",
       "      <td>9.211572</td>\n",
       "      <td>NaN</td>\n",
       "    </tr>\n",
       "    <tr>\n",
       "      <th>25%</th>\n",
       "      <td>0.924123</td>\n",
       "      <td>0.999875</td>\n",
       "      <td>0.993151</td>\n",
       "      <td>1.000000</td>\n",
       "      <td>NaN</td>\n",
       "      <td>NaN</td>\n",
       "      <td>1.000000</td>\n",
       "      <td>NaN</td>\n",
       "      <td>NaN</td>\n",
       "      <td>0.977848</td>\n",
       "      <td>NaN</td>\n",
       "    </tr>\n",
       "    <tr>\n",
       "      <th>50%</th>\n",
       "      <td>0.977302</td>\n",
       "      <td>0.999753</td>\n",
       "      <td>0.992331</td>\n",
       "      <td>1.000000</td>\n",
       "      <td>NaN</td>\n",
       "      <td>0.994609</td>\n",
       "      <td>1.000000</td>\n",
       "      <td>1.000000</td>\n",
       "      <td>1.000000</td>\n",
       "      <td>0.992516</td>\n",
       "      <td>NaN</td>\n",
       "    </tr>\n",
       "    <tr>\n",
       "      <th>75%</th>\n",
       "      <td>0.974101</td>\n",
       "      <td>1.000227</td>\n",
       "      <td>1.000000</td>\n",
       "      <td>0.977273</td>\n",
       "      <td>NaN</td>\n",
       "      <td>1.007135</td>\n",
       "      <td>1.000000</td>\n",
       "      <td>1.000000</td>\n",
       "      <td>1.000000</td>\n",
       "      <td>0.975711</td>\n",
       "      <td>NaN</td>\n",
       "    </tr>\n",
       "    <tr>\n",
       "      <th>max</th>\n",
       "      <td>1.000000</td>\n",
       "      <td>1.000000</td>\n",
       "      <td>1.000000</td>\n",
       "      <td>1.000000</td>\n",
       "      <td>NaN</td>\n",
       "      <td>0.823696</td>\n",
       "      <td>1.000000</td>\n",
       "      <td>1.000000</td>\n",
       "      <td>1.000000</td>\n",
       "      <td>0.996990</td>\n",
       "      <td>1.000000</td>\n",
       "    </tr>\n",
       "  </tbody>\n",
       "</table>\n",
       "</div>"
      ],
      "text/plain": [
       "       RowNumber  CustomerId  CreditScore       Age  Tenure   Balance  \\\n",
       "count   0.090900    0.090900     0.090900  0.090900     0.0  0.090900   \n",
       "mean    0.973180    0.999928     0.996806  0.992964     NaN  0.995181   \n",
       "std     1.007866    1.044151     1.025101  0.933030     NaN  1.011351   \n",
       "min    31.000000    1.000007     1.025714  1.000000     NaN       NaN   \n",
       "25%     0.924123    0.999875     0.993151  1.000000     NaN       NaN   \n",
       "50%     0.977302    0.999753     0.992331  1.000000     NaN  0.994609   \n",
       "75%     0.974101    1.000227     1.000000  0.977273     NaN  1.007135   \n",
       "max     1.000000    1.000000     1.000000  1.000000     NaN  0.823696   \n",
       "\n",
       "       NumOfProducts  HasCrCard  IsActiveMember  EstimatedSalary    Exited  \n",
       "count       0.090900   0.090900        0.090900         0.090900  0.090900  \n",
       "mean        1.000035   1.007330        0.990975         0.990910  0.988317  \n",
       "std         1.011686   0.995305        1.000738         0.980309  0.996124  \n",
       "min         1.000000        NaN             NaN         9.211572       NaN  \n",
       "25%         1.000000        NaN             NaN         0.977848       NaN  \n",
       "50%         1.000000   1.000000        1.000000         0.992516       NaN  \n",
       "75%         1.000000   1.000000        1.000000         0.975711       NaN  \n",
       "max         1.000000   1.000000        1.000000         0.996990  1.000000  "
      ]
     },
     "execution_count": 9,
     "metadata": {},
     "output_type": "execute_result"
    }
   ],
   "source": [
    "_nan / _all"
   ]
  },
  {
   "cell_type": "markdown",
   "metadata": {},
   "source": [
    "После анализа распределения признаков и их относительных величин, я принимаю решение заполнить пропуски медианным значением."
   ]
  },
  {
   "cell_type": "code",
   "execution_count": 10,
   "metadata": {},
   "outputs": [],
   "source": [
    "df = df.fillna(df.query('~Tenure.isna()').median())"
   ]
  },
  {
   "cell_type": "code",
   "execution_count": 11,
   "metadata": {},
   "outputs": [
    {
     "name": "stdout",
     "output_type": "stream",
     "text": [
      "<class 'pandas.core.frame.DataFrame'>\n",
      "RangeIndex: 10000 entries, 0 to 9999\n",
      "Data columns (total 14 columns):\n",
      " #   Column           Non-Null Count  Dtype  \n",
      "---  ------           --------------  -----  \n",
      " 0   RowNumber        10000 non-null  int64  \n",
      " 1   CustomerId       10000 non-null  int64  \n",
      " 2   Surname          10000 non-null  object \n",
      " 3   CreditScore      10000 non-null  int64  \n",
      " 4   Geography        10000 non-null  object \n",
      " 5   Gender           10000 non-null  object \n",
      " 6   Age              10000 non-null  int64  \n",
      " 7   Tenure           10000 non-null  float64\n",
      " 8   Balance          10000 non-null  float64\n",
      " 9   NumOfProducts    10000 non-null  int64  \n",
      " 10  HasCrCard        10000 non-null  int64  \n",
      " 11  IsActiveMember   10000 non-null  int64  \n",
      " 12  EstimatedSalary  10000 non-null  float64\n",
      " 13  Exited           10000 non-null  int64  \n",
      "dtypes: float64(3), int64(8), object(3)\n",
      "memory usage: 1.1+ MB\n"
     ]
    }
   ],
   "source": [
    "df.info()"
   ]
  },
  {
   "cell_type": "markdown",
   "metadata": {},
   "source": [
    "Пропуски ликвидированны."
   ]
  },
  {
   "cell_type": "code",
   "execution_count": 12,
   "metadata": {},
   "outputs": [
    {
     "data": {
      "text/plain": [
       "5.0     1836\n",
       "1.0      952\n",
       "2.0      950\n",
       "8.0      933\n",
       "3.0      928\n",
       "7.0      925\n",
       "4.0      885\n",
       "9.0      882\n",
       "6.0      881\n",
       "10.0     446\n",
       "0.0      382\n",
       "Name: Tenure, dtype: int64"
      ]
     },
     "execution_count": 12,
     "metadata": {},
     "output_type": "execute_result"
    }
   ],
   "source": [
    "df['Tenure'].value_counts()"
   ]
  },
  {
   "cell_type": "markdown",
   "metadata": {},
   "source": [
    "Также странная аномалия с занчением `5` в столбце `Tenure` в виде `4.99769`."
   ]
  },
  {
   "cell_type": "code",
   "execution_count": 13,
   "metadata": {
    "scrolled": true
   },
   "outputs": [
    {
     "data": {
      "text/plain": [
       "5.0     0.1836\n",
       "1.0     0.0952\n",
       "2.0     0.0950\n",
       "8.0     0.0933\n",
       "3.0     0.0928\n",
       "7.0     0.0925\n",
       "4.0     0.0885\n",
       "9.0     0.0882\n",
       "6.0     0.0881\n",
       "10.0    0.0446\n",
       "0.0     0.0382\n",
       "Name: Tenure, dtype: float64"
      ]
     },
     "execution_count": 13,
     "metadata": {},
     "output_type": "execute_result"
    }
   ],
   "source": [
    "df['Tenure'].value_counts(normalize=True)"
   ]
  },
  {
   "cell_type": "markdown",
   "metadata": {},
   "source": [
    "Причем таких знаяений столько же, сколько и значений `5`. Я предполагаю что половина значений `5` претерпели ошибку. Поэтому округлю вверх соответствующие значения, пототому что это принципиально важно для задачи классивикации: такие значения будут расцениваться как самостоятельный класс"
   ]
  },
  {
   "cell_type": "code",
   "execution_count": 14,
   "metadata": {},
   "outputs": [],
   "source": [
    "df['Tenure'] = df['Tenure'].apply(ceil).astype('int')"
   ]
  },
  {
   "cell_type": "code",
   "execution_count": 15,
   "metadata": {},
   "outputs": [
    {
     "data": {
      "text/plain": [
       "5     1836\n",
       "1      952\n",
       "2      950\n",
       "8      933\n",
       "3      928\n",
       "7      925\n",
       "4      885\n",
       "9      882\n",
       "6      881\n",
       "10     446\n",
       "0      382\n",
       "Name: Tenure, dtype: int64"
      ]
     },
     "execution_count": 15,
     "metadata": {},
     "output_type": "execute_result"
    }
   ],
   "source": [
    "df['Tenure'].value_counts()"
   ]
  },
  {
   "cell_type": "markdown",
   "metadata": {},
   "source": [
    "Быстрая проверка признаков на мультиколлинеарность, чтобы знать какие оставлять."
   ]
  },
  {
   "cell_type": "code",
   "execution_count": 16,
   "metadata": {
    "scrolled": true
   },
   "outputs": [
    {
     "data": {
      "text/plain": [
       "<AxesSubplot:>"
      ]
     },
     "execution_count": 16,
     "metadata": {},
     "output_type": "execute_result"
    },
    {
     "data": {
      "image/png": "[encoded data removed]",
      "text/plain": [
       "<Figure size 1080x1080 with 2 Axes>"
      ]
     },
     "metadata": {},
     "output_type": "display_data"
    }
   ],
   "source": [
    "corr_matrix = df.corr()\n",
    "sns.set(rc={\"figure.figsize\":(15, 15)})\n",
    "sns.heatmap(corr_matrix, annot=True)"
   ]
  },
  {
   "cell_type": "markdown",
   "metadata": {},
   "source": [
    "Высоких значений нет, все приизнаки остаются."
   ]
  },
  {
   "cell_type": "markdown",
   "metadata": {},
   "source": [
    "## Исследование задачи"
   ]
  },
  {
   "cell_type": "markdown",
   "metadata": {},
   "source": [
    "Перевод категориальных признаков *OHT*."
   ]
  },
  {
   "cell_type": "code",
   "execution_count": 21,
   "metadata": {},
   "outputs": [],
   "source": [
    "df = pd.get_dummies(df, columns=['Gender','Geography'], drop_first= True )\n",
    "None"
   ]
  },
  {
   "cell_type": "code",
   "execution_count": 22,
   "metadata": {
    "scrolled": true
   },
   "outputs": [
    {
     "data": {
      "text/html": [
       "<div>\n",
       "<style scoped>\n",
       "    .dataframe tbody tr th:only-of-type {\n",
       "        vertical-align: middle;\n",
       "    }\n",
       "\n",
       "    .dataframe tbody tr th {\n",
       "        vertical-align: top;\n",
       "    }\n",
       "\n",
       "    .dataframe thead th {\n",
       "        text-align: right;\n",
       "    }\n",
       "</style>\n",
       "<table border=\"1\" class=\"dataframe\">\n",
       "  <thead>\n",
       "    <tr style=\"text-align: right;\">\n",
       "      <th></th>\n",
       "      <th>RowNumber</th>\n",
       "      <th>CustomerId</th>\n",
       "      <th>Surname</th>\n",
       "      <th>CreditScore</th>\n",
       "      <th>Age</th>\n",
       "      <th>Tenure</th>\n",
       "      <th>Balance</th>\n",
       "      <th>NumOfProducts</th>\n",
       "      <th>HasCrCard</th>\n",
       "      <th>IsActiveMember</th>\n",
       "      <th>EstimatedSalary</th>\n",
       "      <th>Exited</th>\n",
       "      <th>Gender_Male</th>\n",
       "      <th>Geography_Germany</th>\n",
       "      <th>Geography_Spain</th>\n",
       "    </tr>\n",
       "  </thead>\n",
       "  <tbody>\n",
       "    <tr>\n",
       "      <th>0</th>\n",
       "      <td>1</td>\n",
       "      <td>15634602</td>\n",
       "      <td>Hargrave</td>\n",
       "      <td>619</td>\n",
       "      <td>42</td>\n",
       "      <td>2</td>\n",
       "      <td>0.00</td>\n",
       "      <td>1</td>\n",
       "      <td>1</td>\n",
       "      <td>1</td>\n",
       "      <td>101348.88</td>\n",
       "      <td>1</td>\n",
       "      <td>0</td>\n",
       "      <td>0</td>\n",
       "      <td>0</td>\n",
       "    </tr>\n",
       "    <tr>\n",
       "      <th>1</th>\n",
       "      <td>2</td>\n",
       "      <td>15647311</td>\n",
       "      <td>Hill</td>\n",
       "      <td>608</td>\n",
       "      <td>41</td>\n",
       "      <td>1</td>\n",
       "      <td>83807.86</td>\n",
       "      <td>1</td>\n",
       "      <td>0</td>\n",
       "      <td>1</td>\n",
       "      <td>112542.58</td>\n",
       "      <td>0</td>\n",
       "      <td>0</td>\n",
       "      <td>0</td>\n",
       "      <td>1</td>\n",
       "    </tr>\n",
       "    <tr>\n",
       "      <th>2</th>\n",
       "      <td>3</td>\n",
       "      <td>15619304</td>\n",
       "      <td>Onio</td>\n",
       "      <td>502</td>\n",
       "      <td>42</td>\n",
       "      <td>8</td>\n",
       "      <td>159660.80</td>\n",
       "      <td>3</td>\n",
       "      <td>1</td>\n",
       "      <td>0</td>\n",
       "      <td>113931.57</td>\n",
       "      <td>1</td>\n",
       "      <td>0</td>\n",
       "      <td>0</td>\n",
       "      <td>0</td>\n",
       "    </tr>\n",
       "    <tr>\n",
       "      <th>3</th>\n",
       "      <td>4</td>\n",
       "      <td>15701354</td>\n",
       "      <td>Boni</td>\n",
       "      <td>699</td>\n",
       "      <td>39</td>\n",
       "      <td>1</td>\n",
       "      <td>0.00</td>\n",
       "      <td>2</td>\n",
       "      <td>0</td>\n",
       "      <td>0</td>\n",
       "      <td>93826.63</td>\n",
       "      <td>0</td>\n",
       "      <td>0</td>\n",
       "      <td>0</td>\n",
       "      <td>0</td>\n",
       "    </tr>\n",
       "    <tr>\n",
       "      <th>4</th>\n",
       "      <td>5</td>\n",
       "      <td>15737888</td>\n",
       "      <td>Mitchell</td>\n",
       "      <td>850</td>\n",
       "      <td>43</td>\n",
       "      <td>2</td>\n",
       "      <td>125510.82</td>\n",
       "      <td>1</td>\n",
       "      <td>1</td>\n",
       "      <td>1</td>\n",
       "      <td>79084.10</td>\n",
       "      <td>0</td>\n",
       "      <td>0</td>\n",
       "      <td>0</td>\n",
       "      <td>1</td>\n",
       "    </tr>\n",
       "    <tr>\n",
       "      <th>...</th>\n",
       "      <td>...</td>\n",
       "      <td>...</td>\n",
       "      <td>...</td>\n",
       "      <td>...</td>\n",
       "      <td>...</td>\n",
       "      <td>...</td>\n",
       "      <td>...</td>\n",
       "      <td>...</td>\n",
       "      <td>...</td>\n",
       "      <td>...</td>\n",
       "      <td>...</td>\n",
       "      <td>...</td>\n",
       "      <td>...</td>\n",
       "      <td>...</td>\n",
       "      <td>...</td>\n",
       "    </tr>\n",
       "    <tr>\n",
       "      <th>9995</th>\n",
       "      <td>9996</td>\n",
       "      <td>15606229</td>\n",
       "      <td>Obijiaku</td>\n",
       "      <td>771</td>\n",
       "      <td>39</td>\n",
       "      <td>5</td>\n",
       "      <td>0.00</td>\n",
       "      <td>2</td>\n",
       "      <td>1</td>\n",
       "      <td>0</td>\n",
       "      <td>96270.64</td>\n",
       "      <td>0</td>\n",
       "      <td>1</td>\n",
       "      <td>0</td>\n",
       "      <td>0</td>\n",
       "    </tr>\n",
       "    <tr>\n",
       "      <th>9996</th>\n",
       "      <td>9997</td>\n",
       "      <td>15569892</td>\n",
       "      <td>Johnstone</td>\n",
       "      <td>516</td>\n",
       "      <td>35</td>\n",
       "      <td>10</td>\n",
       "      <td>57369.61</td>\n",
       "      <td>1</td>\n",
       "      <td>1</td>\n",
       "      <td>1</td>\n",
       "      <td>101699.77</td>\n",
       "      <td>0</td>\n",
       "      <td>1</td>\n",
       "      <td>0</td>\n",
       "      <td>0</td>\n",
       "    </tr>\n",
       "    <tr>\n",
       "      <th>9997</th>\n",
       "      <td>9998</td>\n",
       "      <td>15584532</td>\n",
       "      <td>Liu</td>\n",
       "      <td>709</td>\n",
       "      <td>36</td>\n",
       "      <td>7</td>\n",
       "      <td>0.00</td>\n",
       "      <td>1</td>\n",
       "      <td>0</td>\n",
       "      <td>1</td>\n",
       "      <td>42085.58</td>\n",
       "      <td>1</td>\n",
       "      <td>0</td>\n",
       "      <td>0</td>\n",
       "      <td>0</td>\n",
       "    </tr>\n",
       "    <tr>\n",
       "      <th>9998</th>\n",
       "      <td>9999</td>\n",
       "      <td>15682355</td>\n",
       "      <td>Sabbatini</td>\n",
       "      <td>772</td>\n",
       "      <td>42</td>\n",
       "      <td>3</td>\n",
       "      <td>75075.31</td>\n",
       "      <td>2</td>\n",
       "      <td>1</td>\n",
       "      <td>0</td>\n",
       "      <td>92888.52</td>\n",
       "      <td>1</td>\n",
       "      <td>1</td>\n",
       "      <td>1</td>\n",
       "      <td>0</td>\n",
       "    </tr>\n",
       "    <tr>\n",
       "      <th>9999</th>\n",
       "      <td>10000</td>\n",
       "      <td>15628319</td>\n",
       "      <td>Walker</td>\n",
       "      <td>792</td>\n",
       "      <td>28</td>\n",
       "      <td>5</td>\n",
       "      <td>130142.79</td>\n",
       "      <td>1</td>\n",
       "      <td>1</td>\n",
       "      <td>0</td>\n",
       "      <td>38190.78</td>\n",
       "      <td>0</td>\n",
       "      <td>0</td>\n",
       "      <td>0</td>\n",
       "      <td>0</td>\n",
       "    </tr>\n",
       "  </tbody>\n",
       "</table>\n",
       "<p>10000 rows × 15 columns</p>\n",
       "</div>"
      ],
      "text/plain": [
       "      RowNumber  CustomerId    Surname  CreditScore  Age  Tenure    Balance  \\\n",
       "0             1    15634602   Hargrave          619   42       2       0.00   \n",
       "1             2    15647311       Hill          608   41       1   83807.86   \n",
       "2             3    15619304       Onio          502   42       8  159660.80   \n",
       "3             4    15701354       Boni          699   39       1       0.00   \n",
       "4             5    15737888   Mitchell          850   43       2  125510.82   \n",
       "...         ...         ...        ...          ...  ...     ...        ...   \n",
       "9995       9996    15606229   Obijiaku          771   39       5       0.00   \n",
       "9996       9997    15569892  Johnstone          516   35      10   57369.61   \n",
       "9997       9998    15584532        Liu          709   36       7       0.00   \n",
       "9998       9999    15682355  Sabbatini          772   42       3   75075.31   \n",
       "9999      10000    15628319     Walker          792   28       5  130142.79   \n",
       "\n",
       "      NumOfProducts  HasCrCard  IsActiveMember  EstimatedSalary  Exited  \\\n",
       "0                 1          1               1        101348.88       1   \n",
       "1                 1          0               1        112542.58       0   \n",
       "2                 3          1               0        113931.57       1   \n",
       "3                 2          0               0         93826.63       0   \n",
       "4                 1          1               1         79084.10       0   \n",
       "...             ...        ...             ...              ...     ...   \n",
       "9995              2          1               0         96270.64       0   \n",
       "9996              1          1               1        101699.77       0   \n",
       "9997              1          0               1         42085.58       1   \n",
       "9998              2          1               0         92888.52       1   \n",
       "9999              1          1               0         38190.78       0   \n",
       "\n",
       "      Gender_Male  Geography_Germany  Geography_Spain  \n",
       "0               0                  0                0  \n",
       "1               0                  0                1  \n",
       "2               0                  0                0  \n",
       "3               0                  0                0  \n",
       "4               0                  0                1  \n",
       "...           ...                ...              ...  \n",
       "9995            1                  0                0  \n",
       "9996            1                  0                0  \n",
       "9997            0                  0                0  \n",
       "9998            1                  1                0  \n",
       "9999            0                  0                0  \n",
       "\n",
       "[10000 rows x 15 columns]"
      ]
     },
     "execution_count": 22,
     "metadata": {},
     "output_type": "execute_result"
    }
   ],
   "source": [
    "df"
   ]
  },
  {
   "cell_type": "code",
   "execution_count": 23,
   "metadata": {},
   "outputs": [],
   "source": [
    "features = df.drop(['RowNumber','CustomerId','Surname','Exited'],axis=1)\n",
    "target = df['Exited']"
   ]
  },
  {
   "cell_type": "code",
   "execution_count": 24,
   "metadata": {},
   "outputs": [],
   "source": [
    "features_train, features_valid_test, target_train, target_valid_test = train_test_split(\n",
    "    features, target, test_size=0.4, random_state=12345, stratify=target)\n",
    "features_valid, features_test, target_valid, target_test = train_test_split(\n",
    "    features_valid_test, target_valid_test, test_size=0.50, random_state=12345, stratify=target_valid_test)"
   ]
  },
  {
   "cell_type": "markdown",
   "metadata": {},
   "source": [
    "Я разделил датасет на тренировочну, валидационную и тестовую выборки в отношениее 3:1:1. Сделано это было в 2 этапа."
   ]
  },
  {
   "cell_type": "code",
   "execution_count": 25,
   "metadata": {},
   "outputs": [
    {
     "name": "stderr",
     "output_type": "stream",
     "text": [
      "/opt/conda/lib/python3.9/site-packages/pandas/core/indexing.py:1738: SettingWithCopyWarning: \n",
      "A value is trying to be set on a copy of a slice from a DataFrame.\n",
      "Try using .loc[row_indexer,col_indexer] = value instead\n",
      "\n",
      "See the caveats in the documentation: https://pandas.pydata.org/pandas-docs/stable/user_guide/indexing.html#returning-a-view-versus-a-copy\n",
      "  self._setitem_single_column(loc, value[:, i].tolist(), pi)\n",
      "/opt/conda/lib/python3.9/site-packages/pandas/core/indexing.py:1738: SettingWithCopyWarning: \n",
      "A value is trying to be set on a copy of a slice from a DataFrame.\n",
      "Try using .loc[row_indexer,col_indexer] = value instead\n",
      "\n",
      "See the caveats in the documentation: https://pandas.pydata.org/pandas-docs/stable/user_guide/indexing.html#returning-a-view-versus-a-copy\n",
      "  self._setitem_single_column(loc, value[:, i].tolist(), pi)\n",
      "/opt/conda/lib/python3.9/site-packages/pandas/core/indexing.py:1738: SettingWithCopyWarning: \n",
      "A value is trying to be set on a copy of a slice from a DataFrame.\n",
      "Try using .loc[row_indexer,col_indexer] = value instead\n",
      "\n",
      "See the caveats in the documentation: https://pandas.pydata.org/pandas-docs/stable/user_guide/indexing.html#returning-a-view-versus-a-copy\n",
      "  self._setitem_single_column(loc, value[:, i].tolist(), pi)\n"
     ]
    }
   ],
   "source": [
    "_list = ['CreditScore','Age','Tenure','Balance','EstimatedSalary']\n",
    "scaler = StandardScaler()\n",
    "    \n",
    "features_train.loc[:,_list] = scaler.fit_transform(features_train.loc[:,_list])\n",
    "features_valid.loc[:,_list] = scaler.fit_transform(features_valid.loc[:,_list])\n",
    "features_test.loc[:,_list] = scaler.fit_transform(features_test.loc[:,_list])"
   ]
  },
  {
   "cell_type": "code",
   "execution_count": 26,
   "metadata": {},
   "outputs": [
    {
     "data": {
      "text/html": [
       "<div>\n",
       "<style scoped>\n",
       "    .dataframe tbody tr th:only-of-type {\n",
       "        vertical-align: middle;\n",
       "    }\n",
       "\n",
       "    .dataframe tbody tr th {\n",
       "        vertical-align: top;\n",
       "    }\n",
       "\n",
       "    .dataframe thead th {\n",
       "        text-align: right;\n",
       "    }\n",
       "</style>\n",
       "<table border=\"1\" class=\"dataframe\">\n",
       "  <thead>\n",
       "    <tr style=\"text-align: right;\">\n",
       "      <th></th>\n",
       "      <th>CreditScore</th>\n",
       "      <th>Age</th>\n",
       "      <th>Tenure</th>\n",
       "      <th>Balance</th>\n",
       "      <th>EstimatedSalary</th>\n",
       "    </tr>\n",
       "  </thead>\n",
       "  <tbody>\n",
       "    <tr>\n",
       "      <th>2837</th>\n",
       "      <td>-1.040434</td>\n",
       "      <td>0.953312</td>\n",
       "      <td>0.360600</td>\n",
       "      <td>0.774657</td>\n",
       "      <td>-0.119110</td>\n",
       "    </tr>\n",
       "    <tr>\n",
       "      <th>9925</th>\n",
       "      <td>0.454006</td>\n",
       "      <td>-0.095244</td>\n",
       "      <td>-0.002786</td>\n",
       "      <td>1.910540</td>\n",
       "      <td>-0.258658</td>\n",
       "    </tr>\n",
       "    <tr>\n",
       "      <th>8746</th>\n",
       "      <td>0.103585</td>\n",
       "      <td>-0.476537</td>\n",
       "      <td>1.087371</td>\n",
       "      <td>0.481608</td>\n",
       "      <td>1.422836</td>\n",
       "    </tr>\n",
       "    <tr>\n",
       "      <th>660</th>\n",
       "      <td>-0.184996</td>\n",
       "      <td>0.190726</td>\n",
       "      <td>-0.002786</td>\n",
       "      <td>0.088439</td>\n",
       "      <td>-1.160427</td>\n",
       "    </tr>\n",
       "    <tr>\n",
       "      <th>3610</th>\n",
       "      <td>-0.720933</td>\n",
       "      <td>1.620574</td>\n",
       "      <td>-1.456328</td>\n",
       "      <td>0.879129</td>\n",
       "      <td>0.113236</td>\n",
       "    </tr>\n",
       "    <tr>\n",
       "      <th>...</th>\n",
       "      <td>...</td>\n",
       "      <td>...</td>\n",
       "      <td>...</td>\n",
       "      <td>...</td>\n",
       "      <td>...</td>\n",
       "    </tr>\n",
       "    <tr>\n",
       "      <th>6172</th>\n",
       "      <td>-0.844611</td>\n",
       "      <td>0.381372</td>\n",
       "      <td>-0.002786</td>\n",
       "      <td>0.180068</td>\n",
       "      <td>0.117350</td>\n",
       "    </tr>\n",
       "    <tr>\n",
       "      <th>2360</th>\n",
       "      <td>-1.359935</td>\n",
       "      <td>0.190726</td>\n",
       "      <td>-0.002786</td>\n",
       "      <td>0.547724</td>\n",
       "      <td>-0.192524</td>\n",
       "    </tr>\n",
       "    <tr>\n",
       "      <th>4499</th>\n",
       "      <td>-1.174418</td>\n",
       "      <td>0.476696</td>\n",
       "      <td>-0.366172</td>\n",
       "      <td>0.727840</td>\n",
       "      <td>0.531933</td>\n",
       "    </tr>\n",
       "    <tr>\n",
       "      <th>9162</th>\n",
       "      <td>0.155118</td>\n",
       "      <td>2.287837</td>\n",
       "      <td>-0.002786</td>\n",
       "      <td>0.449382</td>\n",
       "      <td>-1.307769</td>\n",
       "    </tr>\n",
       "    <tr>\n",
       "      <th>700</th>\n",
       "      <td>1.031168</td>\n",
       "      <td>-0.667183</td>\n",
       "      <td>-0.002786</td>\n",
       "      <td>-1.219673</td>\n",
       "      <td>-0.083302</td>\n",
       "    </tr>\n",
       "  </tbody>\n",
       "</table>\n",
       "<p>6000 rows × 5 columns</p>\n",
       "</div>"
      ],
      "text/plain": [
       "      CreditScore       Age    Tenure   Balance  EstimatedSalary\n",
       "2837    -1.040434  0.953312  0.360600  0.774657        -0.119110\n",
       "9925     0.454006 -0.095244 -0.002786  1.910540        -0.258658\n",
       "8746     0.103585 -0.476537  1.087371  0.481608         1.422836\n",
       "660     -0.184996  0.190726 -0.002786  0.088439        -1.160427\n",
       "3610    -0.720933  1.620574 -1.456328  0.879129         0.113236\n",
       "...           ...       ...       ...       ...              ...\n",
       "6172    -0.844611  0.381372 -0.002786  0.180068         0.117350\n",
       "2360    -1.359935  0.190726 -0.002786  0.547724        -0.192524\n",
       "4499    -1.174418  0.476696 -0.366172  0.727840         0.531933\n",
       "9162     0.155118  2.287837 -0.002786  0.449382        -1.307769\n",
       "700      1.031168 -0.667183 -0.002786 -1.219673        -0.083302\n",
       "\n",
       "[6000 rows x 5 columns]"
      ]
     },
     "execution_count": 26,
     "metadata": {},
     "output_type": "execute_result"
    }
   ],
   "source": [
    "features_train.loc[:,_list]"
   ]
  },
  {
   "cell_type": "markdown",
   "metadata": {},
   "source": [
    "Выгрузка 3 моделей классификации, которые мы проходили в курсе и метрики."
   ]
  },
  {
   "cell_type": "markdown",
   "metadata": {},
   "source": [
    "Лучший результат показал лес с 110 деревьями высотой 15 и 1 листом: 0.62"
   ]
  },
  {
   "cell_type": "markdown",
   "metadata": {},
   "source": [
    "Логистическая регрессия."
   ]
  },
  {
   "cell_type": "code",
   "execution_count": 28,
   "metadata": {},
   "outputs": [
    {
     "name": "stdout",
     "output_type": "stream",
     "text": [
      "max_iter=700, C=0.02\n",
      "accuracy на валидационной выборке: 0.81\n",
      "precision на валидационной выборке: 0.625\n",
      "result_r на валидационной выборке: 0.1715686274509804\n",
      "f1 на валидационной выборке: 0.2692307692307692\n",
      "auc_roc на валидационной выборке: 0.7914788402798306\n",
      "\n",
      "max_iter=700, C=0.04\n",
      "accuracy на валидационной выборке: 0.81\n",
      "precision на валидационной выборке: 0.6111111111111112\n",
      "result_r на валидационной выборке: 0.18872549019607843\n",
      "f1 на валидационной выборке: 0.2883895131086142\n",
      "auc_roc на валидационной выборке: 0.7897791654350182\n",
      "\n",
      "max_iter=700, C=0.06\n",
      "accuracy на валидационной выборке: 0.81\n",
      "precision на валидационной выборке: 0.6060606060606061\n",
      "result_r на валидационной выборке: 0.19607843137254902\n",
      "f1 на валидационной выборке: 0.2962962962962963\n",
      "auc_roc на валидационной выборке: 0.789110996157257\n",
      "\n",
      "max_iter=700, C=0.08\n",
      "accuracy на валидационной выборке: 0.811\n",
      "precision на валидационной выборке: 0.6136363636363636\n",
      "result_r на валидационной выборке: 0.19852941176470587\n",
      "f1 на валидационной выборке: 0.3\n",
      "auc_roc на валидационной выборке: 0.7887153290964627\n",
      "\n",
      "max_iter=700, C=0.18\n",
      "accuracy на валидационной выборке: 0.8115\n",
      "precision на валидационной выборке: 0.6148148148148148\n",
      "result_r на валидационной выборке: 0.2034313725490196\n",
      "f1 на валидационной выборке: 0.30570902394106814\n",
      "auc_roc на валидационной выборке: 0.7880687136663712\n",
      "\n",
      "max_iter=700, C=0.46\n",
      "accuracy на валидационной выборке: 0.811\n",
      "precision на валидационной выборке: 0.6086956521739131\n",
      "result_r на валидационной выборке: 0.20588235294117646\n",
      "f1 на валидационной выборке: 0.3076923076923077\n",
      "auc_roc на валидационной выборке: 0.7877315499063946\n",
      "\n",
      "max_iter=700, C=0.92\n",
      "accuracy на валидационной выборке: 0.8115\n",
      "precision на валидационной выборке: 0.6115107913669064\n",
      "result_r на валидационной выборке: 0.20833333333333334\n",
      "f1 на валидационной выборке: 0.3107861060329068\n",
      "auc_roc на валидационной выборке: 0.7876130037442113\n",
      "\n"
     ]
    }
   ],
   "source": [
    "result_f_best3 = 0\n",
    "for _iter in range(700,2501,100):\n",
    "    for c in np.arange(0.02, 1.01, 0.02):\n",
    "        model3 = LogisticRegression(random_state=12345, solver='lbfgs', max_iter=_iter, C=c) \n",
    "        model3.fit(features_train, target_train)\n",
    "        dump(model3, 'model_9_1.joblib')\n",
    "        probabilities_valid = model3.predict_proba(features_valid)\n",
    "        probabilities_one_valid = probabilities_valid[:, 1]\n",
    "        auc_roc = roc_auc_score(target_valid, probabilities_one_valid) \n",
    "        predictions_valid = model3.predict(features_valid)\n",
    "        result_a = accuracy_score(target_valid, predictions_valid)\n",
    "        result_p = precision_score(target_valid, predictions_valid)\n",
    "        result_r = recall_score(target_valid, predictions_valid)\n",
    "        result_f = f1_score(target_valid, predictions_valid)\n",
    "        if result_f > result_f_best3:\n",
    "            print(f'max_iter={_iter}, C={c}')\n",
    "            print(\"accuracy на валидационной выборке:\", result_a)\n",
    "            print(\"precision на валидационной выборке:\", result_p)\n",
    "            print(\"result_r на валидационной выборке:\", result_r)\n",
    "            print(\"f1 на валидационной выборке:\", result_f)\n",
    "            print(\"auc_roc на валидационной выборке:\", auc_roc)\n",
    "            print()\n",
    "            result_f_best3 = result_f"
   ]
  },
  {
   "cell_type": "markdown",
   "metadata": {},
   "source": [
    "Лучшая модель, с параметрами max_iter=700, C=0.92 показала 0.31"
   ]
  },
  {
   "cell_type": "markdown",
   "metadata": {},
   "source": [
    "Лучший результат показал лес с 110 деревьями высотой 15 и 1 листом: 0.62. Его и возьмем как основную модель."
   ]
  },
  {
   "cell_type": "markdown",
   "metadata": {},
   "source": [
    "## Борьба с дисбалансом"
   ]
  },
  {
   "cell_type": "code",
   "execution_count": 27,
   "metadata": {},
   "outputs": [
    {
     "data": {
      "text/plain": [
       "0    7963\n",
       "1    2037\n",
       "Name: Exited, dtype: int64"
      ]
     },
     "execution_count": 27,
     "metadata": {},
     "output_type": "execute_result"
    }
   ],
   "source": [
    "df['Exited'].value_counts()"
   ]
  },
  {
   "cell_type": "code",
   "execution_count": 28,
   "metadata": {},
   "outputs": [
    {
     "data": {
      "text/plain": [
       "0    4778\n",
       "1    1222\n",
       "Name: Exited, dtype: int64"
      ]
     },
     "execution_count": 28,
     "metadata": {},
     "output_type": "execute_result"
    }
   ],
   "source": [
    "target_train.value_counts()"
   ]
  },
  {
   "cell_type": "markdown",
   "metadata": {},
   "source": [
    "Есть наличие дисбаланса в классах: `0` класса в 4 раза больше чем `1`."
   ]
  },
  {
   "cell_type": "code",
   "execution_count": 29,
   "metadata": {},
   "outputs": [],
   "source": [
    "from sklearn.utils import shuffle"
   ]
  },
  {
   "cell_type": "code",
   "execution_count": 30,
   "metadata": {},
   "outputs": [],
   "source": [
    "def upsample(features, target, repeat):\n",
    "    features_zeros = features[target == 0]\n",
    "    features_ones = features[target == 1]\n",
    "    target_zeros = target[target == 0]\n",
    "    target_ones = target[target == 1]\n",
    "\n",
    "    features_upsampled = pd.concat([features_zeros] + [features_ones] * repeat)\n",
    "    target_upsampled = pd.concat([target_zeros] + [target_ones] * repeat)\n",
    "    \n",
    "    features_upsampled, target_upsampled = shuffle(\n",
    "        features_upsampled, target_upsampled, random_state=12345)\n",
    "    \n",
    "    return features_upsampled, target_upsampled"
   ]
  },
  {
   "cell_type": "code",
   "execution_count": 31,
   "metadata": {},
   "outputs": [],
   "source": [
    "features_train_up, target_train_up = upsample(features_train, target_train, 4)"
   ]
  },
  {
   "cell_type": "code",
   "execution_count": 32,
   "metadata": {},
   "outputs": [
    {
     "data": {
      "text/plain": [
       "1    4888\n",
       "0    4778\n",
       "Name: Exited, dtype: int64"
      ]
     },
     "execution_count": 32,
     "metadata": {},
     "output_type": "execute_result"
    }
   ],
   "source": [
    "target_train_up.value_counts()"
   ]
  },
  {
   "cell_type": "markdown",
   "metadata": {},
   "source": [
    "Меньший класс увеличил в 4 раза\n"
   ]
  },
  {
   "cell_type": "code",
   "execution_count": 33,
   "metadata": {},
   "outputs": [],
   "source": [
    "def downsample(features, target, fraction):\n",
    "    features_zeros = features[target == 0]\n",
    "    features_ones = features[target == 1]\n",
    "    target_zeros = target[target == 0]\n",
    "    target_ones = target[target == 1]\n",
    "\n",
    "    features_downsampled = pd.concat(\n",
    "        [features_zeros.sample(frac=fraction, random_state=12345)] + [features_ones])\n",
    "    target_downsampled = pd.concat(\n",
    "        [target_zeros.sample(frac=fraction, random_state=12345)] + [target_ones])\n",
    "    \n",
    "    features_downsampled, target_downsampled = shuffle(\n",
    "        features_downsampled, target_downsampled, random_state=12345)\n",
    "    \n",
    "    return features_downsampled, target_downsampled"
   ]
  },
  {
   "cell_type": "code",
   "execution_count": 34,
   "metadata": {},
   "outputs": [],
   "source": [
    "features_down, target_down = downsample(features_train, target_train, 0.5)"
   ]
  },
  {
   "cell_type": "code",
   "execution_count": 35,
   "metadata": {},
   "outputs": [
    {
     "data": {
      "text/plain": [
       "0    2389\n",
       "1    1222\n",
       "Name: Exited, dtype: int64"
      ]
     },
     "execution_count": 35,
     "metadata": {},
     "output_type": "execute_result"
    }
   ],
   "source": [
    "target_down.value_counts()"
   ]
  },
  {
   "cell_type": "markdown",
   "metadata": {},
   "source": [
    "## Тестирование модели"
   ]
  },
  {
   "cell_type": "markdown",
   "metadata": {},
   "source": [
    "Продолжим смотреть на результаты. Сейчас решающий лес"
   ]
  },
  {
   "cell_type": "code",
   "execution_count": 38,
   "metadata": {
    "scrolled": true
   },
   "outputs": [
    {
     "name": "stdout",
     "output_type": "stream",
     "text": [
      "precision на валидационной выборке: 0.649867374005305\n",
      "result_r на валидационной выборке: 0.6004901960784313\n",
      "auc_roc на валидационной выборке: 0.8648843174204356\n",
      "f1 на валидационной выборке: 0.6242038216560509\n"
     ]
    }
   ],
   "source": [
    "model4 = RandomForestClassifier(random_state=12345, n_estimators=110, max_depth=15, min_samples_leaf=1)\n",
    "model4.fit(features_train_up, target_train_up)\n",
    "predictions_valid = model4.predict(features_valid) \n",
    "probabilities_valid = model4.predict_proba(features_valid)\n",
    "probabilities_one_valid = probabilities_valid[:, 1]\n",
    "auc_roc = roc_auc_score(target_valid, probabilities_one_valid)\n",
    "result_p = precision_score(target_valid, predictions_valid)\n",
    "result_r = recall_score(target_valid, predictions_valid)\n",
    "result_f = f1_score(target_valid, predictions_valid)\n",
    "print(\"precision на валидационной выборке:\", result_p)\n",
    "print(\"result_r на валидационной выборке:\", result_r)\n",
    "print(\"auc_roc на валидационной выборке:\", auc_roc)\n",
    "print(\"f1 на валидационной выборке:\", result_f)"
   ]
  },
  {
   "cell_type": "code",
   "execution_count": 39,
   "metadata": {},
   "outputs": [
    {
     "name": "stdout",
     "output_type": "stream",
     "text": [
      "precision на валидационной выборке: 0.6356968215158925\n",
      "result_r на валидационной выборке: 0.6372549019607843\n",
      "auc_roc на валидационной выборке: 0.8647588432357868\n",
      "f1 на валидационной выборке: 0.6364749082007344\n"
     ]
    }
   ],
   "source": [
    "model5 = RandomForestClassifier(random_state=12345, n_estimators=110, max_depth=15, min_samples_leaf=1)\n",
    "model5.fit(features_down, target_down)\n",
    "predictions_valid = model5.predict(features_valid) \n",
    "probabilities_valid = model5.predict_proba(features_valid)\n",
    "probabilities_one_valid = probabilities_valid[:, 1]\n",
    "auc_roc = roc_auc_score(target_valid, probabilities_one_valid)\n",
    "result_p = precision_score(target_valid, predictions_valid)\n",
    "result_r = recall_score(target_valid, predictions_valid)\n",
    "result_f = f1_score(target_valid, predictions_valid)\n",
    "print(\"precision на валидационной выборке:\", result_p)\n",
    "print(\"result_r на валидационной выборке:\", result_r)\n",
    "print(\"auc_roc на валидационной выборке:\", auc_roc)\n",
    "print(\"f1 на валидационной выборке:\", result_f)"
   ]
  },
  {
   "cell_type": "markdown",
   "metadata": {},
   "source": [
    "После апсемплинга результат почти не изменился, а после даунсемплинга общий результат улучшился на полтора процента"
   ]
  },
  {
   "cell_type": "markdown",
   "metadata": {},
   "source": [
    "Теперь стоит попробовать улучшить результат у логистической регрессии"
   ]
  },
  {
   "cell_type": "code",
   "execution_count": 37,
   "metadata": {},
   "outputs": [
    {
     "name": "stdout",
     "output_type": "stream",
     "text": [
      "accuracy на валидационной выборке: 0.73\n",
      "precision на валидационной выборке: 0.4100817438692098\n",
      "result_r на валидационной выборке: 0.7377450980392157\n",
      "f1 на валидационной выборке: 0.5271453590192645\n",
      "auc_roc на валидационной выборке: 0.793697347029264\n"
     ]
    }
   ],
   "source": [
    "model_log_up = LogisticRegression(random_state=12345, solver='lbfgs', max_iter=700, C=0.92) \n",
    "model_log_up.fit(features_train_up, target_train_up)\n",
    "predictions_valid = model_log_up.predict(features_valid)\n",
    "probabilities_valid = model_log_up.predict_proba(features_valid)\n",
    "probabilities_one_valid = probabilities_valid[:, 1]\n",
    "auc_roc = roc_auc_score(target_valid, probabilities_one_valid) \n",
    "predictions_valid = model_log_up.predict(features_valid)\n",
    "result_a = accuracy_score(target_valid, predictions_valid)\n",
    "result_p = precision_score(target_valid, predictions_valid)\n",
    "result_r = recall_score(target_valid, predictions_valid)\n",
    "result_f = f1_score(target_valid, predictions_valid)\n",
    "print(\"accuracy на валидационной выборке:\", result_a)\n",
    "print(\"precision на валидационной выборке:\", result_p)\n",
    "print(\"result_r на валидационной выборке:\", result_r)\n",
    "print(\"f1 на валидационной выборке:\", result_f)\n",
    "print(\"auc_roc на валидационной выборке:\", auc_roc)"
   ]
  },
  {
   "cell_type": "code",
   "execution_count": 38,
   "metadata": {},
   "outputs": [
    {
     "name": "stdout",
     "output_type": "stream",
     "text": [
      "accuracy на валидационной выборке: 0.7295\n",
      "precision на валидационной выборке: 0.41025641025641024\n",
      "result_r на валидационной выборке: 0.7450980392156863\n",
      "f1 на валидационной выборке: 0.5291557876414275\n",
      "auc_roc на валидационной выборке: 0.794140740467041\n"
     ]
    }
   ],
   "source": [
    "model_log_down = LogisticRegression(random_state=12345, solver='lbfgs', max_iter=700, C=0.92) \n",
    "model_log_down.fit(features_down, target_down)\n",
    "predictions_valid = model_log_down.predict(features_valid)\n",
    "probabilities_valid = model_log_down.predict_proba(features_valid)\n",
    "probabilities_one_valid = probabilities_valid[:, 1]\n",
    "auc_roc = roc_auc_score(target_valid, probabilities_one_valid) \n",
    "predictions_valid = model_log_down.predict(features_valid)\n",
    "result_a = accuracy_score(target_valid, predictions_valid)\n",
    "result_p = precision_score(target_valid, predictions_valid)\n",
    "result_r = recall_score(target_valid, predictions_valid)\n",
    "result_f = f1_score(target_valid, predictions_valid)\n",
    "print(\"accuracy на валидационной выборке:\", result_a)\n",
    "print(\"precision на валидационной выборке:\", result_p)\n",
    "print(\"result_r на валидационной выборке:\", result_r)\n",
    "print(\"f1 на валидационной выборке:\", result_f)\n",
    "print(\"auc_roc на валидационной выборке:\", auc_roc)"
   ]
  },
  {
   "cell_type": "markdown",
   "metadata": {},
   "source": [
    "Модель логистической регрессии не получилось довести до нужной результативности."
   ]
  },
  {
   "cell_type": "markdown",
   "metadata": {},
   "source": [
    "Тестирование двух моделей: дерево и лес"
   ]
  },
  {
   "cell_type": "code",
   "execution_count": 41,
   "metadata": {},
   "outputs": [
    {
     "name": "stdout",
     "output_type": "stream",
     "text": [
      "precision на тестовой выборке: 0.5990220048899756\n",
      "result_r на тестовой выборке: 0.601965601965602\n",
      "auc_roc на тестовой выборке: 0.8466070076239568\n",
      "f1 на тестовой выборке: 0.6004901960784315\n"
     ]
    }
   ],
   "source": [
    "# Лес\n",
    "model6 = RandomForestClassifier(random_state=12345, n_estimators=110, max_depth=15, min_samples_leaf=1)\n",
    "model6.fit(features_down, target_down)\n",
    "predictions_test = model5.predict(features_test) \n",
    "probabilities_test = model5.predict_proba(features_test)\n",
    "probabilities_one_test = probabilities_test[:, 1]\n",
    "auc_roc = roc_auc_score(target_test, probabilities_one_test)\n",
    "result_p = precision_score(target_test, predictions_test)\n",
    "result_r = recall_score(target_test, predictions_test)\n",
    "result_f = f1_score(target_test, predictions_test)\n",
    "print(\"precision на тестовой выборке:\", result_p)\n",
    "print(\"result_r на тестовой выборке:\", result_r)\n",
    "print(\"auc_roc на тестовой выборке:\", auc_roc)\n",
    "print(\"f1 на тестовой выборке:\", result_f)"
   ]
  },
  {
   "cell_type": "markdown",
   "metadata": {},
   "source": [
    "Была получена подходящая модель, решающий лес (0.60) "
   ]
  },
  {
   "cell_type": "markdown",
   "metadata": {},
   "source": [
    "<div class=\"alert alert-block alert-warning\">\n",
    "<b>Комментарий студента V3:</b> Дерево убрал, с регрессией разобрался, вывод внизу\n",
    "</div>"
   ]
  },
  {
   "cell_type": "markdown",
   "metadata": {},
   "source": [
    "## Вывод"
   ]
  },
  {
   "cell_type": "markdown",
   "metadata": {},
   "source": [
    "В ходе работы были испытаны 3 модели: решающее дерево, случайный лес, логистическая регрессия. В ходе анализа исходных данных был обнаружен дисбаланс классов, после чего были приняты следующие попытки это исправить: апсэмплинг, даунсэмплинг, понижение порога, сбалансирование вклассов (ЛР). \n",
    "- Лучшие метрики показал метод случайного леса с использованием даунсэмплинга данных, его f1-метри составила 0.60. \n",
    "- Среди исследованных моделей рекомендую использовать *случайный лес* с следующими гиперпараметрами: `n_estimators=110`, `max_depth=15`, `min_samples_leaf=1`. "
   ]
  }
 ],
 "metadata": {
  "ExecuteTimeLog": [
   {
    "duration": 436,
    "start_time": "2022-11-26T07:50:35.497Z"
   },
   {
    "duration": 161,
    "start_time": "2022-11-26T07:50:56.362Z"
   },
   {
    "duration": 46,
    "start_time": "2022-11-26T07:51:32.772Z"
   },
   {
    "duration": 18,
    "start_time": "2022-11-26T07:52:03.730Z"
   },
   {
    "duration": 16,
    "start_time": "2022-11-26T07:54:41.651Z"
   },
   {
    "duration": 66,
    "start_time": "2022-11-26T07:57:43.256Z"
   },
   {
    "duration": 108,
    "start_time": "2022-11-26T07:59:19.807Z"
   },
   {
    "duration": 67,
    "start_time": "2022-11-26T07:59:47.509Z"
   },
   {
    "duration": 23,
    "start_time": "2022-11-26T07:59:54.601Z"
   },
   {
    "duration": 14,
    "start_time": "2022-11-26T08:00:02.628Z"
   },
   {
    "duration": 41,
    "start_time": "2022-11-26T08:00:17.648Z"
   },
   {
    "duration": 39,
    "start_time": "2022-11-26T08:00:47.288Z"
   },
   {
    "duration": 29,
    "start_time": "2022-11-26T08:01:22.032Z"
   },
   {
    "duration": 29,
    "start_time": "2022-11-26T08:01:22.908Z"
   },
   {
    "duration": 29,
    "start_time": "2022-11-26T08:01:25.969Z"
   },
   {
    "duration": 29,
    "start_time": "2022-11-26T08:01:26.638Z"
   },
   {
    "duration": 39,
    "start_time": "2022-11-26T08:01:38.560Z"
   },
   {
    "duration": 38,
    "start_time": "2022-11-26T08:01:40.599Z"
   },
   {
    "duration": 14,
    "start_time": "2022-11-26T08:01:58.999Z"
   },
   {
    "duration": 71,
    "start_time": "2022-11-26T08:03:25.232Z"
   },
   {
    "duration": 42,
    "start_time": "2022-11-26T08:07:04.161Z"
   },
   {
    "duration": 38,
    "start_time": "2022-11-26T08:07:12.767Z"
   },
   {
    "duration": 13,
    "start_time": "2022-11-26T08:07:23.307Z"
   },
   {
    "duration": 37,
    "start_time": "2022-11-26T08:07:34.666Z"
   },
   {
    "duration": 15,
    "start_time": "2022-11-26T08:07:34.706Z"
   },
   {
    "duration": 39,
    "start_time": "2022-11-26T08:09:30.547Z"
   },
   {
    "duration": 11,
    "start_time": "2022-11-26T08:09:31.275Z"
   },
   {
    "duration": 10,
    "start_time": "2022-11-26T08:14:15.244Z"
   },
   {
    "duration": 7,
    "start_time": "2022-11-26T08:14:18.132Z"
   },
   {
    "duration": 6,
    "start_time": "2022-11-26T08:14:39.524Z"
   },
   {
    "duration": 7,
    "start_time": "2022-11-26T08:18:47.197Z"
   },
   {
    "duration": 7,
    "start_time": "2022-11-26T08:18:50.913Z"
   },
   {
    "duration": 79,
    "start_time": "2022-11-26T08:24:07.585Z"
   },
   {
    "duration": 4,
    "start_time": "2022-11-26T08:26:46.160Z"
   },
   {
    "duration": 3,
    "start_time": "2022-11-26T08:27:10.362Z"
   },
   {
    "duration": 5,
    "start_time": "2022-11-26T08:27:13.602Z"
   },
   {
    "duration": 14,
    "start_time": "2022-11-26T08:28:40.004Z"
   },
   {
    "duration": 12,
    "start_time": "2022-11-26T08:28:57.319Z"
   },
   {
    "duration": 7,
    "start_time": "2022-11-26T08:29:01.547Z"
   },
   {
    "duration": 2,
    "start_time": "2022-11-26T08:29:56.088Z"
   },
   {
    "duration": 9,
    "start_time": "2022-11-26T08:30:01.467Z"
   },
   {
    "duration": 6,
    "start_time": "2022-11-26T08:30:06.907Z"
   },
   {
    "duration": 6,
    "start_time": "2022-11-26T08:30:07.815Z"
   },
   {
    "duration": 6,
    "start_time": "2022-11-26T08:30:11.380Z"
   },
   {
    "duration": 5,
    "start_time": "2022-11-26T08:30:12.124Z"
   },
   {
    "duration": 2,
    "start_time": "2022-11-26T08:30:35.915Z"
   },
   {
    "duration": 39,
    "start_time": "2022-11-26T08:30:36.279Z"
   },
   {
    "duration": 14,
    "start_time": "2022-11-26T08:30:36.567Z"
   },
   {
    "duration": 13,
    "start_time": "2022-11-26T08:30:37.119Z"
   },
   {
    "duration": 40,
    "start_time": "2022-11-26T08:30:37.619Z"
   },
   {
    "duration": 44,
    "start_time": "2022-11-26T08:30:37.867Z"
   },
   {
    "duration": 16,
    "start_time": "2022-11-26T08:30:38.057Z"
   },
   {
    "duration": 39,
    "start_time": "2022-11-26T08:30:38.389Z"
   },
   {
    "duration": 13,
    "start_time": "2022-11-26T08:30:38.560Z"
   },
   {
    "duration": 10,
    "start_time": "2022-11-26T08:30:38.952Z"
   },
   {
    "duration": 72,
    "start_time": "2022-11-26T08:30:39.146Z"
   },
   {
    "duration": 11,
    "start_time": "2022-11-26T08:30:39.331Z"
   },
   {
    "duration": 10,
    "start_time": "2022-11-26T08:30:40.490Z"
   },
   {
    "duration": 9,
    "start_time": "2022-11-26T08:30:40.665Z"
   },
   {
    "duration": 8,
    "start_time": "2022-11-26T08:30:53.405Z"
   },
   {
    "duration": 7,
    "start_time": "2022-11-26T08:30:54.167Z"
   },
   {
    "duration": 9,
    "start_time": "2022-11-26T08:30:54.537Z"
   },
   {
    "duration": 9,
    "start_time": "2022-11-26T08:31:16.867Z"
   },
   {
    "duration": 10,
    "start_time": "2022-11-26T08:31:25.828Z"
   },
   {
    "duration": 9,
    "start_time": "2022-11-26T08:31:27.619Z"
   },
   {
    "duration": 112,
    "start_time": "2022-11-26T08:40:10.708Z"
   },
   {
    "duration": 28,
    "start_time": "2022-11-26T08:44:03.472Z"
   },
   {
    "duration": 10,
    "start_time": "2022-11-26T08:44:19.709Z"
   },
   {
    "duration": 12,
    "start_time": "2022-11-26T08:44:25.887Z"
   },
   {
    "duration": 11,
    "start_time": "2022-11-26T08:44:39.728Z"
   },
   {
    "duration": 12,
    "start_time": "2022-11-26T08:44:49.168Z"
   },
   {
    "duration": 11,
    "start_time": "2022-11-26T08:44:56.757Z"
   },
   {
    "duration": 14,
    "start_time": "2022-11-26T08:45:09.975Z"
   },
   {
    "duration": 21,
    "start_time": "2022-11-26T08:45:16.977Z"
   },
   {
    "duration": 11,
    "start_time": "2022-11-26T08:48:04.496Z"
   },
   {
    "duration": 22,
    "start_time": "2022-11-26T08:48:15.816Z"
   },
   {
    "duration": 76,
    "start_time": "2022-11-26T08:54:35.773Z"
   },
   {
    "duration": 2563,
    "start_time": "2022-11-26T08:55:19.341Z"
   },
   {
    "duration": 1462,
    "start_time": "2022-11-26T08:56:19.072Z"
   },
   {
    "duration": 168,
    "start_time": "2022-11-26T08:56:37.185Z"
   },
   {
    "duration": 196,
    "start_time": "2022-11-26T08:56:40.913Z"
   },
   {
    "duration": 72,
    "start_time": "2022-11-26T08:57:54.354Z"
   },
   {
    "duration": 72,
    "start_time": "2022-11-26T08:57:59.295Z"
   },
   {
    "duration": 1382,
    "start_time": "2022-11-26T08:58:05.236Z"
   },
   {
    "duration": 1545,
    "start_time": "2022-11-26T08:58:11.828Z"
   },
   {
    "duration": 1613,
    "start_time": "2022-11-26T08:58:25.936Z"
   },
   {
    "duration": 3,
    "start_time": "2022-11-26T08:58:33.944Z"
   },
   {
    "duration": 47,
    "start_time": "2022-11-26T08:58:34.502Z"
   },
   {
    "duration": 15,
    "start_time": "2022-11-26T08:58:35.072Z"
   },
   {
    "duration": 14,
    "start_time": "2022-11-26T08:58:36.253Z"
   },
   {
    "duration": 44,
    "start_time": "2022-11-26T08:58:37.385Z"
   },
   {
    "duration": 45,
    "start_time": "2022-11-26T08:58:37.993Z"
   },
   {
    "duration": 15,
    "start_time": "2022-11-26T08:58:38.573Z"
   },
   {
    "duration": 40,
    "start_time": "2022-11-26T08:58:39.641Z"
   },
   {
    "duration": 13,
    "start_time": "2022-11-26T08:58:40.186Z"
   },
   {
    "duration": 7,
    "start_time": "2022-11-26T08:58:41.184Z"
   },
   {
    "duration": 6,
    "start_time": "2022-11-26T08:58:42.045Z"
   },
   {
    "duration": 6,
    "start_time": "2022-11-26T08:58:43.185Z"
   },
   {
    "duration": 6,
    "start_time": "2022-11-26T08:58:43.681Z"
   },
   {
    "duration": 10,
    "start_time": "2022-11-26T09:00:02.715Z"
   },
   {
    "duration": 18,
    "start_time": "2022-11-26T09:00:03.564Z"
   },
   {
    "duration": 10,
    "start_time": "2022-11-26T09:00:04.553Z"
   },
   {
    "duration": 14,
    "start_time": "2022-11-26T09:01:06.443Z"
   },
   {
    "duration": 6,
    "start_time": "2022-11-26T09:01:23.301Z"
   },
   {
    "duration": 10,
    "start_time": "2022-11-26T09:02:46.146Z"
   },
   {
    "duration": 5,
    "start_time": "2022-11-26T09:02:51.251Z"
   },
   {
    "duration": 10,
    "start_time": "2022-11-26T09:02:51.883Z"
   },
   {
    "duration": 360,
    "start_time": "2022-11-26T09:03:08.493Z"
   },
   {
    "duration": 12,
    "start_time": "2022-11-26T09:03:20.392Z"
   },
   {
    "duration": 19,
    "start_time": "2022-11-26T09:03:43.783Z"
   },
   {
    "duration": 3,
    "start_time": "2022-11-26T09:04:10.742Z"
   },
   {
    "duration": 3,
    "start_time": "2022-11-26T09:04:13.716Z"
   },
   {
    "duration": 12,
    "start_time": "2022-11-26T09:04:20.160Z"
   },
   {
    "duration": 11,
    "start_time": "2022-11-26T09:05:43.663Z"
   },
   {
    "duration": 11,
    "start_time": "2022-11-26T09:05:53.656Z"
   },
   {
    "duration": 16,
    "start_time": "2022-11-26T09:05:54.104Z"
   },
   {
    "duration": 15,
    "start_time": "2022-11-26T09:06:51.551Z"
   },
   {
    "duration": 4,
    "start_time": "2022-11-26T09:07:06.071Z"
   },
   {
    "duration": 1202,
    "start_time": "2022-11-26T09:10:57.201Z"
   },
   {
    "duration": 27,
    "start_time": "2022-11-26T09:12:20.182Z"
   },
   {
    "duration": 72,
    "start_time": "2022-11-26T09:14:34.404Z"
   },
   {
    "duration": 11,
    "start_time": "2022-11-26T09:14:44.883Z"
   },
   {
    "duration": 25,
    "start_time": "2022-11-26T09:15:04.735Z"
   },
   {
    "duration": 12,
    "start_time": "2022-11-26T09:17:12.655Z"
   },
   {
    "duration": 70,
    "start_time": "2022-11-26T09:19:18.551Z"
   },
   {
    "duration": 103,
    "start_time": "2022-11-26T09:19:52.271Z"
   },
   {
    "duration": 75,
    "start_time": "2022-11-26T09:21:06.970Z"
   },
   {
    "duration": 79,
    "start_time": "2022-11-26T09:23:26.589Z"
   },
   {
    "duration": 22,
    "start_time": "2022-11-26T09:28:46.050Z"
   },
   {
    "duration": 4,
    "start_time": "2022-11-26T09:28:52.934Z"
   },
   {
    "duration": 220,
    "start_time": "2022-11-26T09:28:55.688Z"
   },
   {
    "duration": 198,
    "start_time": "2022-11-26T09:29:11.180Z"
   },
   {
    "duration": 194,
    "start_time": "2022-11-26T09:29:26.160Z"
   },
   {
    "duration": 16,
    "start_time": "2022-11-26T09:29:34.832Z"
   },
   {
    "duration": 14,
    "start_time": "2022-11-26T09:29:35.539Z"
   },
   {
    "duration": 3,
    "start_time": "2022-11-26T09:29:36.573Z"
   },
   {
    "duration": 199,
    "start_time": "2022-11-26T09:29:38.347Z"
   },
   {
    "duration": 213,
    "start_time": "2022-11-26T09:31:35.755Z"
   },
   {
    "duration": 82,
    "start_time": "2022-11-26T09:33:33.025Z"
   },
   {
    "duration": 61796,
    "start_time": "2022-11-26T09:33:44.596Z"
   },
   {
    "duration": 376,
    "start_time": "2022-11-26T09:36:15.290Z"
   },
   {
    "duration": 190,
    "start_time": "2022-11-26T09:36:33.777Z"
   },
   {
    "duration": 2,
    "start_time": "2022-11-26T09:42:09.858Z"
   },
   {
    "duration": 191,
    "start_time": "2022-11-26T09:47:53.295Z"
   },
   {
    "duration": 62767,
    "start_time": "2022-11-26T09:48:18.876Z"
   },
   {
    "duration": 21,
    "start_time": "2022-11-26T09:50:36.977Z"
   },
   {
    "duration": 24,
    "start_time": "2022-11-26T09:51:01.948Z"
   },
   {
    "duration": 10,
    "start_time": "2022-11-26T09:51:33.322Z"
   },
   {
    "duration": 71,
    "start_time": "2022-11-26T09:54:32.736Z"
   },
   {
    "duration": 6,
    "start_time": "2022-11-26T09:55:40.753Z"
   },
   {
    "duration": 17,
    "start_time": "2022-11-26T12:25:25.970Z"
   },
   {
    "duration": 9,
    "start_time": "2022-11-26T12:26:36.396Z"
   },
   {
    "duration": 3,
    "start_time": "2022-11-26T12:27:50.889Z"
   },
   {
    "duration": 18,
    "start_time": "2022-11-26T12:27:53.610Z"
   },
   {
    "duration": 18,
    "start_time": "2022-11-26T12:28:11.114Z"
   },
   {
    "duration": 18,
    "start_time": "2022-11-26T12:28:19.905Z"
   },
   {
    "duration": 17,
    "start_time": "2022-11-26T12:28:41.791Z"
   },
   {
    "duration": 71,
    "start_time": "2022-11-26T12:28:55.190Z"
   },
   {
    "duration": 3,
    "start_time": "2022-11-26T12:29:01.732Z"
   },
   {
    "duration": 16,
    "start_time": "2022-11-26T12:29:04.396Z"
   },
   {
    "duration": 17,
    "start_time": "2022-11-26T12:29:08.803Z"
   },
   {
    "duration": 18,
    "start_time": "2022-11-26T12:29:21.010Z"
   },
   {
    "duration": 20,
    "start_time": "2022-11-26T12:31:19.332Z"
   },
   {
    "duration": 3,
    "start_time": "2022-11-26T12:33:10.519Z"
   },
   {
    "duration": 18,
    "start_time": "2022-11-26T12:33:12.073Z"
   },
   {
    "duration": 19,
    "start_time": "2022-11-26T12:33:35.419Z"
   },
   {
    "duration": 3,
    "start_time": "2022-11-26T12:33:57.023Z"
   },
   {
    "duration": 18,
    "start_time": "2022-11-26T12:34:23.774Z"
   },
   {
    "duration": 18,
    "start_time": "2022-11-26T12:34:50.538Z"
   },
   {
    "duration": 18,
    "start_time": "2022-11-26T12:35:23.202Z"
   },
   {
    "duration": 17,
    "start_time": "2022-11-26T12:35:35.722Z"
   },
   {
    "duration": 73,
    "start_time": "2022-11-26T12:38:02.954Z"
   },
   {
    "duration": 92,
    "start_time": "2022-11-26T12:38:07.433Z"
   },
   {
    "duration": 16,
    "start_time": "2022-11-26T12:38:26.300Z"
   },
   {
    "duration": 17,
    "start_time": "2022-11-26T12:51:53.369Z"
   },
   {
    "duration": 21,
    "start_time": "2022-11-26T12:52:17.658Z"
   },
   {
    "duration": 22,
    "start_time": "2022-11-26T12:53:22.190Z"
   },
   {
    "duration": 5,
    "start_time": "2022-11-26T12:54:34.089Z"
   },
   {
    "duration": 22,
    "start_time": "2022-11-26T12:54:35.056Z"
   },
   {
    "duration": 22,
    "start_time": "2022-11-26T12:55:45.696Z"
   },
   {
    "duration": 4,
    "start_time": "2022-11-26T12:57:06.481Z"
   },
   {
    "duration": 6,
    "start_time": "2022-11-26T12:57:18.288Z"
   },
   {
    "duration": 9,
    "start_time": "2022-11-26T12:59:39.372Z"
   },
   {
    "duration": 12,
    "start_time": "2022-11-26T12:59:47.971Z"
   },
   {
    "duration": 12,
    "start_time": "2022-11-26T12:59:58.103Z"
   },
   {
    "duration": 10,
    "start_time": "2022-11-26T13:00:29.757Z"
   },
   {
    "duration": 14,
    "start_time": "2022-11-26T13:00:39.733Z"
   },
   {
    "duration": 15,
    "start_time": "2022-11-26T13:01:01.518Z"
   },
   {
    "duration": 12,
    "start_time": "2022-11-26T13:01:13.871Z"
   },
   {
    "duration": 13,
    "start_time": "2022-11-26T13:01:22.220Z"
   },
   {
    "duration": 14,
    "start_time": "2022-11-26T13:01:30.491Z"
   },
   {
    "duration": 9,
    "start_time": "2022-11-26T13:02:16.384Z"
   },
   {
    "duration": 9,
    "start_time": "2022-11-26T13:02:24.839Z"
   },
   {
    "duration": 9,
    "start_time": "2022-11-26T13:02:56.771Z"
   },
   {
    "duration": 10,
    "start_time": "2022-11-26T13:03:26.576Z"
   },
   {
    "duration": 20,
    "start_time": "2022-11-26T13:03:40.580Z"
   },
   {
    "duration": 137,
    "start_time": "2022-11-26T13:08:29.809Z"
   },
   {
    "duration": 12,
    "start_time": "2022-11-26T13:08:34.099Z"
   },
   {
    "duration": 4,
    "start_time": "2022-11-26T13:08:42.983Z"
   },
   {
    "duration": 4,
    "start_time": "2022-11-26T13:08:43.716Z"
   },
   {
    "duration": 15,
    "start_time": "2022-11-26T13:08:45.327Z"
   },
   {
    "duration": 13,
    "start_time": "2022-11-26T13:09:19.648Z"
   },
   {
    "duration": 10,
    "start_time": "2022-11-26T13:09:56.716Z"
   },
   {
    "duration": 333,
    "start_time": "2022-11-26T13:10:41.211Z"
   },
   {
    "duration": 1308,
    "start_time": "2022-11-26T13:11:35.767Z"
   },
   {
    "duration": 40,
    "start_time": "2022-11-26T13:11:37.077Z"
   },
   {
    "duration": 18,
    "start_time": "2022-11-26T13:11:37.119Z"
   },
   {
    "duration": 12,
    "start_time": "2022-11-26T13:11:37.139Z"
   },
   {
    "duration": 39,
    "start_time": "2022-11-26T13:11:38.192Z"
   },
   {
    "duration": 41,
    "start_time": "2022-11-26T13:11:38.508Z"
   },
   {
    "duration": 15,
    "start_time": "2022-11-26T13:11:38.882Z"
   },
   {
    "duration": 38,
    "start_time": "2022-11-26T13:11:39.503Z"
   },
   {
    "duration": 12,
    "start_time": "2022-11-26T13:11:39.806Z"
   },
   {
    "duration": 6,
    "start_time": "2022-11-26T13:11:40.435Z"
   },
   {
    "duration": 7,
    "start_time": "2022-11-26T13:11:41.031Z"
   },
   {
    "duration": 7,
    "start_time": "2022-11-26T13:11:41.568Z"
   },
   {
    "duration": 7,
    "start_time": "2022-11-26T13:11:41.863Z"
   },
   {
    "duration": 1091,
    "start_time": "2022-11-26T13:11:42.553Z"
   },
   {
    "duration": 9,
    "start_time": "2022-11-26T13:11:44.885Z"
   },
   {
    "duration": 20,
    "start_time": "2022-11-26T13:11:45.386Z"
   },
   {
    "duration": 6,
    "start_time": "2022-11-26T13:11:46.328Z"
   },
   {
    "duration": 12,
    "start_time": "2022-11-26T13:11:48.633Z"
   },
   {
    "duration": 13,
    "start_time": "2022-11-26T13:11:49.646Z"
   },
   {
    "duration": 45,
    "start_time": "2022-11-26T13:11:58.243Z"
   },
   {
    "duration": 3,
    "start_time": "2022-11-26T13:12:05.221Z"
   },
   {
    "duration": 6,
    "start_time": "2022-11-26T13:12:05.553Z"
   },
   {
    "duration": 3,
    "start_time": "2022-11-26T13:12:07.168Z"
   },
   {
    "duration": 4,
    "start_time": "2022-11-26T13:12:07.662Z"
   },
   {
    "duration": 5,
    "start_time": "2022-11-26T13:12:08.062Z"
   },
   {
    "duration": 12,
    "start_time": "2022-11-26T13:12:08.434Z"
   },
   {
    "duration": 410,
    "start_time": "2022-11-26T13:12:08.774Z"
   },
   {
    "duration": 8,
    "start_time": "2022-11-26T13:12:25.022Z"
   },
   {
    "duration": 145,
    "start_time": "2022-11-26T13:12:26.430Z"
   },
   {
    "duration": 9,
    "start_time": "2022-11-26T13:13:20.720Z"
   },
   {
    "duration": 130,
    "start_time": "2022-11-26T13:13:42.043Z"
   },
   {
    "duration": 3,
    "start_time": "2022-11-26T13:14:30.690Z"
   },
   {
    "duration": 15,
    "start_time": "2022-11-26T13:17:43.279Z"
   },
   {
    "duration": 11,
    "start_time": "2022-11-26T13:17:49.159Z"
   },
   {
    "duration": 4,
    "start_time": "2022-11-26T13:17:51.392Z"
   },
   {
    "duration": 141,
    "start_time": "2022-11-26T13:17:52.822Z"
   },
   {
    "duration": 9,
    "start_time": "2022-11-26T13:18:51.763Z"
   },
   {
    "duration": 10,
    "start_time": "2022-11-26T13:18:55.574Z"
   },
   {
    "duration": 4,
    "start_time": "2022-11-26T13:19:01.112Z"
   },
   {
    "duration": 142,
    "start_time": "2022-11-26T13:19:02.030Z"
   },
   {
    "duration": 142,
    "start_time": "2022-11-26T13:19:33.312Z"
   },
   {
    "duration": 132,
    "start_time": "2022-11-26T13:19:41.969Z"
   },
   {
    "duration": 134,
    "start_time": "2022-11-26T13:19:51.934Z"
   },
   {
    "duration": 183,
    "start_time": "2022-11-26T13:20:04.378Z"
   },
   {
    "duration": 143,
    "start_time": "2022-11-26T13:20:20.674Z"
   },
   {
    "duration": 16,
    "start_time": "2022-11-26T13:21:16.127Z"
   },
   {
    "duration": 12,
    "start_time": "2022-11-26T13:22:10.702Z"
   },
   {
    "duration": 3,
    "start_time": "2022-11-26T13:22:11.694Z"
   },
   {
    "duration": 143,
    "start_time": "2022-11-26T13:22:12.963Z"
   },
   {
    "duration": 9,
    "start_time": "2022-11-26T13:23:36.382Z"
   },
   {
    "duration": 26,
    "start_time": "2022-11-26T13:24:44.524Z"
   },
   {
    "duration": 4,
    "start_time": "2022-11-26T13:25:36.044Z"
   },
   {
    "duration": 21,
    "start_time": "2022-11-26T13:25:58.160Z"
   },
   {
    "duration": 5,
    "start_time": "2022-11-26T13:27:51.919Z"
   },
   {
    "duration": 6,
    "start_time": "2022-11-26T13:28:11.271Z"
   },
   {
    "duration": 5,
    "start_time": "2022-11-26T13:29:06.782Z"
   },
   {
    "duration": 161,
    "start_time": "2022-11-26T13:29:38.753Z"
   },
   {
    "duration": 5,
    "start_time": "2022-11-26T13:30:49.703Z"
   },
   {
    "duration": 142,
    "start_time": "2022-11-26T13:30:50.332Z"
   },
   {
    "duration": 150,
    "start_time": "2022-11-26T13:32:25.494Z"
   },
   {
    "duration": 0,
    "start_time": "2022-11-26T13:32:25.645Z"
   },
   {
    "duration": 290,
    "start_time": "2022-11-26T13:32:26.025Z"
   },
   {
    "duration": 58,
    "start_time": "2022-11-26T13:34:15.335Z"
   },
   {
    "duration": 1336,
    "start_time": "2022-11-26T13:34:28.536Z"
   },
   {
    "duration": 47,
    "start_time": "2022-11-26T13:34:29.874Z"
   },
   {
    "duration": 20,
    "start_time": "2022-11-26T13:34:29.923Z"
   },
   {
    "duration": 14,
    "start_time": "2022-11-26T13:34:29.946Z"
   },
   {
    "duration": 67,
    "start_time": "2022-11-26T13:34:29.962Z"
   },
   {
    "duration": 50,
    "start_time": "2022-11-26T13:34:30.031Z"
   },
   {
    "duration": 19,
    "start_time": "2022-11-26T13:34:30.123Z"
   },
   {
    "duration": 41,
    "start_time": "2022-11-26T13:34:30.526Z"
   },
   {
    "duration": 14,
    "start_time": "2022-11-26T13:34:30.698Z"
   },
   {
    "duration": 7,
    "start_time": "2022-11-26T13:34:31.085Z"
   },
   {
    "duration": 7,
    "start_time": "2022-11-26T13:34:31.459Z"
   },
   {
    "duration": 9,
    "start_time": "2022-11-26T13:34:31.842Z"
   },
   {
    "duration": 6,
    "start_time": "2022-11-26T13:34:32.048Z"
   },
   {
    "duration": 1102,
    "start_time": "2022-11-26T13:34:32.454Z"
   },
   {
    "duration": 10,
    "start_time": "2022-11-26T13:34:33.557Z"
   },
   {
    "duration": 18,
    "start_time": "2022-11-26T13:34:33.569Z"
   },
   {
    "duration": 5,
    "start_time": "2022-11-26T13:34:33.757Z"
   },
   {
    "duration": 12,
    "start_time": "2022-11-26T13:34:33.989Z"
   },
   {
    "duration": 13,
    "start_time": "2022-11-26T13:34:35.066Z"
   },
   {
    "duration": 60,
    "start_time": "2022-11-26T13:34:36.486Z"
   },
   {
    "duration": 3,
    "start_time": "2022-11-26T13:34:41.806Z"
   },
   {
    "duration": 6,
    "start_time": "2022-11-26T13:34:42.087Z"
   },
   {
    "duration": 3,
    "start_time": "2022-11-26T13:34:43.302Z"
   },
   {
    "duration": 6,
    "start_time": "2022-11-26T13:34:43.876Z"
   },
   {
    "duration": 73,
    "start_time": "2022-11-26T13:34:45.633Z"
   },
   {
    "duration": 156,
    "start_time": "2022-11-26T13:34:56.440Z"
   },
   {
    "duration": 4,
    "start_time": "2022-11-26T13:35:39.999Z"
   },
   {
    "duration": 9,
    "start_time": "2022-11-26T13:35:49.690Z"
   },
   {
    "duration": 4,
    "start_time": "2022-11-26T13:35:57.532Z"
   },
   {
    "duration": 5,
    "start_time": "2022-11-26T13:35:57.928Z"
   },
   {
    "duration": 10,
    "start_time": "2022-11-26T13:35:58.655Z"
   },
   {
    "duration": 23,
    "start_time": "2022-11-26T13:36:17.694Z"
   },
   {
    "duration": 4,
    "start_time": "2022-11-26T13:38:19.711Z"
   },
   {
    "duration": 11,
    "start_time": "2022-11-26T13:39:12.307Z"
   },
   {
    "duration": 6,
    "start_time": "2022-11-26T13:39:20.329Z"
   },
   {
    "duration": 1463,
    "start_time": "2022-11-26T13:40:07.750Z"
   },
   {
    "duration": 29,
    "start_time": "2022-11-26T13:40:25.710Z"
   },
   {
    "duration": 32,
    "start_time": "2022-11-26T13:41:00.755Z"
   },
   {
    "duration": 14,
    "start_time": "2022-11-26T13:43:57.416Z"
   },
   {
    "duration": 5,
    "start_time": "2022-11-26T13:44:12.075Z"
   },
   {
    "duration": 4,
    "start_time": "2022-11-26T13:44:17.953Z"
   },
   {
    "duration": 12,
    "start_time": "2022-11-26T13:44:25.672Z"
   },
   {
    "duration": 14,
    "start_time": "2022-11-26T13:45:28.000Z"
   },
   {
    "duration": 16,
    "start_time": "2022-11-26T13:45:37.200Z"
   },
   {
    "duration": 165,
    "start_time": "2022-11-26T13:46:32.152Z"
   },
   {
    "duration": 4,
    "start_time": "2022-11-26T13:46:40.286Z"
   },
   {
    "duration": 11,
    "start_time": "2022-11-26T13:46:40.801Z"
   },
   {
    "duration": 156,
    "start_time": "2022-11-26T13:46:41.712Z"
   },
   {
    "duration": 5,
    "start_time": "2022-11-26T13:46:58.332Z"
   },
   {
    "duration": 13,
    "start_time": "2022-11-26T13:46:58.942Z"
   },
   {
    "duration": 154,
    "start_time": "2022-11-26T13:46:59.657Z"
   },
   {
    "duration": 171,
    "start_time": "2022-11-26T13:47:15.201Z"
   },
   {
    "duration": 13,
    "start_time": "2022-11-26T13:48:22.190Z"
   },
   {
    "duration": 3,
    "start_time": "2022-11-26T13:48:25.356Z"
   },
   {
    "duration": 5,
    "start_time": "2022-11-26T13:48:25.361Z"
   },
   {
    "duration": 11,
    "start_time": "2022-11-26T13:48:26.235Z"
   },
   {
    "duration": 11,
    "start_time": "2022-11-26T13:49:37.764Z"
   },
   {
    "duration": 11,
    "start_time": "2022-11-26T13:49:58.451Z"
   },
   {
    "duration": 10,
    "start_time": "2022-11-26T13:50:26.878Z"
   },
   {
    "duration": 9,
    "start_time": "2022-11-26T13:50:38.975Z"
   },
   {
    "duration": 19,
    "start_time": "2022-11-26T13:51:02.174Z"
   },
   {
    "duration": 16,
    "start_time": "2022-11-26T13:51:19.783Z"
   },
   {
    "duration": 945,
    "start_time": "2022-11-26T13:51:54.128Z"
   },
   {
    "duration": 5,
    "start_time": "2022-11-26T13:52:00.628Z"
   },
   {
    "duration": 5,
    "start_time": "2022-11-26T13:52:14.467Z"
   },
   {
    "duration": 10,
    "start_time": "2022-11-26T13:52:36.717Z"
   },
   {
    "duration": 5,
    "start_time": "2022-11-26T13:52:37.225Z"
   },
   {
    "duration": 4,
    "start_time": "2022-11-26T13:54:02.389Z"
   },
   {
    "duration": 9,
    "start_time": "2022-11-26T13:54:02.870Z"
   },
   {
    "duration": 4,
    "start_time": "2022-11-26T13:54:03.410Z"
   },
   {
    "duration": 10,
    "start_time": "2022-11-26T13:54:04.753Z"
   },
   {
    "duration": 6,
    "start_time": "2022-11-26T13:54:05.607Z"
   },
   {
    "duration": 12,
    "start_time": "2022-11-26T13:54:13.041Z"
   },
   {
    "duration": 7,
    "start_time": "2022-11-26T13:54:14.275Z"
   },
   {
    "duration": 1333,
    "start_time": "2022-11-26T13:54:41.231Z"
   },
   {
    "duration": 39,
    "start_time": "2022-11-26T13:54:42.567Z"
   },
   {
    "duration": 3,
    "start_time": "2022-11-26T13:54:58.809Z"
   },
   {
    "duration": 15,
    "start_time": "2022-11-26T13:54:59.244Z"
   },
   {
    "duration": 3,
    "start_time": "2022-11-26T13:55:01.616Z"
   },
   {
    "duration": 4,
    "start_time": "2022-11-26T13:55:02.072Z"
   },
   {
    "duration": 108,
    "start_time": "2022-11-26T13:55:26.632Z"
   },
   {
    "duration": 7,
    "start_time": "2022-11-26T13:55:32.612Z"
   },
   {
    "duration": 51,
    "start_time": "2022-11-26T13:55:44.165Z"
   },
   {
    "duration": 6,
    "start_time": "2022-11-26T13:55:48.209Z"
   },
   {
    "duration": 4,
    "start_time": "2022-11-26T13:56:05.063Z"
   },
   {
    "duration": 5,
    "start_time": "2022-11-26T13:56:06.447Z"
   },
   {
    "duration": 15,
    "start_time": "2022-11-26T13:56:11.088Z"
   },
   {
    "duration": 6,
    "start_time": "2022-11-26T13:56:12.048Z"
   },
   {
    "duration": 1005,
    "start_time": "2022-11-26T13:57:00.670Z"
   },
   {
    "duration": 43,
    "start_time": "2022-11-26T13:57:01.677Z"
   },
   {
    "duration": 101,
    "start_time": "2022-11-26T13:57:01.779Z"
   },
   {
    "duration": 2,
    "start_time": "2022-11-26T13:57:02.418Z"
   },
   {
    "duration": 3,
    "start_time": "2022-11-26T13:57:20.441Z"
   },
   {
    "duration": 340,
    "start_time": "2022-11-26T13:57:25.009Z"
   },
   {
    "duration": 43,
    "start_time": "2022-11-26T13:57:26.521Z"
   },
   {
    "duration": 13,
    "start_time": "2022-11-26T13:57:27.017Z"
   },
   {
    "duration": 3,
    "start_time": "2022-11-26T13:57:28.061Z"
   },
   {
    "duration": 4,
    "start_time": "2022-11-26T13:57:28.602Z"
   },
   {
    "duration": 8,
    "start_time": "2022-11-26T13:57:29.336Z"
   },
   {
    "duration": 19,
    "start_time": "2022-11-26T13:57:30.045Z"
   },
   {
    "duration": 5,
    "start_time": "2022-11-26T13:57:31.169Z"
   },
   {
    "duration": 5,
    "start_time": "2022-11-26T13:57:47.842Z"
   },
   {
    "duration": 11,
    "start_time": "2022-11-26T13:57:51.002Z"
   },
   {
    "duration": 6,
    "start_time": "2022-11-26T13:57:53.193Z"
   },
   {
    "duration": 5,
    "start_time": "2022-11-26T13:59:02.805Z"
   },
   {
    "duration": 3,
    "start_time": "2022-11-26T13:59:08.460Z"
   },
   {
    "duration": 37,
    "start_time": "2022-11-26T13:59:08.771Z"
   },
   {
    "duration": 13,
    "start_time": "2022-11-26T13:59:09.079Z"
   },
   {
    "duration": 2,
    "start_time": "2022-11-26T13:59:09.413Z"
   },
   {
    "duration": 4,
    "start_time": "2022-11-26T13:59:09.770Z"
   },
   {
    "duration": 7,
    "start_time": "2022-11-26T13:59:10.128Z"
   },
   {
    "duration": 14,
    "start_time": "2022-11-26T13:59:14.199Z"
   },
   {
    "duration": 7,
    "start_time": "2022-11-26T13:59:14.900Z"
   },
   {
    "duration": 10,
    "start_time": "2022-11-26T13:59:33.164Z"
   },
   {
    "duration": 5,
    "start_time": "2022-11-26T13:59:33.903Z"
   },
   {
    "duration": 14,
    "start_time": "2022-11-26T13:59:49.020Z"
   },
   {
    "duration": 4,
    "start_time": "2022-11-26T13:59:49.481Z"
   },
   {
    "duration": 4,
    "start_time": "2022-11-26T14:00:08.061Z"
   },
   {
    "duration": 39,
    "start_time": "2022-11-26T14:00:08.356Z"
   },
   {
    "duration": 13,
    "start_time": "2022-11-26T14:00:08.543Z"
   },
   {
    "duration": 2,
    "start_time": "2022-11-26T14:00:08.703Z"
   },
   {
    "duration": 4,
    "start_time": "2022-11-26T14:00:08.888Z"
   },
   {
    "duration": 7,
    "start_time": "2022-11-26T14:00:09.036Z"
   },
   {
    "duration": 13,
    "start_time": "2022-11-26T14:00:09.356Z"
   },
   {
    "duration": 7,
    "start_time": "2022-11-26T14:00:09.796Z"
   },
   {
    "duration": 4,
    "start_time": "2022-11-26T14:00:10.242Z"
   },
   {
    "duration": 12,
    "start_time": "2022-11-26T14:00:10.801Z"
   },
   {
    "duration": 5,
    "start_time": "2022-11-26T14:00:16.938Z"
   },
   {
    "duration": 4,
    "start_time": "2022-11-26T14:00:23.660Z"
   },
   {
    "duration": 45,
    "start_time": "2022-11-26T14:00:23.953Z"
   },
   {
    "duration": 16,
    "start_time": "2022-11-26T14:00:24.048Z"
   },
   {
    "duration": 2,
    "start_time": "2022-11-26T14:00:24.500Z"
   },
   {
    "duration": 4,
    "start_time": "2022-11-26T14:00:24.821Z"
   },
   {
    "duration": 5,
    "start_time": "2022-11-26T14:00:25.493Z"
   },
   {
    "duration": 13,
    "start_time": "2022-11-26T14:00:26.561Z"
   },
   {
    "duration": 6,
    "start_time": "2022-11-26T14:00:27.881Z"
   },
   {
    "duration": 5,
    "start_time": "2022-11-26T14:01:45.337Z"
   },
   {
    "duration": 11,
    "start_time": "2022-11-26T14:01:46.969Z"
   },
   {
    "duration": 7,
    "start_time": "2022-11-26T14:01:47.890Z"
   },
   {
    "duration": 5,
    "start_time": "2022-11-26T14:04:33.292Z"
   },
   {
    "duration": 49,
    "start_time": "2022-11-26T14:04:33.488Z"
   },
   {
    "duration": 18,
    "start_time": "2022-11-26T14:04:33.668Z"
   },
   {
    "duration": 4,
    "start_time": "2022-11-26T14:04:34.393Z"
   },
   {
    "duration": 8,
    "start_time": "2022-11-26T14:04:34.726Z"
   },
   {
    "duration": 5,
    "start_time": "2022-11-26T14:04:36.257Z"
   },
   {
    "duration": 12,
    "start_time": "2022-11-26T14:04:37.297Z"
   },
   {
    "duration": 5,
    "start_time": "2022-11-26T14:04:38.352Z"
   },
   {
    "duration": 15,
    "start_time": "2022-11-26T14:04:43.337Z"
   },
   {
    "duration": 7,
    "start_time": "2022-11-26T14:04:44.849Z"
   },
   {
    "duration": 4,
    "start_time": "2022-11-26T14:04:51.733Z"
   },
   {
    "duration": 40,
    "start_time": "2022-11-26T14:04:52.081Z"
   },
   {
    "duration": 13,
    "start_time": "2022-11-26T14:04:52.551Z"
   },
   {
    "duration": 3,
    "start_time": "2022-11-26T14:04:53.016Z"
   },
   {
    "duration": 5,
    "start_time": "2022-11-26T14:04:53.420Z"
   },
   {
    "duration": 6,
    "start_time": "2022-11-26T14:04:54.472Z"
   },
   {
    "duration": 12,
    "start_time": "2022-11-26T14:04:55.769Z"
   },
   {
    "duration": 6,
    "start_time": "2022-11-26T14:04:56.477Z"
   },
   {
    "duration": 4,
    "start_time": "2022-11-26T14:06:06.753Z"
   },
   {
    "duration": 55,
    "start_time": "2022-11-26T14:06:07.109Z"
   },
   {
    "duration": 13,
    "start_time": "2022-11-26T14:06:07.642Z"
   },
   {
    "duration": 3,
    "start_time": "2022-11-26T14:06:07.895Z"
   },
   {
    "duration": 6,
    "start_time": "2022-11-26T14:06:08.245Z"
   },
   {
    "duration": 4,
    "start_time": "2022-11-26T14:06:08.623Z"
   },
   {
    "duration": 13,
    "start_time": "2022-11-26T14:06:09.277Z"
   },
   {
    "duration": 5,
    "start_time": "2022-11-26T14:06:09.694Z"
   },
   {
    "duration": 12,
    "start_time": "2022-11-26T14:06:14.856Z"
   },
   {
    "duration": 6,
    "start_time": "2022-11-26T14:06:15.370Z"
   },
   {
    "duration": 5,
    "start_time": "2022-11-26T14:06:19.313Z"
   },
   {
    "duration": 38,
    "start_time": "2022-11-26T14:06:19.681Z"
   },
   {
    "duration": 14,
    "start_time": "2022-11-26T14:06:19.992Z"
   },
   {
    "duration": 3,
    "start_time": "2022-11-26T14:06:20.390Z"
   },
   {
    "duration": 6,
    "start_time": "2022-11-26T14:06:20.781Z"
   },
   {
    "duration": 7,
    "start_time": "2022-11-26T14:06:21.430Z"
   },
   {
    "duration": 12,
    "start_time": "2022-11-26T14:06:21.805Z"
   },
   {
    "duration": 6,
    "start_time": "2022-11-26T14:06:22.229Z"
   },
   {
    "duration": 4,
    "start_time": "2022-11-26T14:06:29.401Z"
   },
   {
    "duration": 38,
    "start_time": "2022-11-26T14:06:29.628Z"
   },
   {
    "duration": 15,
    "start_time": "2022-11-26T14:06:29.785Z"
   },
   {
    "duration": 2,
    "start_time": "2022-11-26T14:06:30.248Z"
   },
   {
    "duration": 6,
    "start_time": "2022-11-26T14:06:30.581Z"
   },
   {
    "duration": 4,
    "start_time": "2022-11-26T14:06:30.897Z"
   },
   {
    "duration": 31,
    "start_time": "2022-11-26T14:06:31.481Z"
   },
   {
    "duration": 3,
    "start_time": "2022-11-26T14:06:42.289Z"
   },
   {
    "duration": 40,
    "start_time": "2022-11-26T14:06:42.551Z"
   },
   {
    "duration": 16,
    "start_time": "2022-11-26T14:06:42.790Z"
   },
   {
    "duration": 3,
    "start_time": "2022-11-26T14:06:43.009Z"
   },
   {
    "duration": 8,
    "start_time": "2022-11-26T14:06:43.270Z"
   },
   {
    "duration": 11,
    "start_time": "2022-11-26T14:06:43.538Z"
   },
   {
    "duration": 14,
    "start_time": "2022-11-26T14:06:45.082Z"
   },
   {
    "duration": 5,
    "start_time": "2022-11-26T14:07:03.173Z"
   },
   {
    "duration": 4,
    "start_time": "2022-11-26T14:09:50.001Z"
   },
   {
    "duration": 39,
    "start_time": "2022-11-26T14:09:50.273Z"
   },
   {
    "duration": 13,
    "start_time": "2022-11-26T14:09:50.579Z"
   },
   {
    "duration": 4,
    "start_time": "2022-11-26T14:09:50.934Z"
   },
   {
    "duration": 3,
    "start_time": "2022-11-26T14:09:51.642Z"
   },
   {
    "duration": 9,
    "start_time": "2022-11-26T14:09:52.113Z"
   },
   {
    "duration": 7,
    "start_time": "2022-11-26T14:09:53.413Z"
   },
   {
    "duration": 18,
    "start_time": "2022-11-26T14:09:54.318Z"
   },
   {
    "duration": 8,
    "start_time": "2022-11-26T14:09:58.253Z"
   },
   {
    "duration": 4,
    "start_time": "2022-11-26T14:10:06.433Z"
   },
   {
    "duration": 38,
    "start_time": "2022-11-26T14:10:06.595Z"
   },
   {
    "duration": 13,
    "start_time": "2022-11-26T14:10:06.772Z"
   },
   {
    "duration": 4,
    "start_time": "2022-11-26T14:10:07.111Z"
   },
   {
    "duration": 5,
    "start_time": "2022-11-26T14:10:15.049Z"
   },
   {
    "duration": 3,
    "start_time": "2022-11-26T14:10:15.601Z"
   },
   {
    "duration": 8,
    "start_time": "2022-11-26T14:10:15.968Z"
   },
   {
    "duration": 4,
    "start_time": "2022-11-26T14:10:17.621Z"
   },
   {
    "duration": 11,
    "start_time": "2022-11-26T14:10:18.241Z"
   },
   {
    "duration": 5,
    "start_time": "2022-11-26T14:10:18.816Z"
   },
   {
    "duration": 20,
    "start_time": "2022-11-26T14:10:42.740Z"
   },
   {
    "duration": 5,
    "start_time": "2022-11-26T14:10:46.387Z"
   },
   {
    "duration": 41,
    "start_time": "2022-11-26T14:10:46.723Z"
   },
   {
    "duration": 12,
    "start_time": "2022-11-26T14:10:47.053Z"
   },
   {
    "duration": 5,
    "start_time": "2022-11-26T14:10:47.362Z"
   },
   {
    "duration": 2,
    "start_time": "2022-11-26T14:10:47.722Z"
   },
   {
    "duration": 5,
    "start_time": "2022-11-26T14:10:48.093Z"
   },
   {
    "duration": 4,
    "start_time": "2022-11-26T14:10:49.801Z"
   },
   {
    "duration": 13,
    "start_time": "2022-11-26T14:10:50.252Z"
   },
   {
    "duration": 5,
    "start_time": "2022-11-26T14:10:50.594Z"
   },
   {
    "duration": 3,
    "start_time": "2022-11-26T14:12:02.812Z"
   },
   {
    "duration": 38,
    "start_time": "2022-11-26T14:12:03.050Z"
   },
   {
    "duration": 14,
    "start_time": "2022-11-26T14:12:03.261Z"
   },
   {
    "duration": 5,
    "start_time": "2022-11-26T14:12:03.461Z"
   },
   {
    "duration": 3,
    "start_time": "2022-11-26T14:12:03.681Z"
   },
   {
    "duration": 14,
    "start_time": "2022-11-26T14:12:04.016Z"
   },
   {
    "duration": 5,
    "start_time": "2022-11-26T14:12:04.201Z"
   },
   {
    "duration": 12,
    "start_time": "2022-11-26T14:12:05.421Z"
   },
   {
    "duration": 7,
    "start_time": "2022-11-26T14:12:05.714Z"
   },
   {
    "duration": 3,
    "start_time": "2022-11-26T14:12:15.074Z"
   },
   {
    "duration": 39,
    "start_time": "2022-11-26T14:12:15.361Z"
   },
   {
    "duration": 14,
    "start_time": "2022-11-26T14:12:15.622Z"
   },
   {
    "duration": 7,
    "start_time": "2022-11-26T14:12:15.883Z"
   },
   {
    "duration": 4,
    "start_time": "2022-11-26T14:12:16.122Z"
   },
   {
    "duration": 5,
    "start_time": "2022-11-26T14:12:16.473Z"
   },
   {
    "duration": 4,
    "start_time": "2022-11-26T14:12:16.782Z"
   },
   {
    "duration": 11,
    "start_time": "2022-11-26T14:12:17.009Z"
   },
   {
    "duration": 6,
    "start_time": "2022-11-26T14:12:17.262Z"
   },
   {
    "duration": 4,
    "start_time": "2022-11-26T14:12:39.509Z"
   },
   {
    "duration": 43,
    "start_time": "2022-11-26T14:12:39.822Z"
   },
   {
    "duration": 14,
    "start_time": "2022-11-26T14:12:40.052Z"
   },
   {
    "duration": 4,
    "start_time": "2022-11-26T14:12:40.299Z"
   },
   {
    "duration": 3,
    "start_time": "2022-11-26T14:12:40.670Z"
   },
   {
    "duration": 5,
    "start_time": "2022-11-26T14:12:41.090Z"
   },
   {
    "duration": 4,
    "start_time": "2022-11-26T14:12:42.051Z"
   },
   {
    "duration": 12,
    "start_time": "2022-11-26T14:12:42.622Z"
   },
   {
    "duration": 6,
    "start_time": "2022-11-26T14:12:42.990Z"
   },
   {
    "duration": 3,
    "start_time": "2022-11-26T14:16:30.112Z"
   },
   {
    "duration": 39,
    "start_time": "2022-11-26T14:16:30.452Z"
   },
   {
    "duration": 14,
    "start_time": "2022-11-26T14:16:30.732Z"
   },
   {
    "duration": 5,
    "start_time": "2022-11-26T14:16:31.010Z"
   },
   {
    "duration": 3,
    "start_time": "2022-11-26T14:16:31.329Z"
   },
   {
    "duration": 9,
    "start_time": "2022-11-26T14:16:31.644Z"
   },
   {
    "duration": 6,
    "start_time": "2022-11-26T14:16:31.954Z"
   },
   {
    "duration": 28,
    "start_time": "2022-11-26T14:16:32.506Z"
   },
   {
    "duration": 7,
    "start_time": "2022-11-26T14:16:36.778Z"
   },
   {
    "duration": 12,
    "start_time": "2022-11-26T14:17:01.132Z"
   },
   {
    "duration": 3,
    "start_time": "2022-11-26T14:17:06.072Z"
   },
   {
    "duration": 38,
    "start_time": "2022-11-26T14:17:06.324Z"
   },
   {
    "duration": 25,
    "start_time": "2022-11-26T14:17:06.482Z"
   },
   {
    "duration": 7,
    "start_time": "2022-11-26T14:17:06.704Z"
   },
   {
    "duration": 3,
    "start_time": "2022-11-26T14:17:06.955Z"
   },
   {
    "duration": 6,
    "start_time": "2022-11-26T14:17:07.171Z"
   },
   {
    "duration": 4,
    "start_time": "2022-11-26T14:17:07.384Z"
   },
   {
    "duration": 10,
    "start_time": "2022-11-26T14:17:07.644Z"
   },
   {
    "duration": 6,
    "start_time": "2022-11-26T14:17:08.155Z"
   },
   {
    "duration": 4,
    "start_time": "2022-11-26T14:17:08.833Z"
   },
   {
    "duration": 12,
    "start_time": "2022-11-26T14:17:09.184Z"
   },
   {
    "duration": 11,
    "start_time": "2022-11-26T14:17:24.812Z"
   },
   {
    "duration": 12,
    "start_time": "2022-11-26T14:17:32.593Z"
   },
   {
    "duration": 6,
    "start_time": "2022-11-26T14:17:33.089Z"
   },
   {
    "duration": 12,
    "start_time": "2022-11-26T14:17:35.188Z"
   },
   {
    "duration": 6,
    "start_time": "2022-11-26T14:17:35.692Z"
   },
   {
    "duration": 11,
    "start_time": "2022-11-26T14:17:38.972Z"
   },
   {
    "duration": 6,
    "start_time": "2022-11-26T14:17:39.651Z"
   },
   {
    "duration": 3,
    "start_time": "2022-11-26T14:17:54.813Z"
   },
   {
    "duration": 39,
    "start_time": "2022-11-26T14:17:55.146Z"
   },
   {
    "duration": 17,
    "start_time": "2022-11-26T14:17:55.541Z"
   },
   {
    "duration": 5,
    "start_time": "2022-11-26T14:17:56.144Z"
   },
   {
    "duration": 3,
    "start_time": "2022-11-26T14:18:00.603Z"
   },
   {
    "duration": 6,
    "start_time": "2022-11-26T14:18:01.444Z"
   },
   {
    "duration": 4,
    "start_time": "2022-11-26T14:18:04.887Z"
   },
   {
    "duration": 11,
    "start_time": "2022-11-26T14:18:05.265Z"
   },
   {
    "duration": 6,
    "start_time": "2022-11-26T14:18:05.664Z"
   },
   {
    "duration": 3,
    "start_time": "2022-11-26T14:18:48.089Z"
   },
   {
    "duration": 39,
    "start_time": "2022-11-26T14:18:48.351Z"
   },
   {
    "duration": 14,
    "start_time": "2022-11-26T14:18:48.594Z"
   },
   {
    "duration": 5,
    "start_time": "2022-11-26T14:18:48.924Z"
   },
   {
    "duration": 4,
    "start_time": "2022-11-26T14:18:49.232Z"
   },
   {
    "duration": 13,
    "start_time": "2022-11-26T14:18:50.924Z"
   },
   {
    "duration": 6,
    "start_time": "2022-11-26T14:18:51.734Z"
   },
   {
    "duration": 3,
    "start_time": "2022-11-26T14:22:43.754Z"
   },
   {
    "duration": 20,
    "start_time": "2022-11-26T14:23:16.940Z"
   },
   {
    "duration": 4,
    "start_time": "2022-11-26T14:23:28.113Z"
   },
   {
    "duration": 40,
    "start_time": "2022-11-26T14:23:28.441Z"
   },
   {
    "duration": 16,
    "start_time": "2022-11-26T14:23:28.755Z"
   },
   {
    "duration": 13,
    "start_time": "2022-11-26T14:23:29.272Z"
   },
   {
    "duration": 43,
    "start_time": "2022-11-26T14:23:29.765Z"
   },
   {
    "duration": 44,
    "start_time": "2022-11-26T14:23:30.001Z"
   },
   {
    "duration": 17,
    "start_time": "2022-11-26T14:23:30.209Z"
   },
   {
    "duration": 43,
    "start_time": "2022-11-26T14:23:30.675Z"
   },
   {
    "duration": 13,
    "start_time": "2022-11-26T14:23:30.838Z"
   },
   {
    "duration": 7,
    "start_time": "2022-11-26T14:23:31.250Z"
   },
   {
    "duration": 7,
    "start_time": "2022-11-26T14:23:31.649Z"
   },
   {
    "duration": 6,
    "start_time": "2022-11-26T14:23:31.982Z"
   },
   {
    "duration": 6,
    "start_time": "2022-11-26T14:23:32.188Z"
   },
   {
    "duration": 1172,
    "start_time": "2022-11-26T14:23:32.596Z"
   },
   {
    "duration": 11,
    "start_time": "2022-11-26T14:23:38.751Z"
   },
   {
    "duration": 22,
    "start_time": "2022-11-26T14:23:39.180Z"
   },
   {
    "duration": 6,
    "start_time": "2022-11-26T14:23:39.421Z"
   },
   {
    "duration": 13,
    "start_time": "2022-11-26T14:23:39.681Z"
   },
   {
    "duration": 12,
    "start_time": "2022-11-26T14:23:40.402Z"
   },
   {
    "duration": 45,
    "start_time": "2022-11-26T14:23:45.365Z"
   },
   {
    "duration": 4,
    "start_time": "2022-11-26T14:23:54.230Z"
   },
   {
    "duration": 37,
    "start_time": "2022-11-26T14:23:54.630Z"
   },
   {
    "duration": 13,
    "start_time": "2022-11-26T14:23:55.172Z"
   },
   {
    "duration": 3,
    "start_time": "2022-11-26T14:24:00.757Z"
   },
   {
    "duration": 8,
    "start_time": "2022-11-26T14:24:01.020Z"
   },
   {
    "duration": 5,
    "start_time": "2022-11-26T14:24:02.349Z"
   },
   {
    "duration": 46,
    "start_time": "2022-11-26T14:24:02.705Z"
   },
   {
    "duration": 18,
    "start_time": "2022-11-26T14:24:03.174Z"
   },
   {
    "duration": 7,
    "start_time": "2022-11-26T14:24:03.340Z"
   },
   {
    "duration": 6,
    "start_time": "2022-11-26T14:24:04.218Z"
   },
   {
    "duration": 21,
    "start_time": "2022-11-26T14:24:04.827Z"
   },
   {
    "duration": 6,
    "start_time": "2022-11-26T14:24:05.369Z"
   },
   {
    "duration": 3,
    "start_time": "2022-11-26T14:24:13.065Z"
   },
   {
    "duration": 24,
    "start_time": "2022-11-26T14:24:14.880Z"
   },
   {
    "duration": 393,
    "start_time": "2022-11-26T14:25:48.850Z"
   },
   {
    "duration": 17,
    "start_time": "2022-11-26T14:25:49.295Z"
   },
   {
    "duration": 329,
    "start_time": "2022-11-26T14:26:06.498Z"
   },
   {
    "duration": 391,
    "start_time": "2022-11-26T14:26:19.497Z"
   },
   {
    "duration": 122,
    "start_time": "2022-11-26T14:28:06.618Z"
   },
   {
    "duration": 14,
    "start_time": "2022-11-26T14:28:08.272Z"
   },
   {
    "duration": 6,
    "start_time": "2022-11-26T14:28:08.977Z"
   },
   {
    "duration": 4,
    "start_time": "2022-11-26T14:28:09.870Z"
   },
   {
    "duration": 11,
    "start_time": "2022-11-26T14:28:10.371Z"
   },
   {
    "duration": 6,
    "start_time": "2022-11-26T14:28:10.686Z"
   },
   {
    "duration": 3,
    "start_time": "2022-11-26T14:28:16.007Z"
   },
   {
    "duration": 14,
    "start_time": "2022-11-26T14:28:17.185Z"
   },
   {
    "duration": 88,
    "start_time": "2022-11-26T14:29:16.336Z"
   },
   {
    "duration": 22,
    "start_time": "2022-11-26T14:29:16.717Z"
   },
   {
    "duration": 7,
    "start_time": "2022-11-26T14:29:17.059Z"
   },
   {
    "duration": 6,
    "start_time": "2022-11-26T14:29:17.551Z"
   },
   {
    "duration": 17,
    "start_time": "2022-11-26T14:29:17.930Z"
   },
   {
    "duration": 6,
    "start_time": "2022-11-26T14:29:18.417Z"
   },
   {
    "duration": 12,
    "start_time": "2022-11-26T14:29:22.974Z"
   },
   {
    "duration": 680,
    "start_time": "2022-11-26T14:30:33.293Z"
   },
   {
    "duration": 698,
    "start_time": "2022-11-26T14:30:52.678Z"
   },
   {
    "duration": 699,
    "start_time": "2022-11-26T14:31:05.237Z"
   },
   {
    "duration": 708,
    "start_time": "2022-11-26T14:31:19.110Z"
   },
   {
    "duration": 80,
    "start_time": "2022-11-26T14:32:09.682Z"
   },
   {
    "duration": 3,
    "start_time": "2022-11-26T14:33:01.374Z"
   },
   {
    "duration": 496,
    "start_time": "2022-11-26T14:33:59.130Z"
   },
   {
    "duration": 4,
    "start_time": "2022-11-26T14:34:03.944Z"
   },
   {
    "duration": 4,
    "start_time": "2022-11-26T14:34:04.182Z"
   },
   {
    "duration": 247,
    "start_time": "2022-11-26T14:34:04.475Z"
   },
   {
    "duration": 251,
    "start_time": "2022-11-26T14:35:24.977Z"
   },
   {
    "duration": 349,
    "start_time": "2022-11-26T14:36:17.373Z"
   },
   {
    "duration": 3,
    "start_time": "2022-11-26T14:37:22.796Z"
   },
   {
    "duration": 284,
    "start_time": "2022-11-26T14:37:42.678Z"
   },
   {
    "duration": 183,
    "start_time": "2022-11-26T14:40:54.081Z"
   },
   {
    "duration": 1646,
    "start_time": "2022-11-27T08:36:57.191Z"
   },
   {
    "duration": 161,
    "start_time": "2022-11-27T08:36:58.839Z"
   },
   {
    "duration": 19,
    "start_time": "2022-11-27T08:36:59.001Z"
   },
   {
    "duration": 13,
    "start_time": "2022-11-27T08:36:59.022Z"
   },
   {
    "duration": 41,
    "start_time": "2022-11-27T08:36:59.037Z"
   },
   {
    "duration": 39,
    "start_time": "2022-11-27T08:36:59.080Z"
   },
   {
    "duration": 34,
    "start_time": "2022-11-27T08:36:59.121Z"
   },
   {
    "duration": 41,
    "start_time": "2022-11-27T08:36:59.157Z"
   },
   {
    "duration": 15,
    "start_time": "2022-11-27T08:36:59.200Z"
   },
   {
    "duration": 35,
    "start_time": "2022-11-27T08:36:59.217Z"
   },
   {
    "duration": 9,
    "start_time": "2022-11-27T08:36:59.254Z"
   },
   {
    "duration": 11,
    "start_time": "2022-11-27T08:36:59.264Z"
   },
   {
    "duration": 10,
    "start_time": "2022-11-27T08:36:59.276Z"
   },
   {
    "duration": 1313,
    "start_time": "2022-11-27T08:36:59.288Z"
   },
   {
    "duration": 13,
    "start_time": "2022-11-27T08:37:00.603Z"
   },
   {
    "duration": 38,
    "start_time": "2022-11-27T08:37:00.618Z"
   },
   {
    "duration": 16,
    "start_time": "2022-11-27T08:37:00.658Z"
   },
   {
    "duration": 45,
    "start_time": "2022-11-27T08:37:00.675Z"
   },
   {
    "duration": 13,
    "start_time": "2022-11-27T08:37:07.952Z"
   },
   {
    "duration": 112,
    "start_time": "2022-11-27T08:37:20.783Z"
   },
   {
    "duration": 5,
    "start_time": "2022-11-27T08:37:28.643Z"
   },
   {
    "duration": 50,
    "start_time": "2022-11-27T08:42:59.270Z"
   },
   {
    "duration": 193,
    "start_time": "2022-11-27T08:43:04.821Z"
   },
   {
    "duration": 60635,
    "start_time": "2022-11-27T08:43:05.016Z"
   },
   {
    "duration": 499,
    "start_time": "2022-11-27T08:44:05.653Z"
   },
   {
    "duration": 4,
    "start_time": "2022-11-27T08:44:06.154Z"
   },
   {
    "duration": 100,
    "start_time": "2022-11-27T08:44:06.160Z"
   },
   {
    "duration": 7,
    "start_time": "2022-11-27T08:44:06.263Z"
   },
   {
    "duration": 92,
    "start_time": "2022-11-27T08:44:06.272Z"
   },
   {
    "duration": 14,
    "start_time": "2022-11-27T08:44:06.366Z"
   },
   {
    "duration": 6,
    "start_time": "2022-11-27T08:44:06.381Z"
   },
   {
    "duration": 4,
    "start_time": "2022-11-27T08:44:06.389Z"
   },
   {
    "duration": 15,
    "start_time": "2022-11-27T08:44:06.395Z"
   },
   {
    "duration": 18,
    "start_time": "2022-11-27T08:44:06.412Z"
   },
   {
    "duration": 24,
    "start_time": "2022-11-27T08:44:06.432Z"
   },
   {
    "duration": 15,
    "start_time": "2022-11-27T08:44:06.458Z"
   },
   {
    "duration": 727,
    "start_time": "2022-11-27T08:44:06.475Z"
   },
   {
    "duration": 2,
    "start_time": "2022-11-27T08:44:07.204Z"
   },
   {
    "duration": 5,
    "start_time": "2022-11-27T08:44:07.208Z"
   },
   {
    "duration": 337,
    "start_time": "2022-11-27T08:44:07.215Z"
   },
   {
    "duration": 91,
    "start_time": "2022-11-27T08:44:07.560Z"
   },
   {
    "duration": 346,
    "start_time": "2022-11-27T08:44:07.653Z"
   },
   {
    "duration": 106,
    "start_time": "2022-11-27T08:44:08.001Z"
   },
   {
    "duration": 52,
    "start_time": "2022-11-27T10:56:57.115Z"
   },
   {
    "duration": 71,
    "start_time": "2022-11-27T10:57:37.875Z"
   },
   {
    "duration": 86,
    "start_time": "2022-11-27T14:52:43.223Z"
   },
   {
    "duration": 66,
    "start_time": "2022-11-27T14:53:12.490Z"
   },
   {
    "duration": 76,
    "start_time": "2022-11-27T14:54:02.116Z"
   },
   {
    "duration": 76,
    "start_time": "2022-11-27T14:54:13.315Z"
   },
   {
    "duration": 75,
    "start_time": "2022-11-27T14:56:33.835Z"
   },
   {
    "duration": 71,
    "start_time": "2022-11-27T14:57:10.400Z"
   },
   {
    "duration": 1527,
    "start_time": "2022-11-27T14:57:32.312Z"
   },
   {
    "duration": 157,
    "start_time": "2022-11-27T14:57:33.841Z"
   },
   {
    "duration": 24,
    "start_time": "2022-11-27T14:57:34.001Z"
   },
   {
    "duration": 15,
    "start_time": "2022-11-27T14:57:35.195Z"
   },
   {
    "duration": 39,
    "start_time": "2022-11-27T14:57:36.260Z"
   },
   {
    "duration": 49,
    "start_time": "2022-11-27T14:57:36.543Z"
   },
   {
    "duration": 15,
    "start_time": "2022-11-27T14:57:36.796Z"
   },
   {
    "duration": 14,
    "start_time": "2022-11-27T14:57:37.392Z"
   },
   {
    "duration": 11,
    "start_time": "2022-11-27T14:57:38.404Z"
   },
   {
    "duration": 6,
    "start_time": "2022-11-27T14:57:39.276Z"
   },
   {
    "duration": 7,
    "start_time": "2022-11-27T14:57:40.388Z"
   },
   {
    "duration": 1404,
    "start_time": "2022-11-27T14:58:22.910Z"
   },
   {
    "duration": 43,
    "start_time": "2022-11-27T14:58:24.316Z"
   },
   {
    "duration": 18,
    "start_time": "2022-11-27T14:58:24.360Z"
   },
   {
    "duration": 14,
    "start_time": "2022-11-27T14:58:25.785Z"
   },
   {
    "duration": 39,
    "start_time": "2022-11-27T14:58:27.163Z"
   },
   {
    "duration": 40,
    "start_time": "2022-11-27T14:58:27.456Z"
   },
   {
    "duration": 13,
    "start_time": "2022-11-27T14:58:27.811Z"
   },
   {
    "duration": 15,
    "start_time": "2022-11-27T14:58:28.609Z"
   },
   {
    "duration": 11,
    "start_time": "2022-11-27T14:58:29.783Z"
   },
   {
    "duration": 6,
    "start_time": "2022-11-27T14:58:32.573Z"
   },
   {
    "duration": 73,
    "start_time": "2022-11-27T14:59:29.417Z"
   },
   {
    "duration": 6,
    "start_time": "2022-11-27T14:59:48.644Z"
   },
   {
    "duration": 6,
    "start_time": "2022-11-27T14:59:49.266Z"
   },
   {
    "duration": 98,
    "start_time": "2022-11-27T15:05:56.338Z"
   },
   {
    "duration": 4,
    "start_time": "2022-11-27T15:06:00.447Z"
   },
   {
    "duration": 9,
    "start_time": "2022-11-27T15:07:25.567Z"
   },
   {
    "duration": 9,
    "start_time": "2022-11-27T15:07:48.367Z"
   },
   {
    "duration": 2948,
    "start_time": "2022-11-27T15:08:30.091Z"
   },
   {
    "duration": 21,
    "start_time": "2022-11-27T15:08:44.834Z"
   },
   {
    "duration": 11005,
    "start_time": "2022-11-27T15:08:47.724Z"
   },
   {
    "duration": 44,
    "start_time": "2022-11-27T15:09:46.481Z"
   },
   {
    "duration": 1350,
    "start_time": "2022-11-27T15:09:57.708Z"
   },
   {
    "duration": 151,
    "start_time": "2022-11-27T15:09:59.060Z"
   },
   {
    "duration": 17,
    "start_time": "2022-11-27T15:09:59.213Z"
   },
   {
    "duration": 14,
    "start_time": "2022-11-27T15:09:59.302Z"
   },
   {
    "duration": 40,
    "start_time": "2022-11-27T15:09:59.910Z"
   },
   {
    "duration": 45,
    "start_time": "2022-11-27T15:10:00.055Z"
   },
   {
    "duration": 17,
    "start_time": "2022-11-27T15:10:00.195Z"
   },
   {
    "duration": 15,
    "start_time": "2022-11-27T15:10:00.536Z"
   },
   {
    "duration": 12,
    "start_time": "2022-11-27T15:10:01.013Z"
   },
   {
    "duration": 6,
    "start_time": "2022-11-27T15:10:01.484Z"
   },
   {
    "duration": 6,
    "start_time": "2022-11-27T15:10:01.893Z"
   },
   {
    "duration": 7,
    "start_time": "2022-11-27T15:10:02.633Z"
   },
   {
    "duration": 6,
    "start_time": "2022-11-27T15:10:02.853Z"
   },
   {
    "duration": 1219,
    "start_time": "2022-11-27T15:10:03.205Z"
   },
   {
    "duration": 1894,
    "start_time": "2022-11-27T15:10:04.427Z"
   },
   {
    "duration": 45,
    "start_time": "2022-11-27T15:10:06.323Z"
   },
   {
    "duration": 10916,
    "start_time": "2022-11-27T15:10:06.618Z"
   },
   {
    "duration": 1328,
    "start_time": "2022-11-27T15:11:40.713Z"
   },
   {
    "duration": 152,
    "start_time": "2022-11-27T15:11:42.043Z"
   },
   {
    "duration": 16,
    "start_time": "2022-11-27T15:11:42.196Z"
   },
   {
    "duration": 21,
    "start_time": "2022-11-27T15:11:42.214Z"
   },
   {
    "duration": 41,
    "start_time": "2022-11-27T15:11:42.416Z"
   },
   {
    "duration": 40,
    "start_time": "2022-11-27T15:11:42.568Z"
   },
   {
    "duration": 16,
    "start_time": "2022-11-27T15:11:42.716Z"
   },
   {
    "duration": 14,
    "start_time": "2022-11-27T15:11:43.052Z"
   },
   {
    "duration": 11,
    "start_time": "2022-11-27T15:11:43.589Z"
   },
   {
    "duration": 6,
    "start_time": "2022-11-27T15:11:44.137Z"
   },
   {
    "duration": 7,
    "start_time": "2022-11-27T15:11:44.716Z"
   },
   {
    "duration": 6,
    "start_time": "2022-11-27T15:11:45.527Z"
   },
   {
    "duration": 8,
    "start_time": "2022-11-27T15:11:45.710Z"
   },
   {
    "duration": 1085,
    "start_time": "2022-11-27T15:11:46.068Z"
   },
   {
    "duration": 1958,
    "start_time": "2022-11-27T15:11:55.769Z"
   },
   {
    "duration": 45,
    "start_time": "2022-11-27T15:11:57.730Z"
   },
   {
    "duration": 11456,
    "start_time": "2022-11-27T15:11:57.777Z"
   },
   {
    "duration": 52,
    "start_time": "2022-11-27T15:14:11.017Z"
   },
   {
    "duration": 1374,
    "start_time": "2022-11-27T15:14:20.544Z"
   },
   {
    "duration": 169,
    "start_time": "2022-11-27T15:14:21.920Z"
   },
   {
    "duration": 19,
    "start_time": "2022-11-27T15:14:22.091Z"
   },
   {
    "duration": 14,
    "start_time": "2022-11-27T15:14:22.616Z"
   },
   {
    "duration": 39,
    "start_time": "2022-11-27T15:14:23.793Z"
   },
   {
    "duration": 44,
    "start_time": "2022-11-27T15:14:24.119Z"
   },
   {
    "duration": 14,
    "start_time": "2022-11-27T15:14:24.447Z"
   },
   {
    "duration": 12,
    "start_time": "2022-11-27T15:14:25.117Z"
   },
   {
    "duration": 12,
    "start_time": "2022-11-27T15:14:26.356Z"
   },
   {
    "duration": 7,
    "start_time": "2022-11-27T15:14:27.172Z"
   },
   {
    "duration": 8,
    "start_time": "2022-11-27T15:14:27.797Z"
   },
   {
    "duration": 6,
    "start_time": "2022-11-27T15:14:29.062Z"
   },
   {
    "duration": 5,
    "start_time": "2022-11-27T15:14:29.337Z"
   },
   {
    "duration": 1095,
    "start_time": "2022-11-27T15:14:29.997Z"
   },
   {
    "duration": 1923,
    "start_time": "2022-11-27T15:14:31.095Z"
   },
   {
    "duration": 2,
    "start_time": "2022-11-27T15:14:33.021Z"
   },
   {
    "duration": 18,
    "start_time": "2022-11-27T15:14:33.025Z"
   },
   {
    "duration": 6,
    "start_time": "2022-11-27T15:14:33.045Z"
   },
   {
    "duration": 17,
    "start_time": "2022-11-27T15:14:33.053Z"
   },
   {
    "duration": 16,
    "start_time": "2022-11-27T15:14:35.575Z"
   },
   {
    "duration": 19,
    "start_time": "2022-11-27T15:14:36.231Z"
   },
   {
    "duration": 6,
    "start_time": "2022-11-27T15:14:36.765Z"
   },
   {
    "duration": 10,
    "start_time": "2022-11-27T15:14:37.647Z"
   },
   {
    "duration": 81,
    "start_time": "2022-11-27T15:15:53.621Z"
   },
   {
    "duration": 26,
    "start_time": "2022-11-27T15:16:31.219Z"
   },
   {
    "duration": 16,
    "start_time": "2022-11-27T15:17:16.031Z"
   },
   {
    "duration": 12,
    "start_time": "2022-11-27T15:17:54.964Z"
   },
   {
    "duration": 6,
    "start_time": "2022-11-27T15:18:04.901Z"
   },
   {
    "duration": 14,
    "start_time": "2022-11-27T15:19:09.160Z"
   },
   {
    "duration": 13,
    "start_time": "2022-11-27T15:20:32.660Z"
   },
   {
    "duration": 18,
    "start_time": "2022-11-27T15:21:33.786Z"
   },
   {
    "duration": 15,
    "start_time": "2022-11-27T15:34:06.628Z"
   },
   {
    "duration": 14,
    "start_time": "2022-11-27T15:34:35.350Z"
   },
   {
    "duration": 30,
    "start_time": "2022-11-27T15:35:23.389Z"
   },
   {
    "duration": 14,
    "start_time": "2022-11-27T15:36:04.326Z"
   },
   {
    "duration": 10,
    "start_time": "2022-11-27T15:36:12.596Z"
   },
   {
    "duration": 13,
    "start_time": "2022-11-27T15:36:20.256Z"
   },
   {
    "duration": 31,
    "start_time": "2022-11-27T15:37:01.319Z"
   },
   {
    "duration": 13,
    "start_time": "2022-11-27T15:37:12.468Z"
   },
   {
    "duration": 12,
    "start_time": "2022-11-27T15:37:25.836Z"
   },
   {
    "duration": 95,
    "start_time": "2022-11-27T15:39:58.186Z"
   },
   {
    "duration": 71,
    "start_time": "2022-11-27T15:40:28.861Z"
   },
   {
    "duration": 1763,
    "start_time": "2022-11-27T15:49:26.543Z"
   },
   {
    "duration": 1739,
    "start_time": "2022-11-27T15:50:32.710Z"
   },
   {
    "duration": 0,
    "start_time": "2022-11-27T15:59:47.326Z"
   },
   {
    "duration": 0,
    "start_time": "2022-11-27T15:59:47.327Z"
   },
   {
    "duration": 518,
    "start_time": "2022-11-27T16:21:19.776Z"
   },
   {
    "duration": 17,
    "start_time": "2022-11-27T16:21:21.622Z"
   },
   {
    "duration": 10,
    "start_time": "2022-11-27T16:22:10.238Z"
   },
   {
    "duration": 14,
    "start_time": "2022-11-27T16:22:18.439Z"
   },
   {
    "duration": 11,
    "start_time": "2022-11-27T16:22:43.439Z"
   },
   {
    "duration": 1868,
    "start_time": "2022-11-27T16:27:31.734Z"
   },
   {
    "duration": 97,
    "start_time": "2022-11-27T16:27:45.075Z"
   },
   {
    "duration": 311564,
    "start_time": "2022-11-27T16:27:53.447Z"
   },
   {
    "duration": 12,
    "start_time": "2022-11-27T16:33:05.014Z"
   },
   {
    "duration": 92,
    "start_time": "2022-11-27T16:33:05.028Z"
   },
   {
    "duration": 1706,
    "start_time": "2022-11-27T16:41:13.107Z"
   },
   {
    "duration": 55,
    "start_time": "2022-11-27T16:41:16.239Z"
   },
   {
    "duration": 19,
    "start_time": "2022-11-27T16:41:16.607Z"
   },
   {
    "duration": 15,
    "start_time": "2022-11-27T16:41:17.697Z"
   },
   {
    "duration": 48,
    "start_time": "2022-11-27T16:41:18.752Z"
   },
   {
    "duration": 69,
    "start_time": "2022-11-27T16:41:19.090Z"
   },
   {
    "duration": 17,
    "start_time": "2022-11-27T16:41:19.447Z"
   },
   {
    "duration": 20,
    "start_time": "2022-11-27T16:41:20.127Z"
   },
   {
    "duration": 25,
    "start_time": "2022-11-27T16:41:21.274Z"
   },
   {
    "duration": 8,
    "start_time": "2022-11-27T16:41:21.908Z"
   },
   {
    "duration": 8,
    "start_time": "2022-11-27T16:41:22.567Z"
   },
   {
    "duration": 14,
    "start_time": "2022-11-27T16:41:23.887Z"
   },
   {
    "duration": 7,
    "start_time": "2022-11-27T16:41:24.211Z"
   },
   {
    "duration": 1243,
    "start_time": "2022-11-27T16:41:24.947Z"
   },
   {
    "duration": 2165,
    "start_time": "2022-11-27T16:41:26.192Z"
   },
   {
    "duration": 2,
    "start_time": "2022-11-27T16:41:28.360Z"
   },
   {
    "duration": 8,
    "start_time": "2022-11-27T16:41:28.365Z"
   },
   {
    "duration": 2482,
    "start_time": "2022-11-27T16:41:54.090Z"
   },
   {
    "duration": 14,
    "start_time": "2022-11-27T16:42:03.253Z"
   },
   {
    "duration": 23,
    "start_time": "2022-11-27T16:42:03.770Z"
   },
   {
    "duration": 1527,
    "start_time": "2022-11-27T16:42:04.407Z"
   },
   {
    "duration": 2,
    "start_time": "2022-11-27T16:42:05.936Z"
   },
   {
    "duration": 10,
    "start_time": "2022-11-27T16:42:05.941Z"
   },
   {
    "duration": 3,
    "start_time": "2022-11-27T16:42:06.144Z"
   },
   {
    "duration": 3,
    "start_time": "2022-11-27T16:42:06.688Z"
   },
   {
    "duration": 12,
    "start_time": "2022-11-27T16:42:08.539Z"
   },
   {
    "duration": 23,
    "start_time": "2022-11-27T16:42:09.440Z"
   },
   {
    "duration": 7,
    "start_time": "2022-11-27T16:42:09.826Z"
   },
   {
    "duration": 13,
    "start_time": "2022-11-27T16:42:11.714Z"
   },
   {
    "duration": 129,
    "start_time": "2022-11-27T16:42:16.618Z"
   },
   {
    "duration": 28,
    "start_time": "2022-11-27T16:42:19.213Z"
   },
   {
    "duration": 139,
    "start_time": "2022-11-27T16:42:57.044Z"
   },
   {
    "duration": 4,
    "start_time": "2022-11-27T16:43:23.707Z"
   },
   {
    "duration": 2217,
    "start_time": "2022-11-27T16:45:37.905Z"
   },
   {
    "duration": 1582,
    "start_time": "2022-11-27T16:45:40.125Z"
   },
   {
    "duration": 45,
    "start_time": "2022-11-27T16:45:41.708Z"
   },
   {
    "duration": 29,
    "start_time": "2022-11-27T16:45:41.756Z"
   },
   {
    "duration": 40,
    "start_time": "2022-11-27T16:45:41.793Z"
   },
   {
    "duration": 60,
    "start_time": "2022-11-27T16:45:41.835Z"
   },
   {
    "duration": 45,
    "start_time": "2022-11-27T16:45:41.896Z"
   },
   {
    "duration": 15,
    "start_time": "2022-11-27T16:45:41.942Z"
   },
   {
    "duration": 28,
    "start_time": "2022-11-27T16:45:41.959Z"
   },
   {
    "duration": 11,
    "start_time": "2022-11-27T16:45:42.541Z"
   },
   {
    "duration": 8,
    "start_time": "2022-11-27T16:45:43.018Z"
   },
   {
    "duration": 7,
    "start_time": "2022-11-27T16:45:43.437Z"
   },
   {
    "duration": 8,
    "start_time": "2022-11-27T16:45:44.218Z"
   },
   {
    "duration": 7,
    "start_time": "2022-11-27T16:45:44.405Z"
   },
   {
    "duration": 1186,
    "start_time": "2022-11-27T16:45:44.806Z"
   },
   {
    "duration": 5,
    "start_time": "2022-11-27T16:45:45.994Z"
   },
   {
    "duration": 44,
    "start_time": "2022-11-27T16:45:46.000Z"
   },
   {
    "duration": 55,
    "start_time": "2022-11-27T16:45:46.046Z"
   },
   {
    "duration": 27,
    "start_time": "2022-11-27T16:45:46.106Z"
   },
   {
    "duration": 13,
    "start_time": "2022-11-27T16:45:46.937Z"
   },
   {
    "duration": 32,
    "start_time": "2022-11-27T16:45:47.401Z"
   },
   {
    "duration": 8,
    "start_time": "2022-11-27T16:45:47.673Z"
   },
   {
    "duration": 13,
    "start_time": "2022-11-27T16:45:48.258Z"
   },
   {
    "duration": 31,
    "start_time": "2022-11-27T16:45:50.245Z"
   },
   {
    "duration": 14,
    "start_time": "2022-11-27T16:45:52.718Z"
   },
   {
    "duration": 316016,
    "start_time": "2022-11-27T16:46:01.182Z"
   },
   {
    "duration": 2061,
    "start_time": "2022-11-27T17:06:42.611Z"
   },
   {
    "duration": 1445,
    "start_time": "2022-11-27T17:06:44.674Z"
   },
   {
    "duration": 42,
    "start_time": "2022-11-27T17:06:46.121Z"
   },
   {
    "duration": 18,
    "start_time": "2022-11-27T17:06:46.165Z"
   },
   {
    "duration": 14,
    "start_time": "2022-11-27T17:06:47.126Z"
   },
   {
    "duration": 42,
    "start_time": "2022-11-27T17:06:49.045Z"
   },
   {
    "duration": 41,
    "start_time": "2022-11-27T17:06:49.273Z"
   },
   {
    "duration": 14,
    "start_time": "2022-11-27T17:06:49.759Z"
   },
   {
    "duration": 15,
    "start_time": "2022-11-27T17:06:50.703Z"
   },
   {
    "duration": 12,
    "start_time": "2022-11-27T17:06:51.809Z"
   },
   {
    "duration": 6,
    "start_time": "2022-11-27T17:06:52.500Z"
   },
   {
    "duration": 7,
    "start_time": "2022-11-27T17:06:52.705Z"
   },
   {
    "duration": 7,
    "start_time": "2022-11-27T17:06:54.123Z"
   },
   {
    "duration": 5,
    "start_time": "2022-11-27T17:06:54.461Z"
   },
   {
    "duration": 1141,
    "start_time": "2022-11-27T17:06:55.143Z"
   },
   {
    "duration": 2,
    "start_time": "2022-11-27T17:06:56.286Z"
   },
   {
    "duration": 2,
    "start_time": "2022-11-27T17:06:56.474Z"
   },
   {
    "duration": 2,
    "start_time": "2022-11-27T17:06:56.669Z"
   },
   {
    "duration": 2,
    "start_time": "2022-11-27T17:06:57.128Z"
   },
   {
    "duration": 9,
    "start_time": "2022-11-27T17:06:58.397Z"
   },
   {
    "duration": 21,
    "start_time": "2022-11-27T17:06:58.589Z"
   },
   {
    "duration": 5,
    "start_time": "2022-11-27T17:06:59.019Z"
   },
   {
    "duration": 11,
    "start_time": "2022-11-27T17:06:59.943Z"
   },
   {
    "duration": 36,
    "start_time": "2022-11-27T17:07:01.423Z"
   },
   {
    "duration": 13,
    "start_time": "2022-11-27T17:07:02.265Z"
   },
   {
    "duration": 5,
    "start_time": "2022-11-27T17:07:22.749Z"
   },
   {
    "duration": 4,
    "start_time": "2022-11-27T17:08:17.781Z"
   },
   {
    "duration": 108,
    "start_time": "2022-11-27T17:08:20.015Z"
   },
   {
    "duration": 67,
    "start_time": "2022-11-27T17:09:14.195Z"
   },
   {
    "duration": 3,
    "start_time": "2022-11-27T17:09:22.435Z"
   },
   {
    "duration": 6,
    "start_time": "2022-11-27T17:09:23.694Z"
   },
   {
    "duration": 12,
    "start_time": "2022-11-27T17:09:27.645Z"
   },
   {
    "duration": 5,
    "start_time": "2022-11-27T17:09:32.777Z"
   },
   {
    "duration": 12,
    "start_time": "2022-11-27T17:10:59.902Z"
   },
   {
    "duration": 14,
    "start_time": "2022-11-27T17:11:10.538Z"
   },
   {
    "duration": 2154,
    "start_time": "2022-11-27T17:11:34.802Z"
   },
   {
    "duration": 1376,
    "start_time": "2022-11-27T17:11:36.959Z"
   },
   {
    "duration": 40,
    "start_time": "2022-11-27T17:11:38.337Z"
   },
   {
    "duration": 15,
    "start_time": "2022-11-27T17:11:38.379Z"
   },
   {
    "duration": 32,
    "start_time": "2022-11-27T17:11:38.395Z"
   },
   {
    "duration": 55,
    "start_time": "2022-11-27T17:11:38.429Z"
   },
   {
    "duration": 38,
    "start_time": "2022-11-27T17:11:38.486Z"
   },
   {
    "duration": 14,
    "start_time": "2022-11-27T17:11:38.526Z"
   },
   {
    "duration": 13,
    "start_time": "2022-11-27T17:11:38.852Z"
   },
   {
    "duration": 10,
    "start_time": "2022-11-27T17:11:39.352Z"
   },
   {
    "duration": 7,
    "start_time": "2022-11-27T17:11:39.759Z"
   },
   {
    "duration": 7,
    "start_time": "2022-11-27T17:11:40.070Z"
   },
   {
    "duration": 6,
    "start_time": "2022-11-27T17:11:40.759Z"
   },
   {
    "duration": 5,
    "start_time": "2022-11-27T17:11:40.908Z"
   },
   {
    "duration": 1133,
    "start_time": "2022-11-27T17:11:41.259Z"
   },
   {
    "duration": 3,
    "start_time": "2022-11-27T17:11:42.394Z"
   },
   {
    "duration": 6,
    "start_time": "2022-11-27T17:11:42.400Z"
   },
   {
    "duration": 6,
    "start_time": "2022-11-27T17:11:42.408Z"
   },
   {
    "duration": 3,
    "start_time": "2022-11-27T17:11:42.682Z"
   },
   {
    "duration": 9,
    "start_time": "2022-11-27T17:11:43.468Z"
   },
   {
    "duration": 26,
    "start_time": "2022-11-27T17:11:44.016Z"
   },
   {
    "duration": 5,
    "start_time": "2022-11-27T17:11:44.206Z"
   },
   {
    "duration": 11,
    "start_time": "2022-11-27T17:11:44.672Z"
   },
   {
    "duration": 31,
    "start_time": "2022-11-27T17:11:45.663Z"
   },
   {
    "duration": 11,
    "start_time": "2022-11-27T17:11:45.965Z"
   },
   {
    "duration": 6,
    "start_time": "2022-11-27T17:12:26.960Z"
   },
   {
    "duration": 5,
    "start_time": "2022-11-27T17:12:27.407Z"
   },
   {
    "duration": 2,
    "start_time": "2022-11-27T17:12:39.889Z"
   },
   {
    "duration": 5,
    "start_time": "2022-11-27T17:12:41.373Z"
   },
   {
    "duration": 11,
    "start_time": "2022-11-27T17:12:55.610Z"
   },
   {
    "duration": 5,
    "start_time": "2022-11-27T17:13:12.463Z"
   },
   {
    "duration": 169,
    "start_time": "2022-11-27T17:14:17.223Z"
   },
   {
    "duration": 13,
    "start_time": "2022-11-27T17:14:58.363Z"
   },
   {
    "duration": 6,
    "start_time": "2022-11-27T17:15:04.368Z"
   },
   {
    "duration": 1969,
    "start_time": "2022-11-27T17:15:43.134Z"
   },
   {
    "duration": 1343,
    "start_time": "2022-11-27T17:15:45.105Z"
   },
   {
    "duration": 42,
    "start_time": "2022-11-27T17:15:46.450Z"
   },
   {
    "duration": 16,
    "start_time": "2022-11-27T17:15:46.494Z"
   },
   {
    "duration": 11,
    "start_time": "2022-11-27T17:15:46.512Z"
   },
   {
    "duration": 55,
    "start_time": "2022-11-27T17:15:46.525Z"
   },
   {
    "duration": 37,
    "start_time": "2022-11-27T17:15:46.581Z"
   },
   {
    "duration": 13,
    "start_time": "2022-11-27T17:15:46.620Z"
   },
   {
    "duration": 14,
    "start_time": "2022-11-27T17:15:46.698Z"
   },
   {
    "duration": 13,
    "start_time": "2022-11-27T17:15:47.283Z"
   },
   {
    "duration": 6,
    "start_time": "2022-11-27T17:15:48.089Z"
   },
   {
    "duration": 7,
    "start_time": "2022-11-27T17:15:48.504Z"
   },
   {
    "duration": 6,
    "start_time": "2022-11-27T17:15:49.154Z"
   },
   {
    "duration": 6,
    "start_time": "2022-11-27T17:15:49.289Z"
   },
   {
    "duration": 1094,
    "start_time": "2022-11-27T17:15:49.644Z"
   },
   {
    "duration": 2,
    "start_time": "2022-11-27T17:15:50.740Z"
   },
   {
    "duration": 13,
    "start_time": "2022-11-27T17:15:50.744Z"
   },
   {
    "duration": 2,
    "start_time": "2022-11-27T17:15:50.858Z"
   },
   {
    "duration": 2,
    "start_time": "2022-11-27T17:15:51.053Z"
   },
   {
    "duration": 10,
    "start_time": "2022-11-27T17:15:51.922Z"
   },
   {
    "duration": 20,
    "start_time": "2022-11-27T17:15:52.351Z"
   },
   {
    "duration": 5,
    "start_time": "2022-11-27T17:15:52.695Z"
   },
   {
    "duration": 11,
    "start_time": "2022-11-27T17:15:53.384Z"
   },
   {
    "duration": 29,
    "start_time": "2022-11-27T17:15:55.120Z"
   },
   {
    "duration": 12,
    "start_time": "2022-11-27T17:15:55.951Z"
   },
   {
    "duration": 6,
    "start_time": "2022-11-27T17:16:03.537Z"
   },
   {
    "duration": 8,
    "start_time": "2022-11-27T17:16:04.053Z"
   },
   {
    "duration": 2,
    "start_time": "2022-11-27T17:16:10.974Z"
   },
   {
    "duration": 4,
    "start_time": "2022-11-27T17:16:11.747Z"
   },
   {
    "duration": 12,
    "start_time": "2022-11-27T17:16:13.873Z"
   },
   {
    "duration": 5,
    "start_time": "2022-11-27T17:16:18.210Z"
   },
   {
    "duration": 93,
    "start_time": "2022-11-27T17:17:14.612Z"
   },
   {
    "duration": 77,
    "start_time": "2022-11-27T17:17:30.052Z"
   },
   {
    "duration": 3,
    "start_time": "2022-11-27T17:24:16.854Z"
   },
   {
    "duration": 8,
    "start_time": "2022-11-27T17:24:43.419Z"
   },
   {
    "duration": 4,
    "start_time": "2022-11-27T17:25:09.708Z"
   },
   {
    "duration": 2004,
    "start_time": "2022-11-27T17:30:56.017Z"
   },
   {
    "duration": 1385,
    "start_time": "2022-11-27T17:30:58.023Z"
   },
   {
    "duration": 42,
    "start_time": "2022-11-27T17:30:59.410Z"
   },
   {
    "duration": 17,
    "start_time": "2022-11-27T17:30:59.455Z"
   },
   {
    "duration": 30,
    "start_time": "2022-11-27T17:30:59.474Z"
   },
   {
    "duration": 52,
    "start_time": "2022-11-27T17:30:59.506Z"
   },
   {
    "duration": 43,
    "start_time": "2022-11-27T17:30:59.560Z"
   },
   {
    "duration": 15,
    "start_time": "2022-11-27T17:30:59.605Z"
   },
   {
    "duration": 23,
    "start_time": "2022-11-27T17:30:59.622Z"
   },
   {
    "duration": 12,
    "start_time": "2022-11-27T17:30:59.647Z"
   },
   {
    "duration": 19,
    "start_time": "2022-11-27T17:30:59.661Z"
   },
   {
    "duration": 8,
    "start_time": "2022-11-27T17:30:59.687Z"
   },
   {
    "duration": 8,
    "start_time": "2022-11-27T17:30:59.697Z"
   },
   {
    "duration": 12,
    "start_time": "2022-11-27T17:30:59.708Z"
   },
   {
    "duration": 1237,
    "start_time": "2022-11-27T17:30:59.722Z"
   },
   {
    "duration": 3,
    "start_time": "2022-11-27T17:31:00.961Z"
   },
   {
    "duration": 14,
    "start_time": "2022-11-27T17:31:00.965Z"
   },
   {
    "duration": 25,
    "start_time": "2022-11-27T17:31:00.980Z"
   },
   {
    "duration": 34,
    "start_time": "2022-11-27T17:31:01.007Z"
   },
   {
    "duration": 45,
    "start_time": "2022-11-27T17:31:01.043Z"
   },
   {
    "duration": 33,
    "start_time": "2022-11-27T17:31:01.090Z"
   },
   {
    "duration": 13,
    "start_time": "2022-11-27T17:31:01.125Z"
   },
   {
    "duration": 11,
    "start_time": "2022-11-27T17:31:01.140Z"
   },
   {
    "duration": 40,
    "start_time": "2022-11-27T17:31:01.154Z"
   },
   {
    "duration": 14,
    "start_time": "2022-11-27T17:31:01.196Z"
   },
   {
    "duration": 1926,
    "start_time": "2022-11-27T17:31:01.212Z"
   },
   {
    "duration": 1966,
    "start_time": "2022-11-27T17:32:35.201Z"
   },
   {
    "duration": 1428,
    "start_time": "2022-11-27T17:32:37.170Z"
   },
   {
    "duration": 41,
    "start_time": "2022-11-27T17:32:38.600Z"
   },
   {
    "duration": 16,
    "start_time": "2022-11-27T17:32:38.643Z"
   },
   {
    "duration": 12,
    "start_time": "2022-11-27T17:32:38.661Z"
   },
   {
    "duration": 45,
    "start_time": "2022-11-27T17:32:38.675Z"
   },
   {
    "duration": 38,
    "start_time": "2022-11-27T17:32:38.722Z"
   },
   {
    "duration": 56,
    "start_time": "2022-11-27T17:32:38.762Z"
   },
   {
    "duration": 16,
    "start_time": "2022-11-27T17:32:38.820Z"
   },
   {
    "duration": 15,
    "start_time": "2022-11-27T17:32:38.837Z"
   },
   {
    "duration": 17,
    "start_time": "2022-11-27T17:32:38.854Z"
   },
   {
    "duration": 23,
    "start_time": "2022-11-27T17:32:38.872Z"
   },
   {
    "duration": 9,
    "start_time": "2022-11-27T17:32:38.897Z"
   },
   {
    "duration": 16,
    "start_time": "2022-11-27T17:32:38.910Z"
   },
   {
    "duration": 1165,
    "start_time": "2022-11-27T17:32:38.928Z"
   },
   {
    "duration": 2,
    "start_time": "2022-11-27T17:32:40.095Z"
   },
   {
    "duration": 5,
    "start_time": "2022-11-27T17:32:40.098Z"
   },
   {
    "duration": 6,
    "start_time": "2022-11-27T17:32:40.105Z"
   },
   {
    "duration": 5,
    "start_time": "2022-11-27T17:32:40.112Z"
   },
   {
    "duration": 14,
    "start_time": "2022-11-27T17:32:40.119Z"
   },
   {
    "duration": 26,
    "start_time": "2022-11-27T17:32:40.134Z"
   },
   {
    "duration": 4,
    "start_time": "2022-11-27T17:32:40.162Z"
   },
   {
    "duration": 24,
    "start_time": "2022-11-27T17:32:40.168Z"
   },
   {
    "duration": 30,
    "start_time": "2022-11-27T17:32:40.194Z"
   },
   {
    "duration": 13,
    "start_time": "2022-11-27T17:32:40.226Z"
   },
   {
    "duration": 11,
    "start_time": "2022-11-27T17:32:40.241Z"
   },
   {
    "duration": 10,
    "start_time": "2022-11-27T17:32:40.254Z"
   },
   {
    "duration": 33,
    "start_time": "2022-11-27T17:32:40.265Z"
   },
   {
    "duration": 10,
    "start_time": "2022-11-27T17:32:40.300Z"
   },
   {
    "duration": 9,
    "start_time": "2022-11-27T17:32:40.311Z"
   },
   {
    "duration": 4,
    "start_time": "2022-11-27T17:32:40.322Z"
   },
   {
    "duration": 6,
    "start_time": "2022-11-27T17:32:40.328Z"
   },
   {
    "duration": 15,
    "start_time": "2022-11-27T17:32:40.336Z"
   },
   {
    "duration": 5,
    "start_time": "2022-11-27T17:32:40.353Z"
   },
   {
    "duration": 5,
    "start_time": "2022-11-27T17:32:40.360Z"
   },
   {
    "duration": 24,
    "start_time": "2022-11-27T17:32:40.367Z"
   },
   {
    "duration": 5,
    "start_time": "2022-11-27T17:32:40.393Z"
   },
   {
    "duration": 652,
    "start_time": "2022-11-27T17:32:40.399Z"
   },
   {
    "duration": 2,
    "start_time": "2022-11-27T17:32:41.053Z"
   },
   {
    "duration": 140,
    "start_time": "2022-11-27T17:32:41.057Z"
   },
   {
    "duration": 0,
    "start_time": "2022-11-27T17:32:41.199Z"
   },
   {
    "duration": 0,
    "start_time": "2022-11-27T17:32:41.200Z"
   },
   {
    "duration": 0,
    "start_time": "2022-11-27T17:32:41.201Z"
   },
   {
    "duration": 0,
    "start_time": "2022-11-27T17:32:41.203Z"
   },
   {
    "duration": 75,
    "start_time": "2022-11-27T17:41:49.932Z"
   },
   {
    "duration": 1012,
    "start_time": "2022-11-27T17:46:05.113Z"
   },
   {
    "duration": 984,
    "start_time": "2022-11-27T17:46:14.261Z"
   },
   {
    "duration": 993,
    "start_time": "2022-11-27T17:46:31.823Z"
   },
   {
    "duration": 600,
    "start_time": "2022-11-27T17:47:04.495Z"
   },
   {
    "duration": 71,
    "start_time": "2022-11-27T17:48:54.191Z"
   },
   {
    "duration": 3,
    "start_time": "2022-11-27T17:49:32.949Z"
   },
   {
    "duration": 2,
    "start_time": "2022-11-27T17:49:39.196Z"
   },
   {
    "duration": 1120,
    "start_time": "2022-11-27T17:51:14.563Z"
   },
   {
    "duration": 588,
    "start_time": "2022-11-27T17:51:16.799Z"
   },
   {
    "duration": 548,
    "start_time": "2022-11-27T17:51:33.468Z"
   },
   {
    "duration": 1918,
    "start_time": "2022-11-27T17:52:24.020Z"
   },
   {
    "duration": 1342,
    "start_time": "2022-11-27T17:52:25.940Z"
   },
   {
    "duration": 42,
    "start_time": "2022-11-27T17:52:27.284Z"
   },
   {
    "duration": 19,
    "start_time": "2022-11-27T17:52:27.328Z"
   },
   {
    "duration": 26,
    "start_time": "2022-11-27T17:52:27.349Z"
   },
   {
    "duration": 40,
    "start_time": "2022-11-27T17:52:27.445Z"
   },
   {
    "duration": 38,
    "start_time": "2022-11-27T17:52:27.699Z"
   },
   {
    "duration": 16,
    "start_time": "2022-11-27T17:52:27.957Z"
   },
   {
    "duration": 19,
    "start_time": "2022-11-27T17:52:28.516Z"
   },
   {
    "duration": 12,
    "start_time": "2022-11-27T17:52:29.277Z"
   },
   {
    "duration": 6,
    "start_time": "2022-11-27T17:52:29.741Z"
   },
   {
    "duration": 7,
    "start_time": "2022-11-27T17:52:30.176Z"
   },
   {
    "duration": 6,
    "start_time": "2022-11-27T17:52:30.896Z"
   },
   {
    "duration": 7,
    "start_time": "2022-11-27T17:52:31.096Z"
   },
   {
    "duration": 1082,
    "start_time": "2022-11-27T17:52:31.394Z"
   },
   {
    "duration": 2,
    "start_time": "2022-11-27T17:52:32.478Z"
   },
   {
    "duration": 45,
    "start_time": "2022-11-27T17:52:32.482Z"
   },
   {
    "duration": 20,
    "start_time": "2022-11-27T17:52:32.530Z"
   },
   {
    "duration": 24,
    "start_time": "2022-11-27T17:52:32.552Z"
   },
   {
    "duration": 10,
    "start_time": "2022-11-27T17:52:33.128Z"
   },
   {
    "duration": 19,
    "start_time": "2022-11-27T17:52:33.485Z"
   },
   {
    "duration": 5,
    "start_time": "2022-11-27T17:52:33.977Z"
   },
   {
    "duration": 11,
    "start_time": "2022-11-27T17:52:34.764Z"
   },
   {
    "duration": 33,
    "start_time": "2022-11-27T17:52:35.556Z"
   },
   {
    "duration": 18,
    "start_time": "2022-11-27T17:52:35.792Z"
   },
   {
    "duration": 8,
    "start_time": "2022-11-27T17:52:50.204Z"
   },
   {
    "duration": 6,
    "start_time": "2022-11-27T17:52:50.496Z"
   },
   {
    "duration": 3,
    "start_time": "2022-11-27T17:52:52.391Z"
   },
   {
    "duration": 4,
    "start_time": "2022-11-27T17:52:52.676Z"
   },
   {
    "duration": 14,
    "start_time": "2022-11-27T17:52:53.249Z"
   },
   {
    "duration": 7,
    "start_time": "2022-11-27T17:52:54.087Z"
   },
   {
    "duration": 4,
    "start_time": "2022-11-27T17:52:54.685Z"
   },
   {
    "duration": 9,
    "start_time": "2022-11-27T17:52:55.007Z"
   },
   {
    "duration": 5,
    "start_time": "2022-11-27T17:52:57.116Z"
   },
   {
    "duration": 1052,
    "start_time": "2022-11-27T17:53:04.947Z"
   },
   {
    "duration": 1009,
    "start_time": "2022-11-27T17:53:24.492Z"
   },
   {
    "duration": 566,
    "start_time": "2022-11-27T17:53:32.604Z"
   },
   {
    "duration": 95,
    "start_time": "2022-11-27T17:54:48.308Z"
   },
   {
    "duration": 217,
    "start_time": "2022-11-27T17:54:58.265Z"
   },
   {
    "duration": 248,
    "start_time": "2022-11-27T17:55:24.631Z"
   },
   {
    "duration": 267,
    "start_time": "2022-11-27T17:55:34.511Z"
   },
   {
    "duration": 216,
    "start_time": "2022-11-27T17:56:07.865Z"
   },
   {
    "duration": 214,
    "start_time": "2022-11-27T17:56:17.472Z"
   },
   {
    "duration": 69,
    "start_time": "2022-11-27T17:57:51.531Z"
   },
   {
    "duration": 91,
    "start_time": "2022-11-27T17:58:36.553Z"
   },
   {
    "duration": 73,
    "start_time": "2022-11-27T17:59:19.092Z"
   },
   {
    "duration": 67,
    "start_time": "2022-11-27T17:59:36.739Z"
   },
   {
    "duration": 525,
    "start_time": "2022-11-27T18:02:47.421Z"
   },
   {
    "duration": 592,
    "start_time": "2022-11-27T18:03:23.676Z"
   },
   {
    "duration": 19,
    "start_time": "2022-11-27T18:05:10.462Z"
   },
   {
    "duration": 1984,
    "start_time": "2022-11-27T18:05:56.514Z"
   },
   {
    "duration": 1369,
    "start_time": "2022-11-27T18:05:58.500Z"
   },
   {
    "duration": 42,
    "start_time": "2022-11-27T18:05:59.870Z"
   },
   {
    "duration": 16,
    "start_time": "2022-11-27T18:05:59.914Z"
   },
   {
    "duration": 12,
    "start_time": "2022-11-27T18:05:59.932Z"
   },
   {
    "duration": 43,
    "start_time": "2022-11-27T18:05:59.946Z"
   },
   {
    "duration": 46,
    "start_time": "2022-11-27T18:05:59.990Z"
   },
   {
    "duration": 15,
    "start_time": "2022-11-27T18:06:00.038Z"
   },
   {
    "duration": 32,
    "start_time": "2022-11-27T18:06:00.055Z"
   },
   {
    "duration": 17,
    "start_time": "2022-11-27T18:06:00.089Z"
   },
   {
    "duration": 10,
    "start_time": "2022-11-27T18:06:00.107Z"
   },
   {
    "duration": 10,
    "start_time": "2022-11-27T18:06:00.118Z"
   },
   {
    "duration": 9,
    "start_time": "2022-11-27T18:06:00.129Z"
   },
   {
    "duration": 5,
    "start_time": "2022-11-27T18:06:00.141Z"
   },
   {
    "duration": 1316,
    "start_time": "2022-11-27T18:06:00.148Z"
   },
   {
    "duration": 2,
    "start_time": "2022-11-27T18:06:01.467Z"
   },
   {
    "duration": 21,
    "start_time": "2022-11-27T18:06:01.471Z"
   },
   {
    "duration": 7,
    "start_time": "2022-11-27T18:06:01.494Z"
   },
   {
    "duration": 10,
    "start_time": "2022-11-27T18:06:01.503Z"
   },
   {
    "duration": 24,
    "start_time": "2022-11-27T18:06:01.515Z"
   },
   {
    "duration": 25,
    "start_time": "2022-11-27T18:06:01.540Z"
   },
   {
    "duration": 6,
    "start_time": "2022-11-27T18:06:01.567Z"
   },
   {
    "duration": 30,
    "start_time": "2022-11-27T18:06:01.575Z"
   },
   {
    "duration": 41,
    "start_time": "2022-11-27T18:06:01.607Z"
   },
   {
    "duration": 16,
    "start_time": "2022-11-27T18:06:01.649Z"
   },
   {
    "duration": 1821,
    "start_time": "2022-11-27T18:06:01.667Z"
   },
   {
    "duration": 304874,
    "start_time": "2022-11-27T18:06:03.491Z"
   },
   {
    "duration": 411911,
    "start_time": "2022-11-27T18:11:08.367Z"
   },
   {
    "duration": 8,
    "start_time": "2022-11-27T18:18:00.280Z"
   },
   {
    "duration": 18,
    "start_time": "2022-11-27T18:18:00.378Z"
   },
   {
    "duration": 34,
    "start_time": "2022-11-27T18:18:00.398Z"
   },
   {
    "duration": 32,
    "start_time": "2022-11-27T18:18:00.433Z"
   },
   {
    "duration": 33,
    "start_time": "2022-11-27T18:18:00.467Z"
   },
   {
    "duration": 26,
    "start_time": "2022-11-27T18:18:00.502Z"
   },
   {
    "duration": 42,
    "start_time": "2022-11-27T18:18:00.530Z"
   },
   {
    "duration": 50,
    "start_time": "2022-11-27T18:18:00.574Z"
   },
   {
    "duration": 34,
    "start_time": "2022-11-27T18:18:00.626Z"
   },
   {
    "duration": 1202,
    "start_time": "2022-11-27T18:18:00.662Z"
   },
   {
    "duration": 623,
    "start_time": "2022-11-27T18:18:01.865Z"
   },
   {
    "duration": 297,
    "start_time": "2022-11-27T18:18:02.490Z"
   },
   {
    "duration": 684,
    "start_time": "2022-11-27T18:18:02.882Z"
   },
   {
    "duration": 72,
    "start_time": "2022-11-27T18:18:03.568Z"
   },
   {
    "duration": 32,
    "start_time": "2022-11-27T18:18:30.415Z"
   },
   {
    "duration": 21,
    "start_time": "2022-11-27T18:19:10.329Z"
   },
   {
    "duration": 21,
    "start_time": "2022-11-27T18:23:20.405Z"
   },
   {
    "duration": 1967,
    "start_time": "2022-11-28T11:03:37.931Z"
   },
   {
    "duration": 1295,
    "start_time": "2022-11-28T11:03:39.900Z"
   },
   {
    "duration": 40,
    "start_time": "2022-11-28T11:03:41.196Z"
   },
   {
    "duration": 15,
    "start_time": "2022-11-28T11:03:41.238Z"
   },
   {
    "duration": 15,
    "start_time": "2022-11-28T11:03:41.254Z"
   },
   {
    "duration": 51,
    "start_time": "2022-11-28T11:03:41.271Z"
   },
   {
    "duration": 35,
    "start_time": "2022-11-28T11:03:41.323Z"
   },
   {
    "duration": 13,
    "start_time": "2022-11-28T11:03:41.359Z"
   },
   {
    "duration": 13,
    "start_time": "2022-11-28T11:03:41.373Z"
   },
   {
    "duration": 33,
    "start_time": "2022-11-28T11:03:41.388Z"
   },
   {
    "duration": 5,
    "start_time": "2022-11-28T11:03:41.423Z"
   },
   {
    "duration": 8,
    "start_time": "2022-11-28T11:03:41.429Z"
   },
   {
    "duration": 8,
    "start_time": "2022-11-28T11:03:41.438Z"
   },
   {
    "duration": 5,
    "start_time": "2022-11-28T11:03:41.447Z"
   },
   {
    "duration": 1070,
    "start_time": "2022-11-28T11:03:41.454Z"
   },
   {
    "duration": 2,
    "start_time": "2022-11-28T11:03:42.526Z"
   },
   {
    "duration": 5,
    "start_time": "2022-11-28T11:03:42.530Z"
   },
   {
    "duration": 8,
    "start_time": "2022-11-28T11:03:42.536Z"
   },
   {
    "duration": 4,
    "start_time": "2022-11-28T11:03:42.546Z"
   },
   {
    "duration": 15,
    "start_time": "2022-11-28T11:03:42.552Z"
   },
   {
    "duration": 23,
    "start_time": "2022-11-28T11:03:42.569Z"
   },
   {
    "duration": 6,
    "start_time": "2022-11-28T11:03:42.594Z"
   },
   {
    "duration": 10,
    "start_time": "2022-11-28T11:03:42.621Z"
   },
   {
    "duration": 1985,
    "start_time": "2022-11-28T11:11:27.421Z"
   },
   {
    "duration": 4,
    "start_time": "2022-11-28T11:11:29.408Z"
   },
   {
    "duration": 44,
    "start_time": "2022-11-28T11:11:29.413Z"
   },
   {
    "duration": 12,
    "start_time": "2022-11-28T11:11:29.459Z"
   },
   {
    "duration": 14,
    "start_time": "2022-11-28T11:11:29.472Z"
   },
   {
    "duration": 37,
    "start_time": "2022-11-28T11:11:29.487Z"
   },
   {
    "duration": 37,
    "start_time": "2022-11-28T11:11:29.525Z"
   },
   {
    "duration": 12,
    "start_time": "2022-11-28T11:11:29.564Z"
   },
   {
    "duration": 13,
    "start_time": "2022-11-28T11:11:29.578Z"
   },
   {
    "duration": 33,
    "start_time": "2022-11-28T11:11:29.593Z"
   },
   {
    "duration": 6,
    "start_time": "2022-11-28T11:11:29.627Z"
   },
   {
    "duration": 8,
    "start_time": "2022-11-28T11:11:29.634Z"
   },
   {
    "duration": 7,
    "start_time": "2022-11-28T11:11:29.643Z"
   },
   {
    "duration": 6,
    "start_time": "2022-11-28T11:11:29.652Z"
   },
   {
    "duration": 1118,
    "start_time": "2022-11-28T11:11:29.659Z"
   },
   {
    "duration": 2,
    "start_time": "2022-11-28T11:11:30.779Z"
   },
   {
    "duration": 43,
    "start_time": "2022-11-28T11:11:30.782Z"
   },
   {
    "duration": 26,
    "start_time": "2022-11-28T11:11:30.827Z"
   },
   {
    "duration": 9680,
    "start_time": "2022-11-28T11:11:40.038Z"
   },
   {
    "duration": 4,
    "start_time": "2022-11-28T11:12:35.167Z"
   },
   {
    "duration": 9278,
    "start_time": "2022-11-28T11:12:41.041Z"
   },
   {
    "duration": 8,
    "start_time": "2022-11-28T11:15:09.633Z"
   },
   {
    "duration": 9180,
    "start_time": "2022-11-28T11:15:22.439Z"
   },
   {
    "duration": 47,
    "start_time": "2022-11-28T11:31:43.406Z"
   },
   {
    "duration": 1597,
    "start_time": "2022-11-28T11:32:09.746Z"
   },
   {
    "duration": 0,
    "start_time": "2022-11-28T11:32:11.344Z"
   },
   {
    "duration": 0,
    "start_time": "2022-11-28T11:32:11.345Z"
   },
   {
    "duration": 9,
    "start_time": "2022-11-28T11:32:11.589Z"
   },
   {
    "duration": 9,
    "start_time": "2022-11-28T11:32:12.145Z"
   },
   {
    "duration": 8,
    "start_time": "2022-11-28T11:32:12.301Z"
   },
   {
    "duration": 7,
    "start_time": "2022-11-28T11:32:12.447Z"
   },
   {
    "duration": 3011,
    "start_time": "2022-11-28T11:32:26.246Z"
   },
   {
    "duration": 69,
    "start_time": "2022-11-28T11:32:29.259Z"
   },
   {
    "duration": 176,
    "start_time": "2022-11-28T11:32:31.827Z"
   },
   {
    "duration": 23,
    "start_time": "2022-11-28T11:32:32.170Z"
   },
   {
    "duration": 12,
    "start_time": "2022-11-28T11:32:33.258Z"
   },
   {
    "duration": 39,
    "start_time": "2022-11-28T11:32:33.792Z"
   },
   {
    "duration": 58,
    "start_time": "2022-11-28T11:32:33.935Z"
   },
   {
    "duration": 14,
    "start_time": "2022-11-28T11:32:34.258Z"
   },
   {
    "duration": 17,
    "start_time": "2022-11-28T11:32:35.698Z"
   },
   {
    "duration": 13,
    "start_time": "2022-11-28T11:32:36.225Z"
   },
   {
    "duration": 9,
    "start_time": "2022-11-28T11:32:36.551Z"
   },
   {
    "duration": 8,
    "start_time": "2022-11-28T11:32:36.791Z"
   },
   {
    "duration": 6,
    "start_time": "2022-11-28T11:32:37.424Z"
   },
   {
    "duration": 6,
    "start_time": "2022-11-28T11:32:37.596Z"
   },
   {
    "duration": 1139,
    "start_time": "2022-11-28T11:32:37.894Z"
   },
   {
    "duration": 2,
    "start_time": "2022-11-28T11:32:39.035Z"
   },
   {
    "duration": 15,
    "start_time": "2022-11-28T11:32:39.039Z"
   },
   {
    "duration": 8,
    "start_time": "2022-11-28T11:32:39.056Z"
   },
   {
    "duration": 3,
    "start_time": "2022-11-28T11:32:39.238Z"
   },
   {
    "duration": 10,
    "start_time": "2022-11-28T11:32:40.734Z"
   },
   {
    "duration": 20,
    "start_time": "2022-11-28T11:32:41.138Z"
   },
   {
    "duration": 5,
    "start_time": "2022-11-28T11:32:41.366Z"
   },
   {
    "duration": 11,
    "start_time": "2022-11-28T11:32:42.293Z"
   },
   {
    "duration": 29,
    "start_time": "2022-11-28T11:32:43.465Z"
   },
   {
    "duration": 15,
    "start_time": "2022-11-28T11:32:43.788Z"
   },
   {
    "duration": 523,
    "start_time": "2022-11-28T11:33:00.770Z"
   },
   {
    "duration": 812,
    "start_time": "2022-11-28T11:33:24.769Z"
   },
   {
    "duration": 89,
    "start_time": "2022-11-28T11:34:19.044Z"
   },
   {
    "duration": 90,
    "start_time": "2022-11-28T11:36:26.925Z"
   },
   {
    "duration": 70,
    "start_time": "2022-11-28T13:19:46.953Z"
   },
   {
    "duration": 2993,
    "start_time": "2022-11-28T13:20:09.266Z"
   },
   {
    "duration": 1585,
    "start_time": "2022-11-28T13:20:12.261Z"
   },
   {
    "duration": 84,
    "start_time": "2022-11-28T13:20:14.676Z"
   },
   {
    "duration": 19,
    "start_time": "2022-11-28T13:20:15.085Z"
   },
   {
    "duration": 14,
    "start_time": "2022-11-28T13:20:16.377Z"
   },
   {
    "duration": 43,
    "start_time": "2022-11-28T13:20:17.318Z"
   },
   {
    "duration": 42,
    "start_time": "2022-11-28T13:20:17.673Z"
   },
   {
    "duration": 17,
    "start_time": "2022-11-28T13:20:18.077Z"
   },
   {
    "duration": 14,
    "start_time": "2022-11-28T13:20:18.771Z"
   },
   {
    "duration": 11,
    "start_time": "2022-11-28T13:20:23.514Z"
   },
   {
    "duration": 7,
    "start_time": "2022-11-28T13:20:24.096Z"
   },
   {
    "duration": 6,
    "start_time": "2022-11-28T13:20:24.507Z"
   },
   {
    "duration": 6,
    "start_time": "2022-11-28T13:20:25.225Z"
   },
   {
    "duration": 7,
    "start_time": "2022-11-28T13:20:25.394Z"
   },
   {
    "duration": 1342,
    "start_time": "2022-11-28T13:20:25.765Z"
   },
   {
    "duration": 2,
    "start_time": "2022-11-28T13:20:27.110Z"
   },
   {
    "duration": 9,
    "start_time": "2022-11-28T13:20:27.114Z"
   },
   {
    "duration": 19,
    "start_time": "2022-11-28T13:20:27.125Z"
   },
   {
    "duration": 15,
    "start_time": "2022-11-28T13:20:27.145Z"
   },
   {
    "duration": 11,
    "start_time": "2022-11-28T13:20:27.773Z"
   },
   {
    "duration": 24,
    "start_time": "2022-11-28T13:20:28.193Z"
   },
   {
    "duration": 5,
    "start_time": "2022-11-28T13:20:28.386Z"
   },
   {
    "duration": 12,
    "start_time": "2022-11-28T13:20:28.725Z"
   },
   {
    "duration": 35,
    "start_time": "2022-11-28T13:20:29.253Z"
   },
   {
    "duration": 14,
    "start_time": "2022-11-28T13:20:29.733Z"
   },
   {
    "duration": 6,
    "start_time": "2022-11-28T13:20:46.281Z"
   },
   {
    "duration": 7,
    "start_time": "2022-11-28T13:20:46.539Z"
   },
   {
    "duration": 3,
    "start_time": "2022-11-28T13:20:48.774Z"
   },
   {
    "duration": 5,
    "start_time": "2022-11-28T13:20:49.093Z"
   },
   {
    "duration": 12,
    "start_time": "2022-11-28T13:20:49.675Z"
   },
   {
    "duration": 5,
    "start_time": "2022-11-28T13:20:50.880Z"
   },
   {
    "duration": 5,
    "start_time": "2022-11-28T13:20:54.133Z"
   },
   {
    "duration": 11,
    "start_time": "2022-11-28T13:20:54.417Z"
   },
   {
    "duration": 5,
    "start_time": "2022-11-28T13:20:54.767Z"
   },
   {
    "duration": 476,
    "start_time": "2022-11-28T13:22:01.304Z"
   },
   {
    "duration": 279,
    "start_time": "2022-11-28T13:22:12.239Z"
   },
   {
    "duration": 122,
    "start_time": "2022-11-28T13:22:35.192Z"
   }
  ],
  "kernelspec": {
   "display_name": "Python 3 (ipykernel)",
   "language": "python",
   "name": "python3"
  },
  "language_info": {
   "codemirror_mode": {
    "name": "ipython",
    "version": 3
   },
   "file_extension": ".py",
   "mimetype": "text/x-python",
   "name": "python",
   "nbconvert_exporter": "python",
   "pygments_lexer": "ipython3",
   "version": "3.9.5"
  },
  "toc": {
   "base_numbering": 1,
   "nav_menu": {},
   "number_sections": true,
   "sideBar": true,
   "skip_h1_title": true,
   "title_cell": "Содержание",
   "title_sidebar": "Contents",
   "toc_cell": true,
   "toc_position": {
    "height": "calc(100% - 180px)",
    "left": "10px",
    "top": "150px",
    "width": "165px"
   },
   "toc_section_display": true,
   "toc_window_display": true
  }
 },
 "nbformat": 4,
 "nbformat_minor": 2
}
